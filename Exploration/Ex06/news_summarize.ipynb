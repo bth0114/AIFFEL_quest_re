{
 "cells": [
  {
   "cell_type": "markdown",
   "id": "189decef",
   "metadata": {},
   "source": [
    "### Step 1. 데이터 수집하기\n",
    "데이터는 아래 링크에 있는 뉴스 기사 데이터(news_summary_more.csv)를 사용하세요."
   ]
  },
  {
   "cell_type": "code",
   "execution_count": 1,
   "id": "80833d65",
   "metadata": {},
   "outputs": [],
   "source": [
    "from importlib.metadata import version\n",
    "import nltk\n",
    "import tensorflow\n",
    "import summa\n",
    "import numpy as np\n",
    "import pandas as pd\n",
    "import os\n",
    "import re\n",
    "import matplotlib.pyplot as plt\n",
    "from nltk.corpus import stopwords\n",
    "from bs4 import BeautifulSoup \n",
    "from tensorflow.keras.preprocessing.text import Tokenizer \n",
    "from tensorflow.keras.preprocessing.sequence import pad_sequences\n",
    "import urllib.request\n",
    "import warnings\n",
    "warnings.filterwarnings(\"ignore\", category=UserWarning, module='bs4')"
   ]
  },
  {
   "cell_type": "code",
   "execution_count": 2,
   "id": "fd90765f",
   "metadata": {},
   "outputs": [
    {
     "data": {
      "text/plain": [
       "('news_summary_more.csv', <http.client.HTTPMessage at 0x7c56b1c51940>)"
      ]
     },
     "execution_count": 2,
     "metadata": {},
     "output_type": "execute_result"
    }
   ],
   "source": [
    "urllib.request.urlretrieve(\"https://raw.githubusercontent.com/sunnysai12345/News_Summary/master/news_summary_more.csv\", filename=\"news_summary_more.csv\")"
   ]
  },
  {
   "cell_type": "code",
   "execution_count": 3,
   "id": "d2721838",
   "metadata": {},
   "outputs": [
    {
     "name": "stdout",
     "output_type": "stream",
     "text": [
      "전체 샘플수 : 98401\n"
     ]
    },
    {
     "data": {
      "text/html": [
       "<div>\n",
       "<style scoped>\n",
       "    .dataframe tbody tr th:only-of-type {\n",
       "        vertical-align: middle;\n",
       "    }\n",
       "\n",
       "    .dataframe tbody tr th {\n",
       "        vertical-align: top;\n",
       "    }\n",
       "\n",
       "    .dataframe thead th {\n",
       "        text-align: right;\n",
       "    }\n",
       "</style>\n",
       "<table border=\"1\" class=\"dataframe\">\n",
       "  <thead>\n",
       "    <tr style=\"text-align: right;\">\n",
       "      <th></th>\n",
       "      <th>headlines</th>\n",
       "      <th>text</th>\n",
       "    </tr>\n",
       "  </thead>\n",
       "  <tbody>\n",
       "    <tr>\n",
       "      <th>89531</th>\n",
       "      <td>Real Madrid enter Champions League final, to f...</td>\n",
       "      <td>Defending champions Real Madrid entered their ...</td>\n",
       "    </tr>\n",
       "    <tr>\n",
       "      <th>57881</th>\n",
       "      <td>Delhi's political pollution causing air pollut...</td>\n",
       "      <td>Talking about the recent concerns over rising ...</td>\n",
       "    </tr>\n",
       "    <tr>\n",
       "      <th>98334</th>\n",
       "      <td>Private images of Emma Watson leaked online</td>\n",
       "      <td>Private images of Emma Watson have been leaked...</td>\n",
       "    </tr>\n",
       "    <tr>\n",
       "      <th>33657</th>\n",
       "      <td>RSS demands Shakhas inside Aligarh Muslim Univ...</td>\n",
       "      <td>A Rashtriya Swayamsevak Sangh (RSS) member on ...</td>\n",
       "    </tr>\n",
       "    <tr>\n",
       "      <th>32046</th>\n",
       "      <td>After BCCI's snub, Aus to play day-night Test ...</td>\n",
       "      <td>After confirming that the BCCI refused to play...</td>\n",
       "    </tr>\n",
       "    <tr>\n",
       "      <th>70952</th>\n",
       "      <td>Deadline for filing GSTR-1 extended to October 10</td>\n",
       "      <td>The government has extended the last date to f...</td>\n",
       "    </tr>\n",
       "    <tr>\n",
       "      <th>5628</th>\n",
       "      <td>I wasn't the PM afraid of talking to press: Ma...</td>\n",
       "      <td>Suggesting he wasn't a silent Prime Minister, ...</td>\n",
       "    </tr>\n",
       "    <tr>\n",
       "      <th>95170</th>\n",
       "      <td>Won't take discrimination against our workers:...</td>\n",
       "      <td>The Trump administration has issued a warning ...</td>\n",
       "    </tr>\n",
       "    <tr>\n",
       "      <th>83893</th>\n",
       "      <td>Rihanna gives break-up advice to fan in messag...</td>\n",
       "      <td>A fan of singer Rihanna has tweeted abut how s...</td>\n",
       "    </tr>\n",
       "    <tr>\n",
       "      <th>12724</th>\n",
       "      <td>Climate change intensifying world conflicts: R...</td>\n",
       "      <td>Climate change is intensifying domestic and in...</td>\n",
       "    </tr>\n",
       "  </tbody>\n",
       "</table>\n",
       "</div>"
      ],
      "text/plain": [
       "                                               headlines  \\\n",
       "89531  Real Madrid enter Champions League final, to f...   \n",
       "57881  Delhi's political pollution causing air pollut...   \n",
       "98334        Private images of Emma Watson leaked online   \n",
       "33657  RSS demands Shakhas inside Aligarh Muslim Univ...   \n",
       "32046  After BCCI's snub, Aus to play day-night Test ...   \n",
       "70952  Deadline for filing GSTR-1 extended to October 10   \n",
       "5628   I wasn't the PM afraid of talking to press: Ma...   \n",
       "95170  Won't take discrimination against our workers:...   \n",
       "83893  Rihanna gives break-up advice to fan in messag...   \n",
       "12724  Climate change intensifying world conflicts: R...   \n",
       "\n",
       "                                                    text  \n",
       "89531  Defending champions Real Madrid entered their ...  \n",
       "57881  Talking about the recent concerns over rising ...  \n",
       "98334  Private images of Emma Watson have been leaked...  \n",
       "33657  A Rashtriya Swayamsevak Sangh (RSS) member on ...  \n",
       "32046  After confirming that the BCCI refused to play...  \n",
       "70952  The government has extended the last date to f...  \n",
       "5628   Suggesting he wasn't a silent Prime Minister, ...  \n",
       "95170  The Trump administration has issued a warning ...  \n",
       "83893  A fan of singer Rihanna has tweeted abut how s...  \n",
       "12724  Climate change is intensifying domestic and in...  "
      ]
     },
     "execution_count": 3,
     "metadata": {},
     "output_type": "execute_result"
    }
   ],
   "source": [
    "data = pd.read_csv('news_summary_more.csv', encoding='iso-8859-1')\n",
    "print('전체 샘플수 :', (len(data)))\n",
    "data.sample(10)"
   ]
  },
  {
   "cell_type": "markdown",
   "id": "b04b2f2e",
   "metadata": {},
   "source": [
    "### Step 2. 데이터 전처리하기 (추상적 요약)\n",
    "실습에서 사용된 전처리를 참고하여 각자 필요하다고 생각하는 전처리를 추가 사용하여 텍스트를 정규화 또는 정제해 보세요. 만약, 불용어 제거를 선택한다면 상대적으로 길이가 짧은 요약 데이터에 대해서도 불용어를 제거하는 것이 좋을지 고민해 보세요."
   ]
  },
  {
   "cell_type": "markdown",
   "id": "6551eb8e",
   "metadata": {},
   "source": [
    "- 중복 샘플 제거"
   ]
  },
  {
   "cell_type": "code",
   "execution_count": 4,
   "id": "ee222766",
   "metadata": {},
   "outputs": [
    {
     "name": "stdout",
     "output_type": "stream",
     "text": [
      "headlines 열에서 중복을 배제한 유일한 샘플의 수 : 98280\n",
      "text 열에서 중복을 배제한 유일한 샘플의 수 : 98360\n"
     ]
    }
   ],
   "source": [
    "print('headlines 열에서 중복을 배제한 유일한 샘플의 수 :', data['headlines'].nunique())\n",
    "print('text 열에서 중복을 배제한 유일한 샘플의 수 :', data['text'].nunique())"
   ]
  },
  {
   "cell_type": "code",
   "execution_count": 5,
   "id": "a4c8ae1b",
   "metadata": {},
   "outputs": [
    {
     "name": "stdout",
     "output_type": "stream",
     "text": [
      "전체 샘플수 : 98360\n"
     ]
    }
   ],
   "source": [
    "# inplace=True 를 설정하면 DataFrame 타입 값을 return 하지 않고 data 내부를 직접적으로 바꿉니다\n",
    "data.drop_duplicates(subset = ['text'], inplace=True)\n",
    "print('전체 샘플수 :', (len(data)))"
   ]
  },
  {
   "cell_type": "markdown",
   "id": "7a37e0f0",
   "metadata": {},
   "source": [
    "- 결측치 제거"
   ]
  },
  {
   "cell_type": "code",
   "execution_count": 6,
   "id": "9a4dc83b",
   "metadata": {},
   "outputs": [
    {
     "name": "stdout",
     "output_type": "stream",
     "text": [
      "headlines    0\n",
      "text         0\n",
      "dtype: int64\n"
     ]
    }
   ],
   "source": [
    "print(data.isnull().sum())"
   ]
  },
  {
   "cell_type": "code",
   "execution_count": 7,
   "id": "7c000bcf",
   "metadata": {},
   "outputs": [
    {
     "name": "stdout",
     "output_type": "stream",
     "text": [
      "전체 샘플수 : 98360\n"
     ]
    }
   ],
   "source": [
    "data.dropna(axis=0, inplace=True)\n",
    "print('전체 샘플수 :', (len(data)))"
   ]
  },
  {
   "cell_type": "markdown",
   "id": "b720582f",
   "metadata": {},
   "source": [
    "- 불용어 제거"
   ]
  },
  {
   "cell_type": "code",
   "execution_count": 8,
   "id": "68fba51b",
   "metadata": {},
   "outputs": [
    {
     "name": "stdout",
     "output_type": "stream",
     "text": [
      "정규화 사전의 수:  120\n"
     ]
    }
   ],
   "source": [
    "contractions = {\"ain't\": \"is not\", \"aren't\": \"are not\",\"can't\": \"cannot\", \"'cause\": \"because\", \"could've\": \"could have\", \"couldn't\": \"could not\",\n",
    "                           \"didn't\": \"did not\",  \"doesn't\": \"does not\", \"don't\": \"do not\", \"hadn't\": \"had not\", \"hasn't\": \"has not\", \"haven't\": \"have not\",\n",
    "                           \"he'd\": \"he would\",\"he'll\": \"he will\", \"he's\": \"he is\", \"how'd\": \"how did\", \"how'd'y\": \"how do you\", \"how'll\": \"how will\", \"how's\": \"how is\",\n",
    "                           \"I'd\": \"I would\", \"I'd've\": \"I would have\", \"I'll\": \"I will\", \"I'll've\": \"I will have\",\"I'm\": \"I am\", \"I've\": \"I have\", \"i'd\": \"i would\",\n",
    "                           \"i'd've\": \"i would have\", \"i'll\": \"i will\",  \"i'll've\": \"i will have\",\"i'm\": \"i am\", \"i've\": \"i have\", \"isn't\": \"is not\", \"it'd\": \"it would\",\n",
    "                           \"it'd've\": \"it would have\", \"it'll\": \"it will\", \"it'll've\": \"it will have\",\"it's\": \"it is\", \"let's\": \"let us\", \"ma'am\": \"madam\",\n",
    "                           \"mayn't\": \"may not\", \"might've\": \"might have\",\"mightn't\": \"might not\",\"mightn't've\": \"might not have\", \"must've\": \"must have\",\n",
    "                           \"mustn't\": \"must not\", \"mustn't've\": \"must not have\", \"needn't\": \"need not\", \"needn't've\": \"need not have\",\"o'clock\": \"of the clock\",\n",
    "                           \"oughtn't\": \"ought not\", \"oughtn't've\": \"ought not have\", \"shan't\": \"shall not\", \"sha'n't\": \"shall not\", \"shan't've\": \"shall not have\",\n",
    "                           \"she'd\": \"she would\", \"she'd've\": \"she would have\", \"she'll\": \"she will\", \"she'll've\": \"she will have\", \"she's\": \"she is\",\n",
    "                           \"should've\": \"should have\", \"shouldn't\": \"should not\", \"shouldn't've\": \"should not have\", \"so've\": \"so have\",\"so's\": \"so as\",\n",
    "                           \"this's\": \"this is\",\"that'd\": \"that would\", \"that'd've\": \"that would have\", \"that's\": \"that is\", \"there'd\": \"there would\",\n",
    "                           \"there'd've\": \"there would have\", \"there's\": \"there is\", \"here's\": \"here is\",\"they'd\": \"they would\", \"they'd've\": \"they would have\",\n",
    "                           \"they'll\": \"they will\", \"they'll've\": \"they will have\", \"they're\": \"they are\", \"they've\": \"they have\", \"to've\": \"to have\",\n",
    "                           \"wasn't\": \"was not\", \"we'd\": \"we would\", \"we'd've\": \"we would have\", \"we'll\": \"we will\", \"we'll've\": \"we will have\", \"we're\": \"we are\",\n",
    "                           \"we've\": \"we have\", \"weren't\": \"were not\", \"what'll\": \"what will\", \"what'll've\": \"what will have\", \"what're\": \"what are\",\n",
    "                           \"what's\": \"what is\", \"what've\": \"what have\", \"when's\": \"when is\", \"when've\": \"when have\", \"where'd\": \"where did\", \"where's\": \"where is\",\n",
    "                           \"where've\": \"where have\", \"who'll\": \"who will\", \"who'll've\": \"who will have\", \"who's\": \"who is\", \"who've\": \"who have\",\n",
    "                           \"why's\": \"why is\", \"why've\": \"why have\", \"will've\": \"will have\", \"won't\": \"will not\", \"won't've\": \"will not have\",\n",
    "                           \"would've\": \"would have\", \"wouldn't\": \"would not\", \"wouldn't've\": \"would not have\", \"y'all\": \"you all\",\n",
    "                           \"y'all'd\": \"you all would\",\"y'all'd've\": \"you all would have\",\"y'all're\": \"you all are\",\"y'all've\": \"you all have\",\n",
    "                           \"you'd\": \"you would\", \"you'd've\": \"you would have\", \"you'll\": \"you will\", \"you'll've\": \"you will have\",\n",
    "                           \"you're\": \"you are\", \"you've\": \"you have\"}\n",
    "\n",
    "print(\"정규화 사전의 수: \", len(contractions))"
   ]
  },
  {
   "cell_type": "code",
   "execution_count": 9,
   "id": "03efb2d2",
   "metadata": {},
   "outputs": [
    {
     "name": "stdout",
     "output_type": "stream",
     "text": [
      "불용어 개수 : 198\n",
      "['a', 'about', 'above', 'after', 'again', 'against', 'ain', 'all', 'am', 'an', 'and', 'any', 'are', 'aren', \"aren't\", 'as', 'at', 'be', 'because', 'been', 'before', 'being', 'below', 'between', 'both', 'but', 'by', 'can', 'couldn', \"couldn't\", 'd', 'did', 'didn', \"didn't\", 'do', 'does', 'doesn', \"doesn't\", 'doing', 'don', \"don't\", 'down', 'during', 'each', 'few', 'for', 'from', 'further', 'had', 'hadn', \"hadn't\", 'has', 'hasn', \"hasn't\", 'have', 'haven', \"haven't\", 'having', 'he', \"he'd\", \"he'll\", 'her', 'here', 'hers', 'herself', \"he's\", 'him', 'himself', 'his', 'how', 'i', \"i'd\", 'if', \"i'll\", \"i'm\", 'in', 'into', 'is', 'isn', \"isn't\", 'it', \"it'd\", \"it'll\", \"it's\", 'its', 'itself', \"i've\", 'just', 'll', 'm', 'ma', 'me', 'mightn', \"mightn't\", 'more', 'most', 'mustn', \"mustn't\", 'my', 'myself', 'needn', \"needn't\", 'no', 'nor', 'not', 'now', 'o', 'of', 'off', 'on', 'once', 'only', 'or', 'other', 'our', 'ours', 'ourselves', 'out', 'over', 'own', 're', 's', 'same', 'shan', \"shan't\", 'she', \"she'd\", \"she'll\", \"she's\", 'should', 'shouldn', \"shouldn't\", \"should've\", 'so', 'some', 'such', 't', 'than', 'that', \"that'll\", 'the', 'their', 'theirs', 'them', 'themselves', 'then', 'there', 'these', 'they', \"they'd\", \"they'll\", \"they're\", \"they've\", 'this', 'those', 'through', 'to', 'too', 'under', 'until', 'up', 've', 'very', 'was', 'wasn', \"wasn't\", 'we', \"we'd\", \"we'll\", \"we're\", 'were', 'weren', \"weren't\", \"we've\", 'what', 'when', 'where', 'which', 'while', 'who', 'whom', 'why', 'will', 'with', 'won', \"won't\", 'wouldn', \"wouldn't\", 'y', 'you', \"you'd\", \"you'll\", 'your', \"you're\", 'yours', 'yourself', 'yourselves', \"you've\"]\n"
     ]
    },
    {
     "name": "stderr",
     "output_type": "stream",
     "text": [
      "[nltk_data] Downloading package stopwords to /aiffel/nltk_data...\n",
      "[nltk_data]   Package stopwords is already up-to-date!\n"
     ]
    }
   ],
   "source": [
    "nltk.download('stopwords')\n",
    "\n",
    "print('불용어 개수 :', len(stopwords.words('english') ))\n",
    "print(stopwords.words('english'))"
   ]
  },
  {
   "cell_type": "code",
   "execution_count": 10,
   "id": "1fdb5205",
   "metadata": {},
   "outputs": [],
   "source": [
    "# 데이터 전처리 함수\n",
    "def preprocess_sentence(sentence, remove_stopwords=True):\n",
    "    sentence = sentence.lower() # 텍스트 소문자화\n",
    "    sentence = BeautifulSoup(sentence, \"lxml\").text # <br />, <a href = ...> 등의 html 태그 제거\n",
    "    sentence = re.sub(r'\\([^)]*\\)', '', sentence) # 괄호로 닫힌 문자열 (...) 제거 Ex) my husband (and myself!) for => my husband for\n",
    "    sentence = re.sub('\"','', sentence) # 쌍따옴표 \" 제거\n",
    "    sentence = ' '.join([contractions[t] if t in contractions else t for t in sentence.split(\" \")]) # 약어 정규화\n",
    "    sentence = re.sub(r\"'s\\b\",\"\", sentence) # 소유격 제거. Ex) roland's -> roland\n",
    "    sentence = re.sub(\"[^a-zA-Z]\", \" \", sentence) # 영어 외 문자(숫자, 특수문자 등) 공백으로 변환\n",
    "    sentence = re.sub('[m]{2,}', 'mm', sentence) # m이 3개 이상이면 2개로 변경. Ex) ummmmmmm yeah -> umm yeah\n",
    "    \n",
    "    # 불용어 제거 (Text)\n",
    "    if remove_stopwords:\n",
    "        tokens = ' '.join(word for word in sentence.split() if not word in stopwords.words('english') if len(word) > 1)\n",
    "    # 불용어 미제거 (Summary)\n",
    "    else:\n",
    "        tokens = ' '.join(word for word in sentence.split() if len(word) > 1)\n",
    "    return tokens"
   ]
  },
  {
   "cell_type": "code",
   "execution_count": 11,
   "id": "2ae26a04",
   "metadata": {},
   "outputs": [
    {
     "name": "stderr",
     "output_type": "stream",
     "text": [
      "100%|██████████| 98360/98360 [33:21<00:00, 49.15it/s]"
     ]
    },
    {
     "name": "stdout",
     "output_type": "stream",
     "text": [
      "headlines 전처리 후 결과:  ['upgrad learner switches to career in ml al with salary hike', 'delhi techie wins free food from swiggy for one year on cred', 'new zealand end rohit sharma led india match winning streak', 'aegon life iterm insurance plan helps customers save tax', 'have known hirani for yrs what if metoo claims are not true sonam']\n"
     ]
    },
    {
     "name": "stderr",
     "output_type": "stream",
     "text": [
      "\n"
     ]
    }
   ],
   "source": [
    "from tqdm import tqdm\n",
    "\n",
    "# 전체 headlines 데이터에 대한 전처리 ( 오래 걸릴 수 있음 )\n",
    "clean_head = []\n",
    "\n",
    "for sentence in tqdm(data['headlines']):\n",
    "    clean_head.append(preprocess_sentence(sentence, remove_stopwords=False))\n",
    "\n",
    "#clean_head = [preprocess_sentence(sentence, remove_stopwords=False) for sentence in tqdm(data['headlines'])]\n",
    "\n",
    "# 전처리 후 출력\n",
    "print(\"headlines 전처리 후 결과: \", clean_head[:5])"
   ]
  },
  {
   "cell_type": "code",
   "execution_count": 12,
   "id": "f3d42201",
   "metadata": {},
   "outputs": [
    {
     "name": "stderr",
     "output_type": "stream",
     "text": [
      "100%|██████████| 98360/98360 [09:32<00:00, 171.74it/s]"
     ]
    },
    {
     "name": "stdout",
     "output_type": "stream",
     "text": [
      "text 전처리 후 결과:  ['saurav kant alumnus upgrad iiit pg program machine learning artificial intelligence sr systems engineer infosys almost years work experience program upgrad degree career support helped transition data scientist tech mahindra salary hike upgrad online power learning powered lakh careers', 'kunal shah credit card bill payment platform cred gave users chance win free food swiggy one year pranav kaushik delhi techie bagged reward spending cred coins users get one cred coin per rupee bill paid used avail rewards brands like ixigo bookmyshow ubereats cult fit', 'new zealand defeated india wickets fourth odi hamilton thursday win first match five match odi series india lost international match rohit sharma captaincy consecutive victories dating back march match witnessed india getting seventh lowest total odi cricket history', 'aegon life iterm insurance plan customers enjoy tax benefits premiums paid save taxes plan provides life cover age years also customers options insure critical illnesses disability accidental death benefit rider life cover age years', 'speaking sexual harassment allegations rajkumar hirani sonam kapoor said known hirani many years true metoo movement get derailed metoo movement always believe woman case need reserve judgment added hirani accused assistant worked sanju']\n"
     ]
    },
    {
     "name": "stderr",
     "output_type": "stream",
     "text": [
      "\n"
     ]
    }
   ],
   "source": [
    "# 전체 text 데이터에 대한 전처리 ( 오래 걸릴 수 있음 )\n",
    "clean_text = []\n",
    "\n",
    "for sentence in tqdm(data['text']):\n",
    "    clean_text.append(preprocess_sentence(sentence))\n",
    "    \n",
    "#clean_head = [preprocess_sentence(sentence) for sentence in tqdm(data['text'])]\n",
    "\n",
    "# 전처리 후 출력\n",
    "print(\"text 전처리 후 결과: \", clean_text[:5])"
   ]
  },
  {
   "cell_type": "code",
   "execution_count": 13,
   "id": "92cc5dde",
   "metadata": {},
   "outputs": [
    {
     "data": {
      "text/plain": [
       "headlines    0\n",
       "text         0\n",
       "dtype: int64"
      ]
     },
     "execution_count": 13,
     "metadata": {},
     "output_type": "execute_result"
    }
   ],
   "source": [
    "data['headlines'] = clean_head\n",
    "data['text'] = clean_text\n",
    "\n",
    "# 빈 값을 Null 값으로 변환\n",
    "data.replace('', np.nan, inplace=True)\n",
    "# Null 값이 생겼는지 확인\n",
    "data.isnull().sum()"
   ]
  },
  {
   "cell_type": "code",
   "execution_count": 14,
   "id": "0e56e307",
   "metadata": {},
   "outputs": [
    {
     "name": "stdout",
     "output_type": "stream",
     "text": [
      "전체 샘플수 : 98360\n"
     ]
    }
   ],
   "source": [
    "# Null 값이 들어있는 빈 샘플 제거\n",
    "data.dropna(axis=0, inplace=True)\n",
    "print('전체 샘플수 :', (len(data)))"
   ]
  },
  {
   "cell_type": "markdown",
   "id": "d8c6ac73",
   "metadata": {},
   "source": [
    "- 샘플 최대 길이 지정"
   ]
  },
  {
   "cell_type": "code",
   "execution_count": 15,
   "id": "73d3b719",
   "metadata": {},
   "outputs": [
    {
     "name": "stdout",
     "output_type": "stream",
     "text": [
      "헤드라인의 최소 길이 : 1\n",
      "헤드라인의 최대 길이 : 16\n",
      "헤드라인의 평균 길이 : 9.299532330215534\n",
      "텍스트의 최소 길이 : 1\n",
      "텍스트의 최대 길이 : 60\n",
      "텍스트의 평균 길이 : 35.09968483123221\n"
     ]
    },
    {
     "data": {
      "image/png": "[encoded data removed]",
      "text/plain": [
       "<Figure size 432x288 with 2 Axes>"
      ]
     },
     "metadata": {
      "needs_background": "light"
     },
     "output_type": "display_data"
    },
    {
     "data": {
      "image/png": "[encoded data removed]",
      "text/plain": [
       "<Figure size 432x288 with 1 Axes>"
      ]
     },
     "metadata": {
      "needs_background": "light"
     },
     "output_type": "display_data"
    },
    {
     "data": {
      "image/png": "[encoded data removed]",
      "text/plain": [
       "<Figure size 432x288 with 1 Axes>"
      ]
     },
     "metadata": {
      "needs_background": "light"
     },
     "output_type": "display_data"
    }
   ],
   "source": [
    "# 데이터 길이 분포 시각화\n",
    "import matplotlib.pyplot as plt\n",
    "\n",
    "head_len = [len(s.split()) for s in data['headlines']]\n",
    "text_len = [len(s.split()) for s in data['text']]\n",
    "\n",
    "print('헤드라인의 최소 길이 : {}'.format(np.min(head_len)))\n",
    "print('헤드라인의 최대 길이 : {}'.format(np.max(head_len)))\n",
    "print('헤드라인의 평균 길이 : {}'.format(np.mean(head_len)))\n",
    "print('텍스트의 최소 길이 : {}'.format(np.min(text_len)))\n",
    "print('텍스트의 최대 길이 : {}'.format(np.max(text_len)))\n",
    "print('텍스트의 평균 길이 : {}'.format(np.mean(text_len)))\n",
    "\n",
    "plt.subplot(1,2,1)\n",
    "plt.boxplot(head_len)\n",
    "plt.title('headlines')\n",
    "plt.subplot(1,2,2)\n",
    "plt.boxplot(text_len)\n",
    "plt.title('text')\n",
    "plt.tight_layout()\n",
    "plt.show()\n",
    "\n",
    "plt.title('headlines')\n",
    "plt.hist(head_len, bins = 40)\n",
    "plt.xlabel('length of samples')\n",
    "plt.ylabel('number of samples')\n",
    "plt.show()\n",
    "\n",
    "plt.title('text')\n",
    "plt.hist(text_len, bins = 40)\n",
    "plt.xlabel('length of samples')\n",
    "plt.ylabel('number of samples')\n",
    "plt.show()"
   ]
  },
  {
   "cell_type": "code",
   "execution_count": 16,
   "id": "883f6074",
   "metadata": {},
   "outputs": [
    {
     "name": "stdout",
     "output_type": "stream",
     "text": [
      "전체 샘플 중 길이가 11 이하인 샘플의 비율: 0.9449877999186661\n",
      "전체 샘플 중 길이가 50 이하인 샘플의 비율: 0.9998576657177715\n"
     ]
    }
   ],
   "source": [
    "# 데이터의 적절한 최대길이를 임의로 지정\n",
    "head_max_len = 11\n",
    "text_max_len = 50\n",
    "\n",
    "# 위에서 지정한 임의의 최대길이가 몇%의 샘플까지 포함하는지 볼 수 있는지 확인\n",
    "def below_threshold_len(max_len, nested_list):\n",
    "  cnt = 0\n",
    "  for s in nested_list:\n",
    "    if(len(s.split()) <= max_len):\n",
    "        cnt = cnt + 1\n",
    "  print('전체 샘플 중 길이가 %s 이하인 샘플의 비율: %s'%(max_len, (cnt / len(nested_list))))\n",
    "\n",
    "below_threshold_len(head_max_len, data['headlines'])\n",
    "below_threshold_len(text_max_len,  data['text'])"
   ]
  },
  {
   "cell_type": "code",
   "execution_count": 17,
   "id": "50bab4c4",
   "metadata": {},
   "outputs": [
    {
     "name": "stdout",
     "output_type": "stream",
     "text": [
      "전체 샘플수 : 92935\n"
     ]
    }
   ],
   "source": [
    "# 최대길이를 넘어가는 샘플 제거\n",
    "data = data[data.apply(lambda x: len(x['headlines'].split()) <= head_max_len and \n",
    "                                 len(x['text'].split()) <= text_max_len, axis=1)]\n",
    "\n",
    "print('전체 샘플수 :', (len(data)))"
   ]
  },
  {
   "cell_type": "code",
   "execution_count": 18,
   "id": "1053e0f2",
   "metadata": {},
   "outputs": [
    {
     "data": {
      "text/html": [
       "<div>\n",
       "<style scoped>\n",
       "    .dataframe tbody tr th:only-of-type {\n",
       "        vertical-align: middle;\n",
       "    }\n",
       "\n",
       "    .dataframe tbody tr th {\n",
       "        vertical-align: top;\n",
       "    }\n",
       "\n",
       "    .dataframe thead th {\n",
       "        text-align: right;\n",
       "    }\n",
       "</style>\n",
       "<table border=\"1\" class=\"dataframe\">\n",
       "  <thead>\n",
       "    <tr style=\"text-align: right;\">\n",
       "      <th></th>\n",
       "      <th>headlines</th>\n",
       "      <th>text</th>\n",
       "      <th>decoder_input</th>\n",
       "      <th>decoder_target</th>\n",
       "    </tr>\n",
       "  </thead>\n",
       "  <tbody>\n",
       "    <tr>\n",
       "      <th>0</th>\n",
       "      <td>upgrad learner switches to career in ml al wit...</td>\n",
       "      <td>saurav kant alumnus upgrad iiit pg program mac...</td>\n",
       "      <td>sostoken upgrad learner switches to career in ...</td>\n",
       "      <td>upgrad learner switches to career in ml al wit...</td>\n",
       "    </tr>\n",
       "    <tr>\n",
       "      <th>2</th>\n",
       "      <td>new zealand end rohit sharma led india match w...</td>\n",
       "      <td>new zealand defeated india wickets fourth odi ...</td>\n",
       "      <td>sostoken new zealand end rohit sharma led indi...</td>\n",
       "      <td>new zealand end rohit sharma led india match w...</td>\n",
       "    </tr>\n",
       "    <tr>\n",
       "      <th>3</th>\n",
       "      <td>aegon life iterm insurance plan helps customer...</td>\n",
       "      <td>aegon life iterm insurance plan customers enjo...</td>\n",
       "      <td>sostoken aegon life iterm insurance plan helps...</td>\n",
       "      <td>aegon life iterm insurance plan helps customer...</td>\n",
       "    </tr>\n",
       "    <tr>\n",
       "      <th>5</th>\n",
       "      <td>rahat fateh ali khan denies getting notice for...</td>\n",
       "      <td>pakistani singer rahat fateh ali khan denied r...</td>\n",
       "      <td>sostoken rahat fateh ali khan denies getting n...</td>\n",
       "      <td>rahat fateh ali khan denies getting notice for...</td>\n",
       "    </tr>\n",
       "    <tr>\n",
       "      <th>7</th>\n",
       "      <td>govt directs alok verma to join work day befor...</td>\n",
       "      <td>weeks ex cbi director alok verma told departme...</td>\n",
       "      <td>sostoken govt directs alok verma to join work ...</td>\n",
       "      <td>govt directs alok verma to join work day befor...</td>\n",
       "    </tr>\n",
       "  </tbody>\n",
       "</table>\n",
       "</div>"
      ],
      "text/plain": [
       "                                           headlines  \\\n",
       "0  upgrad learner switches to career in ml al wit...   \n",
       "2  new zealand end rohit sharma led india match w...   \n",
       "3  aegon life iterm insurance plan helps customer...   \n",
       "5  rahat fateh ali khan denies getting notice for...   \n",
       "7  govt directs alok verma to join work day befor...   \n",
       "\n",
       "                                                text  \\\n",
       "0  saurav kant alumnus upgrad iiit pg program mac...   \n",
       "2  new zealand defeated india wickets fourth odi ...   \n",
       "3  aegon life iterm insurance plan customers enjo...   \n",
       "5  pakistani singer rahat fateh ali khan denied r...   \n",
       "7  weeks ex cbi director alok verma told departme...   \n",
       "\n",
       "                                       decoder_input  \\\n",
       "0  sostoken upgrad learner switches to career in ...   \n",
       "2  sostoken new zealand end rohit sharma led indi...   \n",
       "3  sostoken aegon life iterm insurance plan helps...   \n",
       "5  sostoken rahat fateh ali khan denies getting n...   \n",
       "7  sostoken govt directs alok verma to join work ...   \n",
       "\n",
       "                                      decoder_target  \n",
       "0  upgrad learner switches to career in ml al wit...  \n",
       "2  new zealand end rohit sharma led india match w...  \n",
       "3  aegon life iterm insurance plan helps customer...  \n",
       "5  rahat fateh ali khan denies getting notice for...  \n",
       "7  govt directs alok verma to join work day befor...  "
      ]
     },
     "execution_count": 18,
     "metadata": {},
     "output_type": "execute_result"
    }
   ],
   "source": [
    "# 요약 데이터에는 시작 토큰과 종료 토큰을 추가한다.\n",
    "data['decoder_input'] = data['headlines'].apply(lambda x : 'sostoken '+ x)\n",
    "data['decoder_target'] = data['headlines'].apply(lambda x : x + ' eostoken')\n",
    "data.head()"
   ]
  },
  {
   "cell_type": "code",
   "execution_count": 19,
   "id": "f7e7835e",
   "metadata": {},
   "outputs": [],
   "source": [
    "# 인코더의 입력, 디코더의 입력과 레이블을 각각 다시 Numpy 타입으로 저장\n",
    "encoder_input = np.array(data['text']) # 인코더의 입력\n",
    "decoder_input = np.array(data['decoder_input']) # 디코더의 입력\n",
    "decoder_target = np.array(data['decoder_target']) # 디코더의 레이블"
   ]
  },
  {
   "cell_type": "markdown",
   "id": "f10c757f",
   "metadata": {},
   "source": [
    "- 훈련데이터, 테스트데이터 분리"
   ]
  },
  {
   "cell_type": "code",
   "execution_count": 20,
   "id": "7b945897",
   "metadata": {},
   "outputs": [
    {
     "name": "stdout",
     "output_type": "stream",
     "text": [
      "[71291 21506 74286 ... 22614  4990 82777]\n",
      "테스트 데이터의 수 : 18587\n"
     ]
    }
   ],
   "source": [
    "# encoder_input과 크기와 형태가 같은 순서가 섞인 정수 시퀀스를 만들기\n",
    "indices = np.arange(encoder_input.shape[0])\n",
    "np.random.shuffle(indices)\n",
    "print(indices)\n",
    "\n",
    "# 정수 시퀀스를 이용해 다시 데이터의 샘플 순서를 정의(잘 섞인 샘플이 됨)\n",
    "encoder_input = encoder_input[indices]\n",
    "decoder_input = decoder_input[indices]\n",
    "decoder_target = decoder_target[indices]\n",
    "\n",
    "# 비율 지정\n",
    "n_of_val = int(len(encoder_input)*0.2)\n",
    "print('테스트 데이터의 수 :', n_of_val)"
   ]
  },
  {
   "cell_type": "code",
   "execution_count": 21,
   "id": "f94aa289",
   "metadata": {},
   "outputs": [
    {
     "name": "stdout",
     "output_type": "stream",
     "text": [
      "훈련 데이터의 개수 : 74348\n",
      "훈련 레이블의 개수 : 74348\n",
      "테스트 데이터의 개수 : 18587\n",
      "테스트 레이블의 개수 : 18587\n"
     ]
    }
   ],
   "source": [
    "# 데이터 나누기\n",
    "encoder_input_train = encoder_input[:-n_of_val]\n",
    "decoder_input_train = decoder_input[:-n_of_val]\n",
    "decoder_target_train = decoder_target[:-n_of_val]\n",
    "\n",
    "encoder_input_test = encoder_input[-n_of_val:]\n",
    "decoder_input_test = decoder_input[-n_of_val:]\n",
    "decoder_target_test = decoder_target[-n_of_val:]\n",
    "\n",
    "print('훈련 데이터의 개수 :', len(encoder_input_train))\n",
    "print('훈련 레이블의 개수 :', len(decoder_input_train))\n",
    "print('테스트 데이터의 개수 :', len(encoder_input_test))\n",
    "print('테스트 레이블의 개수 :', len(decoder_input_test))"
   ]
  },
  {
   "cell_type": "markdown",
   "id": "729d0437",
   "metadata": {},
   "source": [
    "- 단어 집합 만들기"
   ]
  },
  {
   "cell_type": "code",
   "execution_count": 22,
   "id": "4c71e48e",
   "metadata": {},
   "outputs": [
    {
     "name": "stdout",
     "output_type": "stream",
     "text": [
      "단어 집합(vocabulary)의 크기 : 68343\n",
      "등장 빈도가 6번 이하인 희귀 단어의 수: 46712\n",
      "단어 집합에서 희귀 단어를 제외시킬 경우의 단어 집합의 크기 21631\n",
      "단어 집합에서 희귀 단어의 비율: 68.34935545703291\n",
      "전체 등장 빈도에서 희귀 단어 등장 빈도 비율: 3.6228648540599075\n"
     ]
    }
   ],
   "source": [
    "src_tokenizer = Tokenizer() # 토크나이저 정의\n",
    "src_tokenizer.fit_on_texts(encoder_input_train) # 입력된 데이터로부터 단어 집합 생성\n",
    "\n",
    "# 등장 빈도수가 7회 미만인 단어들이 이 데이터에서 얼만큼의 비중을 차지하는지 확인\n",
    "threshold = 7\n",
    "total_cnt = len(src_tokenizer.word_index) # 단어의 수\n",
    "rare_cnt = 0 # 등장 빈도수가 threshold보다 작은 단어의 개수를 카운트\n",
    "total_freq = 0 # 훈련 데이터의 전체 단어 빈도수 총 합\n",
    "rare_freq = 0 # 등장 빈도수가 threshold보다 작은 단어의 등장 빈도수의 총 합\n",
    "\n",
    "# 단어와 빈도수의 쌍(pair)을 key와 value로 받는다.\n",
    "for key, value in src_tokenizer.word_counts.items():\n",
    "    total_freq = total_freq + value\n",
    "\n",
    "    # 단어의 등장 빈도수가 threshold보다 작으면\n",
    "    if(value < threshold):\n",
    "        rare_cnt = rare_cnt + 1\n",
    "        rare_freq = rare_freq + value\n",
    "\n",
    "print('단어 집합(vocabulary)의 크기 :', total_cnt)\n",
    "print('등장 빈도가 %s번 이하인 희귀 단어의 수: %s'%(threshold - 1, rare_cnt))\n",
    "print('단어 집합에서 희귀 단어를 제외시킬 경우의 단어 집합의 크기 %s'%(total_cnt - rare_cnt))\n",
    "print(\"단어 집합에서 희귀 단어의 비율:\", (rare_cnt / total_cnt)*100)\n",
    "print(\"전체 등장 빈도에서 희귀 단어 등장 빈도 비율:\", (rare_freq / total_freq)*100)"
   ]
  },
  {
   "cell_type": "code",
   "execution_count": 23,
   "id": "acc2cf32",
   "metadata": {},
   "outputs": [],
   "source": [
    "# 단어 집합의 크기를 21,000으로 제한\n",
    "src_vocab = 21000\n",
    "src_tokenizer = Tokenizer(num_words=src_vocab) # 단어 집합의 크기를 21,000으로 제한\n",
    "src_tokenizer.fit_on_texts(encoder_input_train) # 단어 집합 재생성"
   ]
  },
  {
   "cell_type": "code",
   "execution_count": 24,
   "id": "9b557241",
   "metadata": {},
   "outputs": [
    {
     "name": "stdout",
     "output_type": "stream",
     "text": [
      "[[154, 15, 121, 50, 69, 3010, 5740, 548, 16, 6847, 5384, 20180, 2898, 10961, 14975, 1249, 24, 162, 1434, 411, 1641, 6429, 326, 135, 1713, 5384, 559, 5442, 2996, 90, 5384, 1017, 93, 751, 548, 16, 362, 312], [480, 228, 595, 4618, 1066, 3, 521, 234, 68, 1066, 395, 385, 673, 774, 48, 28, 3, 3252, 3733, 480, 2644, 1535, 3309, 68, 190, 722, 460, 2629, 68, 383, 3011, 8, 29, 7340, 262, 19, 3348, 32], [1547, 2927, 127, 2535, 1075, 864, 1110, 7767, 8272, 14, 7649, 4586, 63, 386, 493, 36, 90, 765, 134, 281, 106, 7649, 4586, 685, 254, 765, 1067, 608, 1227, 1, 8272, 4976, 14, 4746, 2886, 33]]\n"
     ]
    }
   ],
   "source": [
    "# 텍스트 시퀀스를 정수 시퀀스로 변환(정수 인코딩)\n",
    "encoder_input_train = src_tokenizer.texts_to_sequences(encoder_input_train) \n",
    "encoder_input_test = src_tokenizer.texts_to_sequences(encoder_input_test)\n",
    "\n",
    "# 잘 진행되었는지 샘플 출력\n",
    "print(encoder_input_train[:3])"
   ]
  },
  {
   "cell_type": "code",
   "execution_count": 25,
   "id": "0b2f04ff",
   "metadata": {},
   "outputs": [
    {
     "name": "stdout",
     "output_type": "stream",
     "text": [
      "단어 집합(vocabulary)의 크기 : 29584\n",
      "등장 빈도가 5번 이하인 희귀 단어의 수: 19412\n",
      "단어 집합에서 희귀 단어를 제외시킬 경우의 단어 집합의 크기 10172\n",
      "단어 집합에서 희귀 단어의 비율: 65.61654948620877\n",
      "전체 등장 빈도에서 희귀 단어 등장 빈도 비율: 4.924466362255899\n"
     ]
    }
   ],
   "source": [
    "# 전체 단어 집합과 각 단어에 대한 빈도수를 계산\n",
    "tar_tokenizer = Tokenizer()\n",
    "tar_tokenizer.fit_on_texts(decoder_input_train)\n",
    "\n",
    "# 빈도수 6 이하 단어들의 비중 확인\n",
    "threshold = 6\n",
    "total_cnt = len(tar_tokenizer.word_index) # 단어의 수\n",
    "rare_cnt = 0 # 등장 빈도수가 threshold보다 작은 단어의 개수를 카운트\n",
    "total_freq = 0 # 훈련 데이터의 전체 단어 빈도수 총 합\n",
    "rare_freq = 0 # 등장 빈도수가 threshold보다 작은 단어의 등장 빈도수의 총 합\n",
    "\n",
    "# 단어와 빈도수의 쌍(pair)을 key와 value로 받는다.\n",
    "for key, value in tar_tokenizer.word_counts.items():\n",
    "    total_freq = total_freq + value\n",
    "\n",
    "    # 단어의 등장 빈도수가 threshold보다 작으면\n",
    "    if(value < threshold):\n",
    "        rare_cnt = rare_cnt + 1\n",
    "        rare_freq = rare_freq + value\n",
    "\n",
    "print('단어 집합(vocabulary)의 크기 :', total_cnt)\n",
    "print('등장 빈도가 %s번 이하인 희귀 단어의 수: %s'%(threshold - 1, rare_cnt))\n",
    "print('단어 집합에서 희귀 단어를 제외시킬 경우의 단어 집합의 크기 %s'%(total_cnt - rare_cnt))\n",
    "print(\"단어 집합에서 희귀 단어의 비율:\", (rare_cnt / total_cnt)*100)\n",
    "print(\"전체 등장 빈도에서 희귀 단어 등장 빈도 비율:\", (rare_freq / total_freq)*100)"
   ]
  },
  {
   "cell_type": "code",
   "execution_count": 26,
   "id": "40b77b4e",
   "metadata": {},
   "outputs": [
    {
     "name": "stdout",
     "output_type": "stream",
     "text": [
      "input\n",
      "input  [[1, 22, 41, 1629, 5686, 5, 3555], [1, 251, 371, 73, 331, 204, 4375, 592, 11, 168], [1, 118, 3, 2712, 525, 37, 5974, 16, 1012, 195, 214], [1, 1362, 313, 1145, 1979, 2206, 1326, 3, 26, 3192, 70], [1, 22, 41, 977, 1170, 3, 5447, 1603, 7, 94, 950]]\n",
      "target\n",
      "decoder  [[22, 41, 1629, 5686, 5, 3555, 2], [251, 371, 73, 331, 204, 4375, 592, 11, 168, 2], [118, 3, 2712, 525, 37, 5974, 16, 1012, 195, 214, 2], [1362, 313, 1145, 1979, 2206, 1326, 3, 26, 3192, 70, 2], [22, 41, 977, 1170, 3, 5447, 1603, 7, 94, 950, 2]]\n"
     ]
    }
   ],
   "source": [
    "# 희귀 단어 제거\n",
    "# 단어 집합 크기 10000으로 제한\n",
    "tar_vocab = 10000\n",
    "tar_tokenizer = Tokenizer(num_words=tar_vocab) \n",
    "tar_tokenizer.fit_on_texts(decoder_input_train)\n",
    "tar_tokenizer.fit_on_texts(decoder_target_train)\n",
    "\n",
    "# 텍스트 시퀀스를 정수 시퀀스로 변환\n",
    "decoder_input_train = tar_tokenizer.texts_to_sequences(decoder_input_train) \n",
    "decoder_target_train = tar_tokenizer.texts_to_sequences(decoder_target_train)\n",
    "decoder_input_test = tar_tokenizer.texts_to_sequences(decoder_input_test)\n",
    "decoder_target_test = tar_tokenizer.texts_to_sequences(decoder_target_test)\n",
    "\n",
    "# 잘 변환되었는지 확인\n",
    "print('input')\n",
    "print('input ',decoder_input_train[:5])\n",
    "print('target')\n",
    "print('decoder ',decoder_target_train[:5])"
   ]
  },
  {
   "cell_type": "code",
   "execution_count": 27,
   "id": "fb8f0569",
   "metadata": {},
   "outputs": [
    {
     "name": "stdout",
     "output_type": "stream",
     "text": [
      "삭제할 훈련 데이터의 개수 : 0\n",
      "삭제할 테스트 데이터의 개수 : 0\n",
      "훈련 데이터의 개수 : 74348\n",
      "훈련 레이블의 개수 : 74348\n",
      "테스트 데이터의 개수 : 18587\n",
      "테스트 레이블의 개수 : 18587\n"
     ]
    }
   ],
   "source": [
    "# 길이가 0이 된 샘플 삭제\n",
    "# decoder_input에는 sostoken, decoder_target에는 eostoken이 남아있어서 실제로는 길이가 1\n",
    "drop_train = [index for index, sentence in enumerate(decoder_input_train) if len(sentence) == 1]\n",
    "drop_test = [index for index, sentence in enumerate(decoder_input_test) if len(sentence) == 1]\n",
    "\n",
    "print('삭제할 훈련 데이터의 개수 :', len(drop_train))\n",
    "print('삭제할 테스트 데이터의 개수 :', len(drop_test))\n",
    "\n",
    "encoder_input_train = [sentence for index, sentence in enumerate(encoder_input_train) if index not in drop_train]\n",
    "decoder_input_train = [sentence for index, sentence in enumerate(decoder_input_train) if index not in drop_train]\n",
    "decoder_target_train = [sentence for index, sentence in enumerate(decoder_target_train) if index not in drop_train]\n",
    "\n",
    "encoder_input_test = [sentence for index, sentence in enumerate(encoder_input_test) if index not in drop_test]\n",
    "decoder_input_test = [sentence for index, sentence in enumerate(decoder_input_test) if index not in drop_test]\n",
    "decoder_target_test = [sentence for index, sentence in enumerate(decoder_target_test) if index not in drop_test]\n",
    "\n",
    "print('훈련 데이터의 개수 :', len(encoder_input_train))\n",
    "print('훈련 레이블의 개수 :', len(decoder_input_train))\n",
    "print('테스트 데이터의 개수 :', len(encoder_input_test))\n",
    "print('테스트 레이블의 개수 :', len(decoder_input_test))"
   ]
  },
  {
   "cell_type": "markdown",
   "id": "0cc498a5",
   "metadata": {},
   "source": [
    "- 패딩"
   ]
  },
  {
   "cell_type": "code",
   "execution_count": 28,
   "id": "cb69cf96",
   "metadata": {},
   "outputs": [],
   "source": [
    "encoder_input_train = pad_sequences(encoder_input_train, maxlen=text_max_len, padding='post')\n",
    "encoder_input_test = pad_sequences(encoder_input_test, maxlen=text_max_len, padding='post')\n",
    "decoder_input_train = pad_sequences(decoder_input_train, maxlen=head_max_len, padding='post')\n",
    "decoder_target_train = pad_sequences(decoder_target_train, maxlen=head_max_len, padding='post')\n",
    "decoder_input_test = pad_sequences(decoder_input_test, maxlen=head_max_len, padding='post')\n",
    "decoder_target_test = pad_sequences(decoder_target_test, maxlen=head_max_len, padding='post')"
   ]
  },
  {
   "cell_type": "markdown",
   "id": "8d8f771d",
   "metadata": {},
   "source": [
    "### Step 3. 어텐션 메커니즘 사용하기 (추상적 요약)\n",
    "일반적인 seq2seq보다는 어텐션 메커니즘을 사용한 seq2seq를 사용하는 것이 더 나은 성능을 얻을 수 있어요. 실습 내용을 참고하여 어텐션 메커니즘을 사용한 seq2seq를 설계해 보세요."
   ]
  },
  {
   "cell_type": "markdown",
   "id": "9f29aaa1",
   "metadata": {},
   "source": [
    "- 인코더 설계"
   ]
  },
  {
   "cell_type": "code",
   "execution_count": 29,
   "id": "ad764814",
   "metadata": {},
   "outputs": [],
   "source": [
    "from tensorflow.keras.layers import Input, LSTM, Embedding, Dense, Concatenate, TimeDistributed\n",
    "from tensorflow.keras.models import Model\n",
    "from tensorflow.keras.callbacks import EarlyStopping, ModelCheckpoint\n",
    "\n",
    "# 인코더 설계 시작\n",
    "embedding_dim = 128   # 임베딩 벡터의 차원\n",
    "hidden_size = 256     # hidden state의 크기\n",
    "\n",
    "# 인코더\n",
    "encoder_inputs = Input(shape=(text_max_len,))\n",
    "\n",
    "# 인코더의 임베딩 층\n",
    "enc_emb = Embedding(src_vocab, embedding_dim)(encoder_inputs)\n",
    "\n",
    "# 인코더의 LSTM 1\n",
    "# encoder_lstm1 = LSTM(hidden_size, return_sequences=True, return_state=True ,dropout = 0.4, recurrent_dropout = 0.4)\n",
    "encoder_lstm1 = LSTM(hidden_size, return_sequences=True, return_state=True ,dropout = 0.4)\n",
    "encoder_output1, state_h1, state_c1 = encoder_lstm1(enc_emb)\n",
    "\n",
    "# 인코더의 LSTM 2\n",
    "encoder_lstm2 = LSTM(hidden_size, return_sequences=True, return_state=True ,dropout = 0.4)\n",
    "encoder_output2, state_h2, state_c2 = encoder_lstm2(encoder_output1)\n",
    "\n",
    "# 인코더의 LSTM 3\n",
    "encoder_lstm3 = LSTM(hidden_size, return_sequences=True, return_state=True ,dropout = 0.4)\n",
    "encoder_outputs, state_h, state_c = encoder_lstm3(encoder_output2)"
   ]
  },
  {
   "cell_type": "markdown",
   "id": "53f5ac8f",
   "metadata": {},
   "source": [
    "- 디코더 설계"
   ]
  },
  {
   "cell_type": "code",
   "execution_count": 30,
   "id": "da5c3d02",
   "metadata": {},
   "outputs": [],
   "source": [
    "# 디코더 설계\n",
    "decoder_inputs = Input(shape=(None,))\n",
    "\n",
    "# 디코더의 임베딩 층\n",
    "dec_emb_layer = Embedding(tar_vocab, embedding_dim)\n",
    "dec_emb = dec_emb_layer(decoder_inputs)\n",
    "\n",
    "# 디코더의 LSTM\n",
    "# decoder_lstm = LSTM(hidden_size, return_sequences=True, return_state=True, dropout=0.4, recurrent_dropout=0.2)\n",
    "decoder_lstm = LSTM(hidden_size, return_sequences=True, return_state=True, dropout=0.4)\n",
    "decoder_outputs, _, _ = decoder_lstm(dec_emb, initial_state=[state_h, state_c])"
   ]
  },
  {
   "cell_type": "markdown",
   "id": "334f540c",
   "metadata": {},
   "source": [
    "- 어텐션 층"
   ]
  },
  {
   "cell_type": "code",
   "execution_count": 31,
   "id": "de174958",
   "metadata": {},
   "outputs": [
    {
     "name": "stdout",
     "output_type": "stream",
     "text": [
      "Model: \"model\"\n",
      "__________________________________________________________________________________________________\n",
      "Layer (type)                    Output Shape         Param #     Connected to                     \n",
      "==================================================================================================\n",
      "input_1 (InputLayer)            [(None, 50)]         0                                            \n",
      "__________________________________________________________________________________________________\n",
      "embedding (Embedding)           (None, 50, 128)      2688000     input_1[0][0]                    \n",
      "__________________________________________________________________________________________________\n",
      "lstm (LSTM)                     [(None, 50, 256), (N 394240      embedding[0][0]                  \n",
      "__________________________________________________________________________________________________\n",
      "input_2 (InputLayer)            [(None, None)]       0                                            \n",
      "__________________________________________________________________________________________________\n",
      "lstm_1 (LSTM)                   [(None, 50, 256), (N 525312      lstm[0][0]                       \n",
      "__________________________________________________________________________________________________\n",
      "embedding_1 (Embedding)         (None, None, 128)    1280000     input_2[0][0]                    \n",
      "__________________________________________________________________________________________________\n",
      "lstm_2 (LSTM)                   [(None, 50, 256), (N 525312      lstm_1[0][0]                     \n",
      "__________________________________________________________________________________________________\n",
      "lstm_3 (LSTM)                   [(None, None, 256),  394240      embedding_1[0][0]                \n",
      "                                                                 lstm_2[0][1]                     \n",
      "                                                                 lstm_2[0][2]                     \n",
      "__________________________________________________________________________________________________\n",
      "attention_layer (AdditiveAttent (None, None, 256)    256         lstm_3[0][0]                     \n",
      "                                                                 lstm_2[0][0]                     \n",
      "__________________________________________________________________________________________________\n",
      "concat_layer (Concatenate)      (None, None, 512)    0           lstm_3[0][0]                     \n",
      "                                                                 attention_layer[0][0]            \n",
      "__________________________________________________________________________________________________\n",
      "dense (Dense)                   (None, None, 10000)  5130000     concat_layer[0][0]               \n",
      "==================================================================================================\n",
      "Total params: 10,937,360\n",
      "Trainable params: 10,937,360\n",
      "Non-trainable params: 0\n",
      "__________________________________________________________________________________________________\n"
     ]
    }
   ],
   "source": [
    "from tensorflow.keras.layers import AdditiveAttention\n",
    "\n",
    "# 어텐션 층(어텐션 함수)\n",
    "attn_layer = AdditiveAttention(name='attention_layer')\n",
    "\n",
    "# 인코더와 디코더의 모든 time step의 hidden state를 어텐션 층에 전달하고 결과를 리턴\n",
    "attn_out = attn_layer([decoder_outputs, encoder_outputs])\n",
    "\n",
    "\n",
    "# 어텐션의 결과와 디코더의 hidden state들을 연결\n",
    "decoder_concat_input = Concatenate(axis=-1, name='concat_layer')([decoder_outputs, attn_out])\n",
    "\n",
    "# 디코더의 출력층\n",
    "decoder_softmax_layer = Dense(tar_vocab, activation='softmax')\n",
    "decoder_softmax_outputs = decoder_softmax_layer(decoder_concat_input)\n",
    "\n",
    "# 모델 정의\n",
    "model = Model([encoder_inputs, decoder_inputs], decoder_softmax_outputs)\n",
    "model.summary()"
   ]
  },
  {
   "cell_type": "markdown",
   "id": "04882af8",
   "metadata": {},
   "source": [
    "- 모델 훈련"
   ]
  },
  {
   "cell_type": "code",
   "execution_count": 32,
   "id": "1e9b0e89",
   "metadata": {},
   "outputs": [
    {
     "name": "stdout",
     "output_type": "stream",
     "text": [
      "Epoch 1/50\n",
      "291/291 [==============================] - 75s 105ms/step - loss: 6.0172 - val_loss: 5.5543\n",
      "Epoch 2/50\n",
      "291/291 [==============================] - 31s 106ms/step - loss: 5.3954 - val_loss: 5.1800\n",
      "Epoch 3/50\n",
      "291/291 [==============================] - 31s 106ms/step - loss: 5.0579 - val_loss: 4.9167\n",
      "Epoch 4/50\n",
      "291/291 [==============================] - 31s 105ms/step - loss: 4.7781 - val_loss: 4.7178\n",
      "Epoch 5/50\n",
      "291/291 [==============================] - 31s 106ms/step - loss: 4.5522 - val_loss: 4.5644\n",
      "Epoch 6/50\n",
      "291/291 [==============================] - 31s 106ms/step - loss: 4.3677 - val_loss: 4.4298\n",
      "Epoch 7/50\n",
      "291/291 [==============================] - 31s 106ms/step - loss: 4.2089 - val_loss: 4.3455\n",
      "Epoch 8/50\n",
      "291/291 [==============================] - 31s 106ms/step - loss: 4.0711 - val_loss: 4.2859\n",
      "Epoch 9/50\n",
      "291/291 [==============================] - 31s 106ms/step - loss: 3.9495 - val_loss: 4.2092\n",
      "Epoch 10/50\n",
      "291/291 [==============================] - 31s 106ms/step - loss: 3.8382 - val_loss: 4.1571\n",
      "Epoch 11/50\n",
      "291/291 [==============================] - 31s 106ms/step - loss: 3.7392 - val_loss: 4.1237\n",
      "Epoch 12/50\n",
      "291/291 [==============================] - 31s 106ms/step - loss: 3.6478 - val_loss: 4.0805\n",
      "Epoch 13/50\n",
      "291/291 [==============================] - 31s 106ms/step - loss: 3.5662 - val_loss: 4.0600\n",
      "Epoch 14/50\n",
      "291/291 [==============================] - 31s 106ms/step - loss: 3.4913 - val_loss: 4.0400\n",
      "Epoch 15/50\n",
      "291/291 [==============================] - 31s 106ms/step - loss: 3.4194 - val_loss: 4.0272\n",
      "Epoch 16/50\n",
      "291/291 [==============================] - 31s 106ms/step - loss: 3.3530 - val_loss: 3.9961\n",
      "Epoch 17/50\n",
      "291/291 [==============================] - 31s 106ms/step - loss: 3.2901 - val_loss: 3.9803\n",
      "Epoch 18/50\n",
      "291/291 [==============================] - 31s 106ms/step - loss: 3.2309 - val_loss: 3.9678\n",
      "Epoch 19/50\n",
      "291/291 [==============================] - 31s 106ms/step - loss: 3.1751 - val_loss: 3.9633\n",
      "Epoch 20/50\n",
      "291/291 [==============================] - 31s 106ms/step - loss: 3.1220 - val_loss: 3.9524\n",
      "Epoch 21/50\n",
      "291/291 [==============================] - 31s 106ms/step - loss: 3.0743 - val_loss: 3.9443\n",
      "Epoch 22/50\n",
      "291/291 [==============================] - 31s 106ms/step - loss: 3.0268 - val_loss: 3.9411\n",
      "Epoch 23/50\n",
      "291/291 [==============================] - 31s 106ms/step - loss: 2.9851 - val_loss: 3.9468\n",
      "Epoch 24/50\n",
      "291/291 [==============================] - 31s 106ms/step - loss: 2.9439 - val_loss: 3.9420\n",
      "Epoch 00024: early stopping\n"
     ]
    }
   ],
   "source": [
    "model.compile(optimizer='rmsprop', loss='sparse_categorical_crossentropy')\n",
    "es = EarlyStopping(monitor='val_loss', patience=2, verbose=1)\n",
    "history = model.fit(x=[encoder_input_train, decoder_input_train], y=decoder_target_train, \\\n",
    "          validation_data=([encoder_input_test, decoder_input_test], decoder_target_test), \\\n",
    "          batch_size=256, callbacks=[es], epochs=50)"
   ]
  },
  {
   "cell_type": "code",
   "execution_count": 33,
   "id": "3d3cac15",
   "metadata": {},
   "outputs": [
    {
     "data": {
      "image/png": "[encoded data removed]",
      "text/plain": [
       "<Figure size 432x288 with 1 Axes>"
      ]
     },
     "metadata": {
      "needs_background": "light"
     },
     "output_type": "display_data"
    }
   ],
   "source": [
    "# loss 시각화\n",
    "plt.plot(history.history['loss'], label='train')\n",
    "plt.plot(history.history['val_loss'], label='test')\n",
    "plt.legend()\n",
    "plt.show()"
   ]
  },
  {
   "cell_type": "markdown",
   "id": "2eb1f4a0",
   "metadata": {},
   "source": [
    "헤드라인 데이터에 대해 remove_stopwords를 True로 했을 때 loss값이 4, False로 했을 때는 3이 나옴"
   ]
  },
  {
   "cell_type": "markdown",
   "id": "20b2643e",
   "metadata": {},
   "source": [
    " "
   ]
  },
  {
   "cell_type": "markdown",
   "id": "3bcebccc",
   "metadata": {},
   "source": [
    "### Step 4. 실제 결과와 요약문 비교하기 (추상적 요약)\n",
    "원래의 요약문(headlines 열)과 학습을 통해 얻은 추상적 요약의 결과를 비교해 보세요."
   ]
  },
  {
   "cell_type": "markdown",
   "id": "77ff6d60",
   "metadata": {},
   "source": [
    "- 테스트 단계에서 필요한 3개의 사전 준비(정수 인코딩 된 텍스트 데이터를 실제 데이터로 복원)"
   ]
  },
  {
   "cell_type": "code",
   "execution_count": 34,
   "id": "09845d84",
   "metadata": {},
   "outputs": [],
   "source": [
    "src_index_to_word = src_tokenizer.index_word # 원문 단어 집합에서 정수 -> 단어를 얻음\n",
    "tar_word_to_index = tar_tokenizer.word_index # 요약 단어 집합에서 단어 -> 정수를 얻음\n",
    "tar_index_to_word = tar_tokenizer.index_word # 요약 단어 집합에서 정수 -> 단어를 얻음"
   ]
  },
  {
   "cell_type": "markdown",
   "id": "3d617ddd",
   "metadata": {},
   "source": [
    "- 인퍼런스 모델 구현\n",
    "\n",
    "seq2seq는 훈련할 때와 실제 동작할 때(인퍼런스 단계)의 방식이 다르므로 그에 맞게 모델 설계를 별개로 진행해야 함.\n",
    "\n",
    "정답 문장이 없는 인퍼런스 단계에서는 만들어야 할 문장의 길이만큼 디코더가 반복 구조로 동작해야 하기 때문에 부득이하게 인퍼런스를 위한 모델 설계를 별도로 해주어야 함.\n",
    "\n",
    "인코더 모델과 디코더 모델을 분리해서 설계"
   ]
  },
  {
   "cell_type": "code",
   "execution_count": 35,
   "id": "b903ec0c",
   "metadata": {},
   "outputs": [],
   "source": [
    "# 인코더 설계\n",
    "encoder_model = Model(inputs=encoder_inputs, outputs=[encoder_outputs, state_h, state_c])\n",
    "\n",
    "# 이전 시점의 상태들을 저장하는 텐서\n",
    "decoder_state_input_h = Input(shape=(hidden_size,))\n",
    "decoder_state_input_c = Input(shape=(hidden_size,))\n",
    "\n",
    "dec_emb2 = dec_emb_layer(decoder_inputs)\n",
    "\n",
    "# 문장의 다음 단어를 예측하기 위해서 초기 상태(initial_state)를 이전 시점의 상태로 사용. 이는 뒤의 함수 decode_sequence()에 구현\n",
    "# 훈련 과정에서와 달리 LSTM의 리턴하는 은닉 상태와 셀 상태인 state_h와 state_c를 버리지 않음.\n",
    "decoder_outputs2, state_h2, state_c2 = decoder_lstm(dec_emb2, initial_state=[decoder_state_input_h, decoder_state_input_c])"
   ]
  },
  {
   "cell_type": "code",
   "execution_count": 36,
   "id": "52e3145b",
   "metadata": {},
   "outputs": [],
   "source": [
    "# 어텐션 메커니즘을 사용하는 출력층\n",
    "# 어텐션 함수\n",
    "decoder_hidden_state_input = Input(shape=(text_max_len, hidden_size))\n",
    "attn_out_inf = attn_layer([decoder_outputs2, decoder_hidden_state_input])\n",
    "decoder_inf_concat = Concatenate(axis=-1, name='concat')([decoder_outputs2, attn_out_inf])\n",
    "\n",
    "# 디코더의 출력층\n",
    "decoder_outputs2 = decoder_softmax_layer(decoder_inf_concat) \n",
    "\n",
    "# 최종 디코더 모델\n",
    "decoder_model = Model(\n",
    "    [decoder_inputs] + [decoder_hidden_state_input,decoder_state_input_h, decoder_state_input_c],\n",
    "    [decoder_outputs2] + [state_h2, state_c2])"
   ]
  },
  {
   "cell_type": "markdown",
   "id": "851ec6ac",
   "metadata": {},
   "source": [
    "- 인퍼런스 단계에서 단어 시퀀스를 완성하는 함수"
   ]
  },
  {
   "cell_type": "code",
   "execution_count": 37,
   "id": "1265e38a",
   "metadata": {},
   "outputs": [],
   "source": [
    "def decode_sequence(input_seq):\n",
    "    # 입력으로부터 인코더의 상태를 얻음\n",
    "    e_out, e_h, e_c = encoder_model.predict(input_seq)\n",
    "\n",
    "     # <SOS>에 해당하는 토큰 생성\n",
    "    target_seq = np.zeros((1,1))\n",
    "    target_seq[0, 0] = tar_word_to_index['sostoken']\n",
    "\n",
    "    stop_condition = False\n",
    "    decoded_sentence = ''\n",
    "    while not stop_condition: # stop_condition이 True가 될 때까지 루프 반복\n",
    "\n",
    "        output_tokens, h, c = decoder_model.predict([target_seq] + [e_out, e_h, e_c])\n",
    "        sampled_token_index = np.argmax(output_tokens[0, -1, :])\n",
    "        sampled_token = tar_index_to_word[sampled_token_index]\n",
    "\n",
    "        if (sampled_token!='eostoken'):\n",
    "            decoded_sentence += ' '+sampled_token\n",
    "\n",
    "        #  <eos>에 도달하거나 최대 길이를 넘으면 중단.\n",
    "        if (sampled_token == 'eostoken'  or len(decoded_sentence.split()) >= (head_max_len-1)):\n",
    "            stop_condition = True\n",
    "\n",
    "        # 길이가 1인 타겟 시퀀스를 업데이트\n",
    "        target_seq = np.zeros((1,1))\n",
    "        target_seq[0, 0] = sampled_token_index\n",
    "\n",
    "        # 상태를 업데이트 합니다.\n",
    "        e_h, e_c = h, c\n",
    "\n",
    "    return decoded_sentence"
   ]
  },
  {
   "cell_type": "markdown",
   "id": "60f78eed",
   "metadata": {},
   "source": [
    "- 모델 테스트"
   ]
  },
  {
   "cell_type": "code",
   "execution_count": 40,
   "id": "44d56e16",
   "metadata": {},
   "outputs": [],
   "source": [
    "# 원문의 정수 시퀀스를 텍스트 시퀀스로 변환\n",
    "def seq2text(input_seq):\n",
    "    temp=''\n",
    "    for i in input_seq:\n",
    "        if (i!=0):\n",
    "            temp = temp + src_index_to_word[i]+' '\n",
    "    return temp\n",
    "\n",
    "# 요약문의 정수 시퀀스를 텍스트 시퀀스로 변환\n",
    "def seq2summary(input_seq):\n",
    "    temp=''\n",
    "    for i in input_seq:\n",
    "        if ((i!=0 and i!=tar_word_to_index['sostoken']) and i!=tar_word_to_index['eostoken']):\n",
    "            temp = temp + tar_index_to_word[i] + ' '\n",
    "    return temp"
   ]
  },
  {
   "cell_type": "code",
   "execution_count": 41,
   "id": "91173197",
   "metadata": {},
   "outputs": [
    {
     "name": "stdout",
     "output_type": "stream",
     "text": [
      "원문 : uninhabited lakshadweep island part disappeared coastal soil erosion according study island sq km reportedly fully resulting study observed five undergone coastal erosion \n",
      "실제 요약 : one of islands has claims study \n",
      "예측 요약 :  study of most popular by in study\n",
      "\n",
      "\n",
      "원문 : microsoft integrated aadhaar made india skype app allow users verify callers identity online parties verify identity beginning video call prevent impersonation fraud using feature feature useful making skype video calls business client government representative company said \n",
      "실제 요약 : indian skype app to use aadhaar to avoid fraud \n",
      "예측 요약 :  google rolls out of let users to let users\n",
      "\n",
      "\n",
      "원문 : actor salman khan said loves rewards awards added go award functions receive awards perform even bad performances paying happy like getting money standing jokingly said \n",
      "실제 요약 : like rewards more than awards salman khan \n",
      "예측 요약 :  best person at iifa award for best actor salman\n",
      "\n",
      "\n",
      "원문 : steve smith received one test ban admitted australia deliberately conspired cheat third test south africa cameron bancroft caught rubbing ball yellow tape coach darren lehmann talked th man allegedly told bancroft hide bancroft seen putting material trousers \n",
      "실제 요약 : watch the incident for which steve smith received test ban \n",
      "예측 요약 :  steve smith suspended for ball tampering in australia\n",
      "\n",
      "\n",
      "원문 : madhya pradesh minister tyagi known computer baba announced resignation today following resignation saying quit yet disappointed state government implement suggestions year old also accused state government anti religion \n",
      "실제 요약 : computer baba quits as madhya pradesh minister \n",
      "예측 요약 :  telangana cm resigns after he is not\n",
      "\n",
      "\n",
      "원문 : governor rule approved president ram nath kovind wednesday cm mehbooba mufti resigned bjp ended alliance pdp states president rule imposed collapse local government article constitution however constitution provides statutory layer state \n",
      "실제 요약 : why is governor rule imposed in instead of president \n",
      "예측 요약 :  nda governor nda governor resigns from nda govt\n",
      "\n",
      "\n",
      "원문 : number mobile internet users india likely reach million june according report internet mobile association india number increased december hit million december popularity mobile internet country attributed affordability \n",
      "실제 요약 : mobile internet users in india may hit mn by june report \n",
      "예측 요약 :  internet in india to reach india\n",
      "\n",
      "\n",
      "원문 : bus strike called tamil nadu transport unions entered sixth day tuesday despite madras high court order call seventeen unions went strike thursday demanding drivers salaries increased drivers government corporations demanded increase salaries government proposed hike \n",
      "실제 요약 : tamil nadu transport strike enters th day despite hc order \n",
      "예측 요약 :  tn doctors strike on strike over tamil nadu\n",
      "\n",
      "\n",
      "원문 : national anti profiteering authority gst asked lifestyle international refund customer along interest failed pass gst rate cut benefit cosmetic product product lifestyle ordered deposit amount consumer welfare fund \n",
      "실제 요약 : lifestyle told to refund for not passing gst cut benefit \n",
      "예측 요약 :  gst on gst rates cut by gst\n",
      "\n",
      "\n",
      "원문 : banks remain closed five continuous days starting thursday march per messages social media india bank officers confederation said said banks work saturday fifth saturday month banks remain closed second fourth month \n",
      "실제 요약 : no five holidays for banks from march \n",
      "예측 요약 :  sbi to pay up to end of all branches\n",
      "\n",
      "\n",
      "원문 : congress leader uttar pradesh gorakhpur initiated various campaigns based party president rahul gandhi promote brand rahul since anwar hussain initiated rahul milk campaign bjp launched chai pe charcha lok sabha elections pm candidate narendra modi also served rahul herbal tea outside banks demonetisation \n",
      "실제 요약 : up cong leader starts rahul milk rahul tea \n",
      "예측 요약 :  rahul gandhi calls rahul gandhi in new york\n",
      "\n",
      "\n",
      "원문 : fifa reportedly paying argentine football legend diego maradona around lakh per day attend fifa world cup russia maradona seen smoking cigar one match accused making racist gestures towards visiting fans year old also seen showing middle finger fans argentina last group match \n",
      "실제 요약 : fifa paying maradona per day to attend russia wc report \n",
      "예측 요약 :  fifa wc final for fifa world cup\n",
      "\n",
      "\n",
      "원문 : union home minister rajnath singh said even united opposition cannot take prime minister narendra modi general elections opposition parties left nothing coming together make difference also fact credibility opposition leaders low added \n",
      "실제 요약 : even united opposition cannot take on modi in rajnath \n",
      "예측 요약 :  pm modi is not in the world union minister\n",
      "\n",
      "\n",
      "원문 : john abraham photo film used promote gay cruise mexico activist author nia levy king shared poster twitter questioning whether actor image used permission john abhishek bachchan characters pretended gay order share apartment priyanka chopra character \n",
      "실제 요약 : john pic from used to promote gay cruise in mexico \n",
      "예측 요약 :  john slammed for calling anti anti poster\n",
      "\n",
      "\n",
      "원문 : deepika padukone ranveer singh took instagram share new pictures sindhi wedding ceremony held november sindhi wedding held honour ranveer roots couple also another wedding per konkani customs november deepika brahmin community karnataka \n",
      "실제 요약 : in pics deepika and ranveer wedding ceremony \n",
      "예측 요약 :  deepika ranveer to host wedding reception in italy\n",
      "\n",
      "\n",
      "원문 : tdp decided pull ministers union cabinet providing special status andhra pradesh bjp leader ks rao said happened classic case political case politics chandrababu naidu ji statement central govt standing support andhra pradesh blatant lie added \n",
      "실제 요약 : case of political bjp on andhra issue \n",
      "예측 요약 :  bjp mla to resign over special status in andhra\n",
      "\n",
      "\n",
      "원문 : former rbi governor raghuram rajan said comparison india china unfair two different countries said property rights democracy two major reasons india behind china added india gdp growth last years compared china \n",
      "실제 요약 : comparisons between india china unfair raghuram rajan \n",
      "예측 요약 :  india should not be allowed to india india guv\n",
      "\n",
      "\n",
      "원문 : rjd leader son former chief minister lalu prasad yadav tej pratap yadav asked chief minister nitish kumar increase security amidst deteriorating law order situation state said fear anyone kill anybody every day murder takes place fear walking roads \n",
      "실제 요약 : fear walking on roads need more security tej pratap yadav \n",
      "예측 요약 :  lalu prasad yadav calls lalu prasad yadav\n",
      "\n",
      "\n",
      "원문 : congress mumbai unit president sanjay nirupam monday claimed bjp victory gujarat assembly elections due people electronic voting machines entire gujarat bjp empty chairs could seen prime minister poll rallies nirupam added also called big threat indian democracy \n",
      "실제 요약 : bjp winning in gujarat due to evms congress leader \n",
      "예측 요약 :  bjp will win seats in polls bjp\n",
      "\n",
      "\n",
      "원문 : delhi government announced plans launch mobile application allow people check status government projects single platform move aimed bringing relevant information implementation schemes policies public domain application expected launched october government officials said \n",
      "실제 요약 : delhi govt to launch app to let people track govt work \n",
      "예측 요약 :  govt to launch new mobile app for free\n",
      "\n",
      "\n",
      "원문 : issuing warning india china iranian oil imports us state secretary mike pompeo veiled threat said watch pompeo added us committed reducing india china iranian oil imports zero us granted india temporary waiver iran oil sanctions \n",
      "실제 요약 : watch what we do us warns india over iran sanctions \n",
      "예측 요약 :  india will not be india to india us sanctions iran\n",
      "\n",
      "\n",
      "원문 : man arrested allegedly set ablaze year old woman extramarital affair maharashtra nashik following heated argument also set ablaze married daughter nine month old granddaughter police said infant year old woman died daughter admitted hospital critical condition \n",
      "실제 요약 : man sets ablaze her daughter and granddaughter \n",
      "예측 요약 :  man arrested for raping year old woman in delhi\n",
      "\n",
      "\n",
      "원문 : south africa main opposition party democratic alliance initiated probe former leader helen tweets claiming brought benefits like independent judiciary da party leader said violated party federal constitution acting manner brought party disrepute \n",
      "실제 요약 : african politician faces probe over pro tweets \n",
      "예측 요약 :  will not be allowed to fight in term term\n",
      "\n",
      "\n",
      "원문 : british built spacecraft taken first selfie space launched successfully weekend year journey mercury image snapped onboard camera shows spacecraft extended solar sun sensor bottom left place european japanese probes mercury orbit \n",
      "실제 요약 : spacecraft clicks st selfie yr journey to mercury \n"
     ]
    },
    {
     "name": "stdout",
     "output_type": "stream",
     "text": [
      "예측 요약 :  astronaut shares video of the year from space\n",
      "\n",
      "\n",
      "원문 : former pakistani captain wasim akram aged dismissed year old rounder shoaib malik exhibition match sunday sultan xi akram first beat xi malik second ball second dismissed caught behind next delivery akram ended figures team wickets \n",
      "실제 요약 : yr old wasim akram dismisses yr old shoaib malik for \n",
      "예측 요약 :  ex pak player gets his own wicket xi celebration\n",
      "\n",
      "\n",
      "원문 : ayushmann khurrana said every time concert feels like star adding good get soon possible easy though take easy ayushmann said \n",
      "실제 요약 : to stay must get off of stardom ayushmann \n",
      "예측 요약 :  ayushmann khurrana reveals he is not an thing ayushmann\n",
      "\n",
      "\n",
      "원문 : google parent alphabet ended second quarter cash reserves billion saw employee headcount rise year ago company revealed alphabet subsidiaries including self driving car unit waymo life sciences division verily registered revenue jump last year still made operating loss million last quarter \n",
      "실제 요약 : alphabet now has employees billion in cash \n",
      "예측 요약 :  alphabet loses bn in days after years\n",
      "\n",
      "\n",
      "원문 : world largest cigarette maker china national tobacco planned list international unit hong kong stock exchange state owned tobacco monopoly global wing china tobacco international responsible procuring overseas tobacco leaf countries like brazil us cigarette giant recorded revenue million nine months ended september \n",
      "실제 요약 : world largest cigarette maker plans ipo for its global arm \n",
      "예측 요약 :  china tencent overtakes world most valuable ever\n",
      "\n",
      "\n",
      "원문 : bank baroda classified crore loan given vikram kothari run rotomac global non performing asset october fraud december however complaint accusing kothari defrauding banks crore filed february escape pnb fraud accused nirav modi reportedly prompted bank file complaint \n",
      "실제 요약 : rotomac on loans in fraud case filed in \n",
      "예측 요약 :  sbi ceo crore crore from sbi bank\n",
      "\n",
      "\n",
      "원문 : british pakistani boxer amir khan announced split wife twitter duo got involved spat accusing cheating khan accused wife four years cheated another boxer anthony joshua currently unified world heavyweight champion later claimed social media accounts hacked \n",
      "실제 요약 : boxer amir khan accuses wife of cheating with world champion \n",
      "예측 요약 :  pakistan cricketer accused of copying wife from pakistan\n",
      "\n",
      "\n",
      "원문 : pm narendra modi saturday inaugurated infrastructure projects worth crore rajasthan include water supply projects several cities like mount abu elevated road project ajmer like anything bjp believes vikas vikas vikas said rally jaipur \n",
      "실제 요약 : pm modi inaugurates projects worth cr in rajasthan \n",
      "예측 요약 :  pm modi projects worth cr worth cr in gujarat\n",
      "\n",
      "\n",
      "원문 : australia based scientists analysing year old clay tablet identified world oldest accurate table dating least years right tablet columns depict various ratios researchers believe tablet used construction pyramids \n",
      "실제 요약 : yr old identified as oldest table \n",
      "예측 요약 :  scientists create first ever ever\n",
      "\n",
      "\n",
      "원문 : kerala high court slammed malayalam news channels crossing limits professional discussions removal kerala vigilance chief jacob thomas court said ruling wrongly directed government change director \n",
      "실제 요약 : kerala hc slams news channels for acting \n",
      "예측 요약 :  kerala hc bans kerala tv tv channels from tv\n",
      "\n",
      "\n",
      "원문 : bjp mp bai sunday slammed central government reports trying end reservations whether remain mp ensure constitution remains unchanged ensure reservation implemented said rally lucknow also slammed government recent incidents attacks dalits \n",
      "실제 요약 : bjp mp slams government over reservations dalit \n",
      "예측 요약 :  bjp mp bjp mp asks bjp to form govt\n",
      "\n",
      "\n",
      "원문 : supreme court ruled rebel mp sharad yadav disqualified mp december last year retain official bungalow cannot draw salary allowances top court modified delhi high court order allowed draw salary high court however refused grant interim stay disqualification \n",
      "실제 요약 : sharad yadav can keep official house cannot draw salary sc \n",
      "예측 요약 :  sc mp mp plea to fly for st time abroad\n",
      "\n",
      "\n",
      "원문 : government friday said cases fraud related credit debit cards internet banking involving amount lakh reported government said extent losses cases totalled crore december alone cases losses touching crore reported government added \n",
      "실제 요약 : card net banking frauds worth cr reported in \n",
      "예측 요약 :  govt to hire banks for lakh\n",
      "\n",
      "\n",
      "원문 : year old nri businessman died accidentally fell terrace taj mahal hotel lutyens delhi police said friday cctv footage showed deceased mangalam narendra drunk looking place terrace accident around noon said police hotel staff spotted almost hours incident \n",
      "실제 요약 : drunk nri falls from delhi taj mahal hotel terrace dies \n",
      "예측 요약 :  delhi man dies after falling from delhi house\n",
      "\n",
      "\n",
      "원문 : days reports walmart completing due diligence flipkart global rival amazon offered around billion breakup fee flipkart deal walmart according reports could potentially value flipkart billion breakup fee penalty set merger acquisitions agreements offered deal gets terminated \n",
      "실제 요약 : amazon offers bn to break up flipkart walmart deal report \n",
      "예측 요약 :  flipkart to sell flipkart flipkart flipkart flipkart deal\n",
      "\n",
      "\n",
      "원문 : cbi questioned officials foreign branches indian banks billion pnb fraud two officials canara bank branch bahrain one bank india belgium branch questioned branches extended credit facilities nirav modi mehul choksi firms basis letters undertaking pnb brady house branch mumbai \n",
      "실제 요약 : indian banks forex branch officials questioned in pnb fraud \n",
      "예측 요약 :  pnb to collect cr from nirav modi in india\n",
      "\n",
      "\n",
      "원문 : raid conducted jaipur residence indian revenue service officer ram meena anti corruption bureau recovered around crore cash jewellery worth lakh documents related pieces land shops among others also recovered police said meena currently posted deputy commissioner kota arrested \n",
      "실제 요약 : cr cash found during raid on officer in raj \n",
      "예측 요약 :  ex mp md booked for crore in cash scam\n",
      "\n",
      "\n",
      "원문 : three us service members killed tuesday afghanistan province attack claimed taliban militant group three service members wounded improvised explosive device detonated nato support mission said statement least us service members killed afghanistan year according reports \n",
      "실제 요약 : us service members killed in taliban attack in afghanistan \n",
      "예측 요약 :  us kills afghan soldiers in afghanistan\n",
      "\n",
      "\n",
      "원문 : uighur muslims xinjiang must upheld promote religious harmony senior chinese official said infiltration religious extremism must guarded head ruling communist party united front work department ethnic religious affairs added refers non chinese societies forced conform chinese culture \n",
      "실제 요약 : of muslims must go on chinese official \n",
      "예측 요약 :  hindu group denies reports of muslims from muslim temple\n",
      "\n",
      "\n",
      "원문 : gunman friday opened fire inside reception room office russian federal security service region killing officer visitor according reports gunman killed security guards returned fire later identified local resident alleged links neo nazi group \n",
      "실제 요약 : gunman attacks russian spy agency kills two \n",
      "예측 요약 :  man killed in paris fire at paris airport\n",
      "\n",
      "\n",
      "원문 : punjab police arrested four isi trained militants allegedly planning raise khalistan issue ipl matches scheduled take place mohali four arrested basis facebook campaign referendum funded khalistan groups help isi reports said set shop ablaze arrested \n",
      "실제 요약 : militants planning to raise khalistan issue at ipl held \n",
      "예측 요약 :  arrested in terror attack at terror attack in kashmir\n",
      "\n",
      "\n",
      "원문 : fearing protests teachers contract administration jharkhand banned kind black clothing attending pm narendra modi rally district january photo identity cards also mandatory attending rally para teachers earlier protested waving black flags jharkhand cm raghubar das function ranchi \n",
      "실제 요약 : black clothes banned at pm modi rally in jharkhand \n",
      "예측 요약 :  pm modi bans protest against pm modi for protest\n",
      "\n",
      "\n",
      "원문 : air india requested saudi arabia permission fly saudi airspace planned route israel airline spokesperson said hopes operate three direct flights per week delhi tel aviv notably saudi arabia recognize israel planes flying israel india banned saudi airspace \n",
      "실제 요약 : air india asks to fly over saudi arabia on israel route \n",
      "예측 요약 :  saudi arabia launches uae to yemen air force\n",
      "\n",
      "\n",
      "원문 : world richest man jeff bezos aerospace startup blue origin said designing large lunar lander called blue moon provide access moon surface part blue origin mission enabling people live work space startup said blue origin aims land moon five years \n",
      "실제 요약 : jeff bezos blue origin for moon mission \n"
     ]
    },
    {
     "name": "stdout",
     "output_type": "stream",
     "text": [
      "예측 요약 :  bezos blue origin man bezos to be world\n",
      "\n",
      "\n",
      "원문 : ranji trophy match delhi uttar pradesh featuring players like gautam gambhir suresh raina stopped man drove wagonr onto pitch ground delhi friday man claimed lost way drove onto ground absence security later beaten security \n",
      "실제 요약 : man drives car onto pitch in match featuring raina gambhir \n",
      "예측 요약 :  delhi ranji trophy scores match after scoring day\n",
      "\n",
      "\n",
      "원문 : delhi bjp chief manoj tiwari written letter cm arvind kejriwal asking return bengaluru receiving day treatment supervise drains ahead monsoon season since declared fit doctors must return delhi earliest resume work tiwari added \n",
      "실제 요약 : come back and work delhi bjp chief writes to cm kejriwal \n",
      "예측 요약 :  delhi cm kejriwal to be part of state state secy\n",
      "\n",
      "\n",
      "원문 : army soldier killed another injured mine blast firing range madhya pradesh sagar district friday explosive accidentally went arms trainer kumar planting police said mine planted part training schedule trainees standing far away \n",
      "실제 요약 : army soldier killed in mine blast in madhya pradesh \n",
      "예측 요약 :  naxals killed in encounter in odisha\n",
      "\n",
      "\n"
     ]
    }
   ],
   "source": [
    "# 약 50개 샘플에서 실제 요약과 예측된 요약을 비교\n",
    "for i in range(50, 100):\n",
    "    print(\"원문 :\", seq2text(encoder_input_test[i]))\n",
    "    print(\"실제 요약 :\", seq2summary(decoder_input_test[i]))\n",
    "    print(\"예측 요약 :\", decode_sequence(encoder_input_test[i].reshape(1, text_max_len)))\n",
    "    print(\"\\n\")"
   ]
  },
  {
   "cell_type": "markdown",
   "id": "cdb3fb34",
   "metadata": {},
   "source": [
    "### Step 5. Summa을 이용해서 추출적 요약해보기\n",
    "추상적 요약은 추출적 요약과는 달리 문장의 표현력을 다양하게 가져갈 수 있지만, 추출적 요약에 비해서 난이도가 높아요. 반대로 말하면 추출적 요약은 추상적 요약에 비해 난이도가 낮고 기존 문장에서 문장을 꺼내오는 것이므로 잘못된 요약이 나올 가능성이 낮아요.\n",
    "\n",
    "Summa의 summarize를 사용하여 추출적 요약을 해보세요."
   ]
  },
  {
   "cell_type": "code",
   "execution_count": 42,
   "id": "777bd5f2",
   "metadata": {},
   "outputs": [],
   "source": [
    "import requests\n",
    "from summa.summarizer import summarize"
   ]
  },
  {
   "cell_type": "code",
   "execution_count": 53,
   "id": "1e9be062",
   "metadata": {},
   "outputs": [
    {
     "name": "stdout",
     "output_type": "stream",
     "text": [
      "A US woman is recovering in a hospital after she was rescued from an elevator of a billionaire's townhouse in New York where she was stuck for three days. Firefighters forced open the doors of the elevator, which was stuck between the second and third floors. The woman, a housekeeping employee, was freed after a 911 call.\n"
     ]
    }
   ],
   "source": [
    "summ = pd.read_csv('news_summary_more.csv', encoding='iso-8859-1')\n",
    "print(summ['text'][220])"
   ]
  },
  {
   "cell_type": "code",
   "execution_count": 60,
   "id": "702fcf20",
   "metadata": {},
   "outputs": [
    {
     "name": "stdout",
     "output_type": "stream",
     "text": [
      "\n",
      "원문 :\n",
      "Saurav Kant, an alumnus of upGrad and IIIT-B's PG Program in Machine learning and Artificial Intelligence, was a Sr Systems Engineer at Infosys with almost 5 years of work experience. The program and upGrad's 360-degree career support helped him transition to a Data Scientist at Tech Mahindra with 90% salary hike. upGrad's Online Power Learning has powered 3 lakh+ careers.\n",
      "\n",
      "실제 요약 :\n",
      "upGrad learner switches to career in ML & Al with 90% salary hike\n",
      "\n",
      "예측 요약 :\n",
      "upGrad's Online Power Learning has powered 3 lakh+ careers.\n",
      "\n",
      "================================================================================\n",
      "\n",
      "원문 :\n",
      "Kunal Shah's credit card bill payment platform, CRED, gave users a chance to win free food from Swiggy for one year. Pranav Kaushik, a Delhi techie, bagged this reward after spending 2000 CRED coins. Users get one CRED coin per rupee of bill paid, which can be used to avail rewards from brands like Ixigo, BookMyShow, UberEats, Cult.Fit and more.\n",
      "\n",
      "실제 요약 :\n",
      "Delhi techie wins free food from Swiggy for one year on CRED\n",
      "\n",
      "예측 요약 :\n",
      "(요약 결과 없음)\n",
      "\n",
      "================================================================================\n",
      "\n",
      "원문 :\n",
      "New Zealand defeated India by 8 wickets in the fourth ODI at Hamilton on Thursday to win their first match of the five-match ODI series. India lost an international match under Rohit Sharma's captaincy after 12 consecutive victories dating back to March 2018. The match witnessed India getting all out for 92, their seventh lowest total in ODI cricket history.\n",
      "\n",
      "실제 요약 :\n",
      "New Zealand end Rohit Sharma-led India's 12-match winning streak\n",
      "\n",
      "예측 요약 :\n",
      "The match witnessed India getting all out for 92, their seventh lowest total in ODI cricket history.\n",
      "\n",
      "================================================================================\n",
      "\n",
      "원문 :\n",
      "With Aegon Life iTerm Insurance plan, customers can enjoy tax benefits on your premiums paid and save up to Ã¢ÂÂ¹46,800^ on taxes. The plan provides life cover up to the age of 100 years. Also, customers have options to insure against Critical Illnesses, Disability and Accidental Death Benefit Rider with a life cover up to the age of 80 years.\n",
      "\n",
      "실제 요약 :\n",
      "Aegon life iTerm insurance plan helps customers save tax\n",
      "\n",
      "예측 요약 :\n",
      "(요약 결과 없음)\n",
      "\n",
      "================================================================================\n",
      "\n",
      "원문 :\n",
      "Speaking about the sexual harassment allegations against Rajkumar Hirani, Sonam Kapoor said, \"I've known Hirani for many years...What if it's not true, the [#MeToo] movement will get derailed.\" \"In the #MeToo movement, I always believe a woman. But in this case, we need to reserve our judgment,\" she added. Hirani has been accused by an assistant who worked in 'Sanju'.\n",
      "\n",
      "실제 요약 :\n",
      "Have known Hirani for yrs, what if MeToo claims are not true: Sonam\n",
      "\n",
      "예측 요약 :\n",
      "(요약 결과 없음)\n",
      "\n",
      "================================================================================\n",
      "\n",
      "원문 :\n",
      "Pakistani singer Rahat Fateh Ali Khan has denied receiving any notice from the Enforcement Directorate over allegedly smuggling foreign currency out of India. \"It would have been better if the authorities would have served the notice first if any and then publicised this,\" reads a press release issued on behalf of Rahat. The statement further called the allegation \"bizarre\".\n",
      "\n",
      "실제 요약 :\n",
      "Rahat Fateh Ali Khan denies getting notice for smuggling currency\n",
      "\n",
      "예측 요약 :\n",
      "(요약 결과 없음)\n",
      "\n",
      "================================================================================\n",
      "\n",
      "원문 :\n",
      "India recorded their lowest ODI total in New Zealand after getting all out for 92 runs in 30.5 overs in the fourth ODI at Hamilton on Thursday. Seven of India's batsmen were dismissed for single-digit scores, while their number ten batsman Yuzvendra Chahal top-scored with 18*(37). India's previous lowest ODI total in New Zealand was 108.\n",
      "\n",
      "실제 요약 :\n",
      "India get all out for 92, their lowest ODI total in New Zealand\n",
      "\n",
      "예측 요약 :\n",
      "India's previous lowest ODI total in New Zealand was 108.\n",
      "\n",
      "================================================================================\n",
      "\n",
      "원문 :\n",
      "Weeks after ex-CBI Director Alok Verma told the Department of Personnel and Training to consider him retired, the Home Ministry asked him to join work on the last day of his fixed tenure as Director on Thursday. The ministry directed him to immediately join as DG, Fire Services, the post he was transferred to after his removal as CBI chief.\n",
      "\n",
      "실제 요약 :\n",
      "Govt directs Alok Verma to join work 1 day before his retirement\n",
      "\n",
      "예측 요약 :\n",
      "(요약 결과 없음)\n",
      "\n",
      "================================================================================\n",
      "\n",
      "원문 :\n",
      "Andhra Pradesh CM N Chandrababu Naidu has said, \"When I met then US President Bill Clinton, I addressed him as Mr Clinton, not as 'sir'. (PM Narendra) Modi is my junior in politics...I addressed him as sir 10 times.\" \"I did this...to satisfy his ego in the hope that he will do justice to the state,\" he added.\n",
      "\n",
      "실제 요약 :\n",
      "Called PM Modi 'sir' 10 times to satisfy his ego: Andhra CM\n",
      "\n",
      "예측 요약 :\n",
      "(요약 결과 없음)\n",
      "\n",
      "================================================================================\n",
      "\n",
      "원문 :\n",
      "Congress candidate Shafia Zubair won the Ramgarh Assembly seat in Rajasthan, by defeating BJP's Sukhwant Singh with a margin of 12,228 votes in the bypoll. With this victory, Congress has taken its total to 100 seats in the 200-member assembly. The election to the Ramgarh seat was delayed due to the death of sitting MLA and BSP candidate Laxman Singh.\n",
      "\n",
      "실제 요약 :\n",
      "Cong wins Ramgarh bypoll in Rajasthan, takes total to 100 seats\n",
      "\n",
      "예측 요약 :\n",
      "(요약 결과 없음)\n",
      "\n",
      "================================================================================\n",
      "\n",
      "원문 :\n",
      "Two minor cousins in Uttar Pradesh's Gorakhpur were allegedly repeatedly burnt with tongs and forced to eat human excreta by their family for being friends with two boys from the same school. The cousins revealed their ordeal to the police and Child Welfare Committee after being brought back to Gorakhpur from Nepal, where they had fled to escape the torture.\n",
      "\n",
      "실제 요약 :\n",
      "UP cousins fed human excreta for friendship with boys\n",
      "\n",
      "예측 요약 :\n",
      "(요약 결과 없음)\n",
      "\n",
      "================================================================================\n",
      "\n",
      "원문 :\n",
      "Isha Ghosh, an 81-year-old member of Bharat Scouts and Guides (BSG), has been imparting physical and mental training to schoolchildren in Jharkhand for several decades. Chaibasa-based Ghosh reportedly walks seven kilometres daily and spends eight hours conducting physical training, apart from climbing and yoga sessions. She says, \"One should do something for society till one's last breath.\"\n",
      "\n",
      "실제 요약 :\n",
      "81-yr-old woman conducts physical training in J'khand schools\n",
      "\n",
      "예측 요약 :\n",
      "(요약 결과 없음)\n",
      "\n",
      "================================================================================\n",
      "\n",
      "원문 :\n",
      "Urging saints and seers at the Kumbh Mela to quit smoking, Yoga guru Ramdev said, \"We follow Ram and Krishna who never smoked in their life then why should we?\" Making them take a pledge to quit tobacco, he collected chillum (clay pipe) from several sadhus. He said he will deposit the chillums for display at a museum he'll build.\n",
      "\n",
      "실제 요약 :\n",
      "Ram, Krishna didn't smoke, why should we: Ramdev to sadhus at Kumbh\n",
      "\n",
      "예측 요약 :\n",
      "(요약 결과 없음)\n",
      "\n",
      "================================================================================\n",
      "\n",
      "원문 :\n",
      "Former stripper and regional sales director of a pharmaceutical company, Sunrise Lee, gave a doctor a lap dance in a nightclub to persuade him to prescribe an addictive fentanyl spray in 2012, the company's sales representative told a US court. She said she saw Lee \"sitting on [doctor's] lap, kind of bouncing around.\" Lee has been accused of bribing doctors.\n",
      "\n",
      "실제 요약 :\n",
      "Pharma exec gave doctor a lap dance to sell medicine in US: Witness\n",
      "\n",
      "예측 요약 :\n",
      "(요약 결과 없음)\n",
      "\n",
      "================================================================================\n",
      "\n",
      "원문 :\n",
      "Reliance Industries' Chairman Mukesh Ambani's daughter Isha Ambani, who got married last month, said she only cried at her 'bidaai' because she felt peer pressure as everyone was crying, especially her parents. \"I was emotional too but everyone around me would cry all the time,\" she added. \"It was a very emotional affair for everyone in my family,\" said Isha.\n",
      "\n",
      "실제 요약 :\n",
      " I only cried at my 'bidaai' as I felt peer pressure: Isha Ambani\n",
      "\n",
      "예측 요약 :\n",
      "\"It was a very emotional affair for everyone in my family,\" said Isha.\n",
      "\n",
      "================================================================================\n",
      "\n",
      "원문 :\n",
      "Louis Vuitton owner LVMH, which makes high-end beverages like MoÃÂ«t & Chandon champagne and Hennessy cognac, said it's stockpiling four months' worth of wine and spirits in UK in preparation for Brexit. \"We're ready for worst case scenario if there are difficulties with deliveries,\" the French luxury giant said. The UK is scheduled to leave the EU on March 29.\n",
      "\n",
      "실제 요약 :\n",
      "Louis Vuitton owner to stockpile 4 months of wine, spirits in UK\n",
      "\n",
      "예측 요약 :\n",
      "(요약 결과 없음)\n",
      "\n",
      "================================================================================\n",
      "\n",
      "원문 :\n",
      "Filmmaker Karan Johar and actress Tabu turned showstoppers for Gaurav Gupta on the opening night of LakmÃÂ© Fashion Week Summer/ Resort 2019. While Johar wore a red sequinned jacket with black pants, Tabu walked the ramp in a grey embellished gown. The fashion show, which began on January 29, will continue till February 3.\n",
      "\n",
      "실제 요약 :\n",
      "Karan Johar, Tabu turn showstoppers on opening night of LFW\n",
      "\n",
      "예측 요약 :\n",
      "(요약 결과 없음)\n",
      "\n",
      "================================================================================\n",
      "\n",
      "원문 :\n",
      "In a jibe at Congress President Rahul Gandhi, PM Narendra Modi on Wednesday said those on \"bail will have to go to jail.\" PM Modi added, \"He is out on bail and his associates too are facing charges...I know they will be convicted one day.\" The PM claimed he'd waged a war on corruption because he's from a common household. \n",
      "\n",
      "실제 요약 :\n",
      "Those on bail will go to jail: PM Modi takes jibe at Rahul\n",
      "\n",
      "예측 요약 :\n",
      "(요약 결과 없음)\n",
      "\n",
      "================================================================================\n",
      "\n",
      "원문 :\n",
      "Days after he threatened to step down from his post if Congress MLAs continue \"crossing the line,\" Karnataka Chief Minister HD Kumaraswamy accused them of taking potshots and asked, \"How many more days can I tolerate such stuff?\" Kumaraswamy, who made the statements after a Congress MLA demanded that Siddaramaiah be made CM again, said, \"Power is ephemeral.\"\n",
      "\n",
      "실제 요약 :\n",
      "How long can I tolerate Congress leaders' potshots: K'taka CM\n",
      "\n",
      "예측 요약 :\n",
      "(요약 결과 없음)\n",
      "\n",
      "================================================================================\n",
      "\n",
      "원문 :\n",
      "Union Minister Dharmendra Pradhan on Wednesday claimed the illegal mining mafia in Odisha operates under the control of CM Naveen Patnaik and state Congress chief Niranjan Patnaik. He added, \"The time has come for the people of Odisha to put a full stop to their activities...The time has come for us to ask for an explanation from this corrupt government.\"\n",
      "\n",
      "실제 요약 :\n",
      "Odisha CM Patnaik controls mining mafia: Union Minister\n",
      "\n",
      "예측 요약 :\n",
      "(요약 결과 없음)\n",
      "\n",
      "================================================================================\n",
      "\n",
      "원문 :\n",
      "Claiming there is a dearth of ideas among opposition parties, Prime Minister Narendra Modi on Wednesday said, \"The opposition talks only about Modi the whole day, I suspect they even dream about me.\" PM Modi, who was addressing the New India Youth Conclave inÃ¢ÂÂ Surat, added that the opposition parties have only one agenda which is \"Modi\". \n",
      "\n",
      "실제 요약 :\n",
      "I think the opposition even dreams about me: PM Modi\n",
      "\n",
      "예측 요약 :\n",
      "(요약 결과 없음)\n",
      "\n",
      "================================================================================\n",
      "\n",
      "원문 :\n",
      "The Indian Space Research Organisation on Wednesday unveiled Human Space Flight Centre in Bengaluru for its Ã¢ÂÂ¹10,000-crore manned space mission 'Gaganyaan' scheduled for 2021. ISRO said the centre will be responsible for development of engineering systems for crew survival in space and crew selection and training. It'll also pursue activities for sustained human space flight missions, ISRO added.\n",
      "\n",
      "실제 요약 :\n",
      "ISRO unveils Bengaluru centre for manned space mission \n",
      "\n",
      "예측 요약 :\n",
      "It'll also pursue activities for sustained human space flight missions, ISRO added.\n",
      "\n",
      "================================================================================\n",
      "\n",
      "원문 :\n",
      "At least 12 people have been killed and 170 others have been injured in Saudi Arabia this week due to flooding from heavy rain. The emergency services rescued 271 people from the flooded areas, more than half of them in Tabuk. Heavy rains hit mainly western and northwestern parts of Saudi Arabia, near its border with Jordan.\n",
      "\n",
      "실제 요약 :\n",
      "12 killed, 170 injured in Saudi Arabia floods\n",
      "\n",
      "예측 요약 :\n",
      "(요약 결과 없음)\n",
      "\n",
      "================================================================================\n",
      "\n",
      "원문 :\n",
      "Reliance Industries' Chairman Mukesh Ambani's daughter Isha Ambani has featured on the cover of the February edition of Vogue India. She's dressed in a white shirt dress and black ruffled skirt by Australian designer Toni Maticevski, while accessorising her look with a Misho ring. In the cover story on her, Isha has spoken about her work and life after marriage.\n",
      " \n",
      "\n",
      "실제 요약 :\n",
      "Isha Ambani features on February cover of Vogue magazine\n",
      "\n",
      "예측 요약 :\n",
      "Reliance Industries' Chairman Mukesh Ambani's daughter Isha Ambani has featured on the cover of the February edition of Vogue India.\n",
      "\n",
      "================================================================================\n",
      "\n",
      "원문 :\n",
      "Indian Oil Corporation on Wednesday said it's looking for an annual deal to buy US crude as it seeks to broaden oil purchasing options. This comes amid uncertainties over Iran imports. The US had in November granted a six-month waiver to India from sanctions against Iran and restricted the country's monthly intake of Iranian oil to 3,00,000 barrels per day.\n",
      "\n",
      "\n",
      "\n",
      "실제 요약 :\n",
      "Indian Oil looking for annual deal to buy crude from US\n",
      "\n",
      "예측 요약 :\n",
      "(요약 결과 없음)\n",
      "\n",
      "================================================================================\n",
      "\n",
      "원문 :\n",
      "Former Windies fast bowler Curtly Ambrose dismissed seven Australian batsmen within a span of 32 balls giving away just one run, in a Test match on January 30, 1993. Ambrose's spell helped his team bowl out Australia for 119 in the first innings, after being 85 for 2 at one point. Ambrose ended with first-innings figures of 18-9-25-7.\n",
      "\n",
      "실제 요약 :\n",
      "Pacer once took 7 wickets for just 1 run in 32 balls in a Test\n",
      "\n",
      "예측 요약 :\n",
      "Ambrose ended with first-innings figures of 18-9-25-7.\n",
      "\n",
      "================================================================================\n",
      "\n",
      "원문 :\n",
      "A London zoo is offering people to name a cockroach after their exes on Valentine's Day for ÃÂ£1.50 (nearly Ã¢ÂÂ¹140). \"For those that don't quite require revenge, there's another way to make you feel better about getting back at your ex,\" the zoo said in a statement. The names will appear on zoo's 'roach board' on February 14. \n",
      "\n",
      "실제 요약 :\n",
      "UK zoo offers people to name cockroach after their ex on Valentine's\n",
      "\n",
      "예측 요약 :\n",
      "The names will appear on zoo's 'roach board' on February 14.\n",
      "\n",
      "================================================================================\n",
      "\n",
      "원문 :\n",
      "Stand-in captain Rohit Sharma has become the 14th Indian cricketer to play 200 ODIs, achieving the feat after taking the field against New Zealand in fourth ODI at Hamilton on Thursday. The 31-year-old had made his ODI debut on June 23, 2007, against Ireland in Belfast. Rohit scored 7,799 runs in his first 199 ODIs at an average of 48.14.\n",
      "\n",
      "실제 요약 :\n",
      "Rohit Sharma becomes 14th Indian cricketer to play 200 ODIs\n",
      "\n",
      "예측 요약 :\n",
      "Rohit scored 7,799 runs in his first 199 ODIs at an average of 48.14.\n",
      "\n",
      "================================================================================\n",
      "\n",
      "원문 :\n",
      "Batsman Shubman Gill has become the 227th cricketer to represent India in ODI cricket, achieving the feat against New Zealand in the fourth ODI at Hamilton on Thursday. The 19-year-old received his maiden ODI cap from former captain MS Dhoni. Notably, Shubman was named Player of the Under-19 World Cup in New Zealand last year.\n",
      "\n",
      "실제 요약 :\n",
      "19-year-old Shubman Gill becomes India's 227th ODI cricketer\n",
      "\n",
      "예측 요약 :\n",
      "Notably, Shubman was named Player of the Under-19 World Cup in New Zealand last year.\n",
      "\n",
      "================================================================================\n",
      "\n",
      "원문 :\n",
      "Investigators searching for a lost plane carrying Argentine forward Emiliano Sala found two seat cushions on French coast that \"likely\" belonged to the aircraft. The investigators said they'll now launch an underwater seabed search for aircraft wreckage. The Cardiff City footballer was travelling from France's Nantes to Wales' Cardiff when his plane disappeared over English Channel on January 21.\n",
      "\n",
      "실제 요약 :\n",
      "2 seat cushions from 'missing plane carrying footballer' found\n",
      "\n",
      "예측 요약 :\n",
      "(요약 결과 없음)\n",
      "\n",
      "================================================================================\n",
      "\n",
      "원문 :\n",
      "Italian third division football side Lucchese's head coach Giancarlo Favarin has been banned for five months for headbutting Alessandria's assistant coach Gaetano Mancino during a brawl following the teams' 2-2 draw on Sunday. Mancino was caught off-balance and knocked to the ground after the headbutt. Earlier in the match, Favarin had told his own player to break an opponent's legs.\n",
      "\n",
      "실제 요약 :\n",
      "Italian coach knocks rival down with headbutt, banned for 5 months\n",
      "\n",
      "예측 요약 :\n",
      "(요약 결과 없음)\n",
      "\n",
      "================================================================================\n",
      "\n",
      "원문 :\n",
      "Cyclists taking part in National Track Cycling Championship in Jaipur opted to sleep on the floor inside the stadium instead of hotels over expensive cycles. The organisers had booked hotels but they didn't have the provision for cyclists to keep their bikes inside. A national gold medallist said their cycles cost between Ã¢ÂÂ¹5-9 lakh and once damaged, they become non-repairable. \n",
      "\n",
      "실제 요약 :\n",
      "Cyclists sleep on stadium floor instead of hotel over costly cycles\n",
      "\n",
      "예측 요약 :\n",
      "(요약 결과 없음)\n",
      "\n",
      "================================================================================\n",
      "\n",
      "원문 :\n",
      "Silvia Grecco, a 56-year-old Brazilian mother narrates her local football team Palmeiras' matches live to her 12-year-old blind and autistic son Nickollas from the stands. \"I describe details: this player is wearing short sleeves...colour of...football boots, hair colour...Everything I see and feel, I tell him, even when I need to curse the referee!\" Grecco said after a recent match.\n",
      "\n",
      "실제 요약 :\n",
      "Brazilian mother narrates football matches to blind son from stands\n",
      "\n",
      "예측 요약 :\n",
      "(요약 결과 없음)\n",
      "\n",
      "================================================================================\n",
      "\n",
      "원문 :\n",
      "A TechCrunch report has claimed that IndiaÃ¢ÂÂs largest bank SBI secured a passwordless server \"overnight\" on being alerted it allowed anyone to access phone numbers, bank balances, and transactions of millions of its customers. The Mumbai-based server was containing two months of data from SBI Quick, an SMS and call-based system used to request basic information about accounts, TechCrunch revealed.\n",
      "\n",
      "실제 요약 :\n",
      "SBI left account data of millions of users unprotected: Report\n",
      "\n",
      "예측 요약 :\n",
      "(요약 결과 없음)\n",
      "\n",
      "================================================================================\n",
      "\n",
      "원문 :\n",
      "Rahul Gandhi has replied to Goa CM Manohar Parrikar's letter, which accused the Congress President of using his \"visit to an ailing man for political gains\". \"He's under immense pressure from the PM after our meeting and needs to demonstrate his loyalty by attacking me,\" Gandhi wrote in his letter. Parrikar had clarified he didn't discuss Rafale deal with Rahul.\n",
      "\n",
      "실제 요약 :\n",
      "CM Parrikar under pressure from PM after our Goa meet: Rahul\n",
      "\n",
      "예측 요약 :\n",
      "(요약 결과 없음)\n",
      "\n",
      "================================================================================\n",
      "\n",
      "원문 :\n",
      "Twenty-seven-year-old Mohammed Mahuwala was arrested in Indore on Wednesday for allegedly cheating e-commerce giant Amazon of nearly Ã¢ÂÂ¹30 lakh. Mahuwala was a member of a gang who ordered costly gadgets from Amazon. \"[They] used to get refund of the amount paid...by saying the parcel...was empty. In reality, these devices were taken out from parcel and sold...to local shopkeepers,\" said police.\n",
      "\n",
      "실제 요약 :\n",
      "Man arrested for cheating Amazon of Ã¢ÂÂ¹30 lakh by taking refunds\n",
      "\n",
      "예측 요약 :\n",
      "Mahuwala was a member of a gang who ordered costly gadgets from Amazon.\n",
      "\n",
      "================================================================================\n",
      "\n",
      "원문 :\n",
      "AgustaWestland chopper scam co-accused Rajiv Saxena was extradited to India from UAE on Wednesday. He had been evading the Enforcement Directorate's summons claiming he was suffering from leukaemia but had moved an anti-money laundering court for anticipatory bail in December, stating he had never been summoned at his Dubai address. Saxena's lawyers alleged he had been \"illegally extradited\". \n",
      "\n",
      "실제 요약 :\n",
      "AgustaWestland scam accused Rajiv Saxena extradited to India\n",
      "\n",
      "예측 요약 :\n",
      "AgustaWestland chopper scam co-accused Rajiv Saxena was extradited to India from UAE on Wednesday.\n",
      "\n",
      "================================================================================\n",
      "\n",
      "원문 :\n",
      "Afghan President Ashraf Ghani has said the \"keys to war\" are in Pakistan's Islamabad, Quetta and Rawalpindi, accusing the country of providing safe havens to militants, including those belonging to the Taliban. Ghani added the \"key to peace was in Afghanistan\". His comments came amid the talks between the US and the Taliban to end the 17-year war in Afghanistan.\n",
      "\n",
      "실제 요약 :\n",
      "Pakistan holds 'keys to war': Afghanistan\n",
      "\n",
      "예측 요약 :\n",
      "(요약 결과 없음)\n",
      "\n",
      "================================================================================\n",
      "\n",
      "원문 :\n",
      "A Singapore-based insurance agent has been jailed for two years and five months for threatening to harm his clients unless they paid him in bitcoins. The 36-year-old set up an email account, and signed the messages as 'Lord Voldemort', a fictional character from the Harry Potter series. Ye Lin Myint targeted about 33 people, including those who cancelled insurance policies.\n",
      "\n",
      "실제 요약 :\n",
      "Insurance agent 'Lord Voldemort' jailed for threatening clients\n",
      "\n",
      "예측 요약 :\n",
      "(요약 결과 없음)\n",
      "\n",
      "================================================================================\n",
      "\n",
      "원문 :\n",
      "Gabrielle Reilly, a 22-year-old US woman, created earrings for her Apple AirPods and put it up for sale online for $20 (about Ã¢ÂÂ¹1,500). \"I absolutely refuse to lose them (AirPods)...So I made earrings,\" she explained. The earrings, which took her over an hour to make, debuted in a video on Twitter that has since garnered over three million views.\n",
      "\n",
      "실제 요약 :\n",
      "Woman turns Apple AirPods into earrings to avoid losing them\n",
      "\n",
      "예측 요약 :\n",
      "\"I absolutely refuse to lose them (AirPods)...So I made earrings,\" she explained.\n",
      "\n",
      "================================================================================\n",
      "\n",
      "원문 :\n",
      "Ex-ICICI Bank CEO Chanda Kochhar said she's \"utterly disappointed, hurt and shocked\" by the bank's decision to terminate her. Kochhar said she served ICICI for 34 years with utmost honesty and integrity and that ultimately truth will prevail. Adding that she hasn't been given a copy of the independent probe report, Kochhar said none of ICICI's credit decisions are unilateral\n",
      "\n",
      "실제 요약 :\n",
      "Shocked, hurt by ICICI's decision, truth will prevail: Kochhar\n",
      "\n",
      "예측 요약 :\n",
      "(요약 결과 없음)\n",
      "\n",
      "================================================================================\n",
      "\n",
      "원문 :\n",
      "Swedish multinational fast-fashion brand Hennes & Mauritz AB (H&M) has hired Christopher Wylie, the whistleblower who exposed Facebook's Cambridge Analytica data scandal. WylieÃ¢ÂÂs focus will be to help get better insights on customers, products and markets and support work on sustainable and ethical artificial intelligence, H&M spokesperson said. Wylie is a former employee of Cambridge Analytica.\n",
      "\n",
      "실제 요약 :\n",
      "Fashion brand H&M hires Facebook data scandal whistleblower\n",
      "\n",
      "예측 요약 :\n",
      "(요약 결과 없음)\n",
      "\n",
      "================================================================================\n",
      "\n",
      "원문 :\n",
      "Micro-blogging platform Twitter is testing a new feature on Android to put news on the top of a user's timeline. \"With this update, weÃ¢ÂÂre making it easier for people to see news and stories their followers have been discussing,\" Product Manager Walter Gurzynski said. The feature comes alongside a prompt saying, \"Catch up on what's happened while you were away.\"\n",
      "\n",
      "실제 요약 :\n",
      "Twitter testing news-first timeline feature on Android\n",
      "\n",
      "예측 요약 :\n",
      "Micro-blogging platform Twitter is testing a new feature on Android to put news on the top of a user's timeline.\n",
      "\n",
      "================================================================================\n",
      "\n",
      "원문 :\n",
      "Samsung has started mass producing its one terabyte 'embedded Universal Flash Storage (eUFS) 2.1' technology for \"use in next-generation mobile applications\", which it claims is the industry's first such eUFS. The company added the new eUFS will let smartphones store 260 10-minute videos shot in 4K UHD format. It'll be sized the same as the previous 512GB version, Samsung said.\n",
      "\n",
      "실제 요약 :\n",
      "Samsung builds world's first 1TB storage chip for smartphones \n",
      "\n",
      "예측 요약 :\n",
      "(요약 결과 없음)\n",
      "\n",
      "================================================================================\n",
      "\n",
      "원문 :\n",
      "Prime Minister Narendra Modi on Wednesday said the people with 'negative mindset' are questioning him and his government for floating pro-poor schemes. He added negative mindset people are raising doubts about schemes such as building toilets and providing free gas connections to the poor. He further said that negative mentality laced with a vested interest still exists in the country.\n",
      "\n",
      "실제 요약 :\n",
      "People with 'negative mindset' quizzing pro-poor schemes: PM\n",
      "\n",
      "예측 요약 :\n",
      "(요약 결과 없음)\n",
      "\n",
      "================================================================================\n",
      "\n",
      "원문 :\n",
      "Union Minister Anantkumar Hegde took a dig at Congress President Rahul Gandhi by calling him a \"hybrid specimen\" who has no clue about religion. \"A father who's...Muslim, a mother who's...Christian and the son is supposed to be...Brahmin. How is that even possible?\" he said. He added such \"hybrid specimen\" cannot be found in any laboratory in the world.\n",
      "\n",
      "실제 요약 :\n",
      "Rahul is hybrid specimen, has no clue about religion: Hegde\n",
      "\n",
      "예측 요약 :\n",
      "(요약 결과 없음)\n",
      "\n",
      "================================================================================\n",
      "\n",
      "원문 :\n",
      "Several parts of the US are set to experience record low temperatures as the polar vortex hit the Upper Midwest, with more than 200 million people expected to experience below-freezing temperatures this week. Temperatures throughout the Upper Midwest are expected to be at least 20-40Ã¢ÂÂ below zero. Government offices and schools have been closed in several areas.\n",
      "\n",
      "실제 요약 :\n",
      "Extreme cold to affect 200 million people as polar vortex hits US\n",
      "\n",
      "예측 요약 :\n",
      "(요약 결과 없음)\n",
      "\n",
      "================================================================================\n",
      "\n",
      "원문 :\n",
      "The police on Wednesday registered cases against 13 persons, including a woman leader of Hindu Mahasabha, in Aligarh for firing at an effigy of Mahatma Gandhi with an air pistol. \"The incident took place in a house in Naurangabad locality of the city,\" Senior Superintendent of Police said. The video of the event went viral on social media, he added.\n",
      "\n",
      "실제 요약 :\n",
      "13 booked for firing air shots at Mahatma Gandhi's effigy\n",
      "\n",
      "예측 요약 :\n",
      "(요약 결과 없음)\n",
      "\n",
      "================================================================================\n",
      "\n",
      "원문 :\n",
      "Railway police has rescued a woman travelling on a train in Chennai who got her leg stuck inside the commode of a toilet. After being caught inside the commode hole, she struggled to remove her leg and following failed attempts, she shouted for help, reports said. Railway police used a cutter to pry open the commode and freed her leg.\n",
      "\n",
      "실제 요약 :\n",
      "Railway police rescues woman with leg stuck in train toilet\n",
      "\n",
      "예측 요약 :\n",
      "(요약 결과 없음)\n",
      "\n",
      "================================================================================\n",
      "\n",
      "원문 :\n",
      "The US on Tuesday began returning asylum seekers to Mexico, sending back a migrant from a Central American nation and called the move a \"response to the illegal migration crisis\" faced by it. Under its Migrant Protection Protocols policy, the US will return certain migrants who cross into the country illegally back to Mexico while their asylum requests are processed.\n",
      "\n",
      "실제 요약 :\n",
      "US begins sending back asylum seekers to Mexico\n",
      "\n",
      "예측 요약 :\n",
      "(요약 결과 없음)\n",
      "\n",
      "================================================================================\n"
     ]
    }
   ],
   "source": [
    "from summa.summarizer import summarize\n",
    "\n",
    "predicted_summaries = []\n",
    "\n",
    "for i in range(0, 50):\n",
    "    text = summ.loc[i, 'text']\n",
    "\n",
    "    try:\n",
    "        summary = summarize(text, words=10, language='english')\n",
    "        if not summary.strip():\n",
    "            summary = \"(요약 결과 없음)\"\n",
    "    except Exception as e:\n",
    "        summary = f\"(요약 실패: {e})\"\n",
    "    \n",
    "    predicted_summaries.append(summary)\n",
    "\n",
    "    print(f\"\\n원문 :\\n{text}\\n\")\n",
    "    print(f\"실제 요약 :\\n{summ.loc[i, 'headlines']}\\n\")\n",
    "    print(f\"예측 요약 :\\n{summary}\\n\")\n",
    "    print(\"=\"*80)\n"
   ]
  },
  {
   "cell_type": "markdown",
   "id": "21000cfe",
   "metadata": {},
   "source": [
    "smmarize함수의 words를 10 ~ 40으로 바꿔본 결과 20 ~ 40은 예측 요약 결과가 너무 길어 요약의 의미가 없었고 10 이하는 요약 결과 없음이 너무 많이 발생함."
   ]
  },
  {
   "cell_type": "markdown",
   "id": "391446ce",
   "metadata": {},
   "source": [
    " "
   ]
  },
  {
   "cell_type": "markdown",
   "id": "c2c57ff4",
   "metadata": {},
   "source": [
    "- 추상적요약과 추출적요약 비교"
   ]
  },
  {
   "cell_type": "markdown",
   "id": "4674406a",
   "metadata": {},
   "source": [
    "|항목|추상적요약|추출적요약|\n",
    "|:---:|:---:|:---:|\n",
    "|문법완성도|문법 오류 발생|대체로 완전한 문장 구성|\n",
    "|핵심단어 포함|누락,단어 중복 있음|핵심단어 대부분 포함되어 있음|"
   ]
  },
  {
   "cell_type": "markdown",
   "id": "332869ea",
   "metadata": {},
   "source": [
    "회고\n",
    "- 추상적요약의 훈련 결과 loss값이 3~4로 왜이렇게 높은 건지 알아내고 싶었으나 clean text와 훈련 과정에서 시간이 꽤 걸려서 많은 실험을 해보지 못한 것이 아쉽다. \n",
    "- 어텐션 메커니즘을 설계 해볼 수 있어서 뜻깊었다. \n",
    "- 요약봇들의 성능을 올리기가 정말 쉽지 않다는 것을 느꼈다."
   ]
  }
 ],
 "metadata": {
  "kernelspec": {
   "display_name": "Python 3 (ipykernel)",
   "language": "python",
   "name": "python3"
  },
  "language_info": {
   "codemirror_mode": {
    "name": "ipython",
    "version": 3
   },
   "file_extension": ".py",
   "mimetype": "text/x-python",
   "name": "python",
   "nbconvert_exporter": "python",
   "pygments_lexer": "ipython3",
   "version": "3.9.7"
  }
 },
 "nbformat": 4,
 "nbformat_minor": 5
}
