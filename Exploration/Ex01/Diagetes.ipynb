{
 "cells": [
  {
   "cell_type": "code",
   "execution_count": 4,
   "id": "b4b21e05",
   "metadata": {},
   "outputs": [],
   "source": [
    "from sklearn.datasets import load_diabetes\n",
    "diabetes = load_diabetes()"
   ]
  },
  {
   "cell_type": "code",
   "execution_count": 13,
   "id": "9888bbd0",
   "metadata": {},
   "outputs": [
    {
     "name": "stdout",
     "output_type": "stream",
     "text": [
      "(442, 10)\n",
      "(442,)\n"
     ]
    }
   ],
   "source": [
    "df_X = diabetes.data\n",
    "df_y = diabetes.target\n",
    "print(df_X.shape)\n",
    "print(df_y.shape)"
   ]
  },
  {
   "cell_type": "code",
   "execution_count": 14,
   "id": "674246bc",
   "metadata": {},
   "outputs": [
    {
     "name": "stdout",
     "output_type": "stream",
     "text": [
      "[[ 0.03807591  0.05068012  0.06169621  0.02187235 -0.0442235  -0.03482076\n",
      "  -0.04340085 -0.00259226  0.01990842 -0.01764613]\n",
      " [-0.00188202 -0.04464164 -0.05147406 -0.02632783 -0.00844872 -0.01916334\n",
      "   0.07441156 -0.03949338 -0.06832974 -0.09220405]\n",
      " [ 0.08529891  0.05068012  0.04445121 -0.00567061 -0.04559945 -0.03419447\n",
      "  -0.03235593 -0.00259226  0.00286377 -0.02593034]\n",
      " [-0.08906294 -0.04464164 -0.01159501 -0.03665645  0.01219057  0.02499059\n",
      "  -0.03603757  0.03430886  0.02269202 -0.00936191]\n",
      " [ 0.00538306 -0.04464164 -0.03638469  0.02187235  0.00393485  0.01559614\n",
      "   0.00814208 -0.00259226 -0.03199144 -0.04664087]]\n",
      "[151.  75. 141. 206. 135.]\n"
     ]
    }
   ],
   "source": [
    "import numpy as np\n",
    "X = np.array(df_X)\n",
    "y = np.array(df_y)\n",
    "print(X[:5])\n",
    "print(y[:5])"
   ]
  },
  {
   "cell_type": "code",
   "execution_count": 17,
   "id": "6481a9cc",
   "metadata": {},
   "outputs": [
    {
     "name": "stdout",
     "output_type": "stream",
     "text": [
      "(353, 10) (353,)\n",
      "(89, 10) (89,)\n"
     ]
    }
   ],
   "source": [
    "from sklearn.model_selection import train_test_split\n",
    "X_train, X_test, y_train, y_test = train_test_split(X, y, test_size=0.2, random_state=42)\n",
    "print(X_train.shape, y_train.shape)\n",
    "print(X_test.shape, y_test.shape)"
   ]
  },
  {
   "cell_type": "code",
   "execution_count": 151,
   "id": "9918ffa4",
   "metadata": {},
   "outputs": [
    {
     "name": "stdout",
     "output_type": "stream",
     "text": [
      "[0.11711439 0.95769925 0.99097098 0.21870807 0.07428272 0.71658533\n",
      " 0.56425581 0.70103498 0.17184584 0.09306252]\n",
      "0.9211456846961374\n"
     ]
    }
   ],
   "source": [
    "W = np.random.rand(10)\n",
    "b = np.random.rand()\n",
    "print(W)\n",
    "print(b)"
   ]
  },
  {
   "cell_type": "code",
   "execution_count": 152,
   "id": "68637632",
   "metadata": {},
   "outputs": [],
   "source": [
    "def model(X, W, b):\n",
    "    predictions = 0\n",
    "    for i in range(10):\n",
    "        predictions += X[:, i] * W[i]\n",
    "    predictions += b\n",
    "    return predictions"
   ]
  },
  {
   "cell_type": "code",
   "execution_count": 153,
   "id": "2df42944",
   "metadata": {},
   "outputs": [],
   "source": [
    "def MSE(a, b):\n",
    "    mse = ((a - b) ** 2).mean()\n",
    "    return mse\n",
    "\n",
    "def loss(X, W, b, y):\n",
    "    predictions = model(X, W, b)\n",
    "    L = MSE(predictions, y)\n",
    "    return L"
   ]
  },
  {
   "cell_type": "code",
   "execution_count": 154,
   "id": "3e8be137",
   "metadata": {},
   "outputs": [],
   "source": [
    "def gradient(X, W, b, y):\n",
    "    N = len(y)\n",
    "    y_pred = model(X, W, b)\n",
    "    dW = 1/N * 2 * X.T.dot(y_pred - y)\n",
    "    db = 2 * (y_pred - y).mean()\n",
    "    return dW, db"
   ]
  },
  {
   "cell_type": "code",
   "execution_count": 155,
   "id": "481d19db",
   "metadata": {},
   "outputs": [],
   "source": [
    "LEARNING_RATE = 0.01"
   ]
  },
  {
   "cell_type": "code",
   "execution_count": 156,
   "id": "212d6d01",
   "metadata": {},
   "outputs": [
    {
     "name": "stdout",
     "output_type": "stream",
     "text": [
      "Iteration 1000 : Loss 5380.9294\n",
      "Iteration 2000 : Loss 4878.4381\n",
      "Iteration 3000 : Loss 4504.7213\n",
      "Iteration 4000 : Loss 4223.0914\n",
      "Iteration 5000 : Loss 4007.7312\n",
      "Iteration 6000 : Loss 3840.4288\n",
      "Iteration 7000 : Loss 3708.2977\n",
      "Iteration 8000 : Loss 3602.1843\n",
      "Iteration 9000 : Loss 3515.5562\n",
      "Iteration 10000 : Loss 3443.7237\n",
      "Iteration 11000 : Loss 3383.2963\n",
      "Iteration 12000 : Loss 3331.8019\n",
      "Iteration 13000 : Loss 3287.4198\n",
      "Iteration 14000 : Loss 3248.7933\n",
      "Iteration 15000 : Loss 3214.8985\n",
      "Iteration 16000 : Loss 3184.9511\n",
      "Iteration 17000 : Loss 3158.3411\n",
      "Iteration 18000 : Loss 3134.5867\n",
      "Iteration 19000 : Loss 3113.3006\n",
      "Iteration 20000 : Loss 3094.1670\n",
      "Iteration 21000 : Loss 3076.9244\n",
      "Iteration 22000 : Loss 3061.3531\n",
      "Iteration 23000 : Loss 3047.2666\n",
      "Iteration 24000 : Loss 3034.5043\n",
      "Iteration 25000 : Loss 3022.9274\n",
      "Iteration 26000 : Loss 3012.4141\n",
      "Iteration 27000 : Loss 3002.8576\n",
      "Iteration 28000 : Loss 2994.1633\n",
      "Iteration 29000 : Loss 2986.2471\n",
      "Iteration 30000 : Loss 2979.0342\n",
      "Iteration 31000 : Loss 2972.4575\n",
      "Iteration 32000 : Loss 2966.4569\n",
      "Iteration 33000 : Loss 2960.9786\n",
      "Iteration 34000 : Loss 2955.9740\n",
      "Iteration 35000 : Loss 2951.3993\n",
      "Iteration 36000 : Loss 2947.2151\n",
      "Iteration 37000 : Loss 2943.3858\n",
      "Iteration 38000 : Loss 2939.8792\n",
      "Iteration 39000 : Loss 2936.6663\n",
      "Iteration 40000 : Loss 2933.7206\n",
      "Iteration 41000 : Loss 2931.0184\n",
      "Iteration 42000 : Loss 2928.5380\n",
      "Iteration 43000 : Loss 2926.2598\n",
      "Iteration 44000 : Loss 2924.1662\n",
      "Iteration 45000 : Loss 2922.2408\n",
      "Iteration 46000 : Loss 2920.4692\n",
      "Iteration 47000 : Loss 2918.8381\n",
      "Iteration 48000 : Loss 2917.3352\n",
      "Iteration 49000 : Loss 2915.9498\n",
      "Iteration 50000 : Loss 2914.6717\n"
     ]
    }
   ],
   "source": [
    "losses = []\n",
    "\n",
    "for i in range(1, 50001):\n",
    "    dW, db = gradient(X_train, W, b, y_train)\n",
    "    W -= LEARNING_RATE * dW\n",
    "    b -= LEARNING_RATE * db\n",
    "    L = loss(X_train, W, b, y_train)\n",
    "    losses.append(L)\n",
    "    if i % 1000 == 0:\n",
    "        print('Iteration %d : Loss %0.4f' % (i, L))"
   ]
  },
  {
   "cell_type": "code",
   "execution_count": 157,
   "id": "91da5ce5",
   "metadata": {},
   "outputs": [
    {
     "data": {
      "image/png": "[encoded data removed]",
      "text/plain": [
       "<Figure size 432x288 with 1 Axes>"
      ]
     },
     "metadata": {
      "needs_background": "light"
     },
     "output_type": "display_data"
    }
   ],
   "source": [
    "import matplotlib.pyplot as plt\n",
    "plt.plot(losses)\n",
    "plt.show()"
   ]
  },
  {
   "cell_type": "code",
   "execution_count": 158,
   "id": "9b601071",
   "metadata": {},
   "outputs": [
    {
     "name": "stdout",
     "output_type": "stream",
     "text": [
      "2866.9586683056195\n"
     ]
    }
   ],
   "source": [
    "prediction = model(X_test, W, b)\n",
    "mse = loss(X_test, W, b, y_test)\n",
    "print(mse)"
   ]
  },
  {
   "cell_type": "code",
   "execution_count": 162,
   "id": "f81ad9fc",
   "metadata": {},
   "outputs": [
    {
     "data": {
      "image/png": "[encoded data removed]",
      "text/plain": [
       "<Figure size 432x288 with 1 Axes>"
      ]
     },
     "metadata": {
      "needs_background": "light"
     },
     "output_type": "display_data"
    }
   ],
   "source": [
    "plt.scatter(X_test[:, 0], y_test, label=\"true\")\n",
    "plt.scatter(X_test[:, 0], prediction, label=\"pred\")\n",
    "plt.legend()\n",
    "plt.show()"
   ]
  },
  {
   "cell_type": "code",
   "execution_count": null,
   "id": "3348357c",
   "metadata": {},
   "outputs": [],
   "source": []
  }
 ],
 "metadata": {
  "kernelspec": {
   "display_name": "Python 3 (ipykernel)",
   "language": "python",
   "name": "python3"
  },
  "language_info": {
   "codemirror_mode": {
    "name": "ipython",
    "version": 3
   },
   "file_extension": ".py",
   "mimetype": "text/x-python",
   "name": "python",
   "nbconvert_exporter": "python",
   "pygments_lexer": "ipython3",
   "version": "3.9.7"
  }
 },
 "nbformat": 4,
 "nbformat_minor": 5
}
