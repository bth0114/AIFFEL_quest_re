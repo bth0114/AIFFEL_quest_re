{
 "cells": [
  {
   "cell_type": "code",
   "execution_count": 4,
   "id": "00c2a691",
   "metadata": {},
   "outputs": [
    {
     "data": {
      "text/html": [
       "<div>\n",
       "<style scoped>\n",
       "    .dataframe tbody tr th:only-of-type {\n",
       "        vertical-align: middle;\n",
       "    }\n",
       "\n",
       "    .dataframe tbody tr th {\n",
       "        vertical-align: top;\n",
       "    }\n",
       "\n",
       "    .dataframe thead th {\n",
       "        text-align: right;\n",
       "    }\n",
       "</style>\n",
       "<table border=\"1\" class=\"dataframe\">\n",
       "  <thead>\n",
       "    <tr style=\"text-align: right;\">\n",
       "      <th></th>\n",
       "      <th>id</th>\n",
       "      <th>document</th>\n",
       "      <th>label</th>\n",
       "    </tr>\n",
       "  </thead>\n",
       "  <tbody>\n",
       "    <tr>\n",
       "      <th>0</th>\n",
       "      <td>9976970</td>\n",
       "      <td>아 더빙.. 진짜 짜증나네요 목소리</td>\n",
       "      <td>0</td>\n",
       "    </tr>\n",
       "    <tr>\n",
       "      <th>1</th>\n",
       "      <td>3819312</td>\n",
       "      <td>흠...포스터보고 초딩영화줄....오버연기조차 가볍지 않구나</td>\n",
       "      <td>1</td>\n",
       "    </tr>\n",
       "    <tr>\n",
       "      <th>2</th>\n",
       "      <td>10265843</td>\n",
       "      <td>너무재밓었다그래서보는것을추천한다</td>\n",
       "      <td>0</td>\n",
       "    </tr>\n",
       "    <tr>\n",
       "      <th>3</th>\n",
       "      <td>9045019</td>\n",
       "      <td>교도소 이야기구먼 ..솔직히 재미는 없다..평점 조정</td>\n",
       "      <td>0</td>\n",
       "    </tr>\n",
       "    <tr>\n",
       "      <th>4</th>\n",
       "      <td>6483659</td>\n",
       "      <td>사이몬페그의 익살스런 연기가 돋보였던 영화!스파이더맨에서 늙어보이기만 했던 커스틴 ...</td>\n",
       "      <td>1</td>\n",
       "    </tr>\n",
       "  </tbody>\n",
       "</table>\n",
       "</div>"
      ],
      "text/plain": [
       "         id                                           document  label\n",
       "0   9976970                                아 더빙.. 진짜 짜증나네요 목소리      0\n",
       "1   3819312                  흠...포스터보고 초딩영화줄....오버연기조차 가볍지 않구나      1\n",
       "2  10265843                                  너무재밓었다그래서보는것을추천한다      0\n",
       "3   9045019                      교도소 이야기구먼 ..솔직히 재미는 없다..평점 조정      0\n",
       "4   6483659  사이몬페그의 익살스런 연기가 돋보였던 영화!스파이더맨에서 늙어보이기만 했던 커스틴 ...      1"
      ]
     },
     "execution_count": 4,
     "metadata": {},
     "output_type": "execute_result"
    }
   ],
   "source": [
    "import pandas as pd\n",
    "\n",
    "# 데이터를 읽어오기\n",
    "train_data = pd.read_table('~/aiffel/sentiment_classification/data/ratings_train.txt')\n",
    "test_data = pd.read_table('~/aiffel/sentiment_classification/data/ratings_test.txt')\n",
    "\n",
    "train_data.head()"
   ]
  },
  {
   "cell_type": "code",
   "execution_count": 5,
   "id": "be4ce15e",
   "metadata": {},
   "outputs": [
    {
     "name": "stdout",
     "output_type": "stream",
     "text": [
      "[32, 74, 919, 4, 4, 39, 228, 20, 33, 748]\n"
     ]
    }
   ],
   "source": [
    "from konlpy.tag import Mecab\n",
    "import numpy as np\n",
    "from collections import Counter\n",
    "\n",
    "tokenizer = Mecab()\n",
    "stopwords = ['의','가','이','은','들','는','좀','잘','걍','과','도','를','으로','자','에','와','한','하다'] # 불용어 리스트\n",
    "\n",
    "def load_data(train_data, test_data, num_words=10000):\n",
    "    # 텍스트 데이터 전처리\n",
    "    train_data.drop_duplicates(subset=['document'], inplace=True)\n",
    "    train_data = train_data.dropna(how = 'any') \n",
    "    test_data.drop_duplicates(subset=['document'], inplace=True)\n",
    "    test_data = test_data.dropna(how = 'any') \n",
    "    \n",
    "    X_train = []\n",
    "    for sentence in train_data['document']:\n",
    "        temp_X = tokenizer.morphs(sentence) # 토큰화\n",
    "        temp_X = [word for word in temp_X if not word in stopwords] # 불용어 제거\n",
    "        X_train.append(temp_X)\n",
    "\n",
    "    X_test = []\n",
    "    for sentence in test_data['document']:\n",
    "        temp_X = tokenizer.morphs(sentence) # 토큰화\n",
    "        temp_X = [word for word in temp_X if not word in stopwords] # 불용어 제거\n",
    "        X_test.append(temp_X)\n",
    "    \n",
    "    # 단어 빈도수 계산\n",
    "    words = np.concatenate(X_train).tolist()\n",
    "    counter = Counter(words)\n",
    "    counter = counter.most_common(10000-4)\n",
    "    \n",
    "    # 단어 사전 생성\n",
    "    vocab = ['<PAD>', '<BOS>', '<UNK>', '<UNUSED>'] + [key for key, _ in counter]\n",
    "    word_to_index = {word:index for index, word in enumerate(vocab)}\n",
    "        \n",
    "    # 단어 리스트를 인덱스 리스트로 변환\n",
    "    def wordlist_to_indexlist(wordlist):\n",
    "        return [word_to_index[word] if word in word_to_index else word_to_index['<UNK>'] for word in wordlist]\n",
    "        \n",
    "    # 학습 데이터와 테스트 데이터를 인덱스 시퀀스로 변환\n",
    "    X_train = list(map(wordlist_to_indexlist, X_train))\n",
    "    X_test = list(map(wordlist_to_indexlist, X_test))\n",
    "        \n",
    "    return X_train, np.array(list(train_data['label'])), X_test, np.array(list(test_data['label'])), word_to_index\n",
    "    \n",
    "\n",
    "X_train, y_train, X_test, y_test, word_to_index = load_data(train_data, test_data) \n",
    "print(X_train[0])"
   ]
  },
  {
   "cell_type": "code",
   "execution_count": 6,
   "id": "ab797f5c",
   "metadata": {},
   "outputs": [],
   "source": [
    "# 문장을 단어 인덱스 리스트로 변환하며 시작에 <BOS> 토큰을 추가\n",
    "def get_encoded_sentence(sentence, word_to_index):\n",
    "    return [word_to_index['<BOS>']]+[word_to_index[word] if word in word_to_index else word_to_index['<UNK>'] for word in sentence.split()]\n",
    "\n",
    "# 문장 리스트를 인덱스 시퀀스 리스트로 변환\n",
    "def get_encoded_sentences(sentences, word_to_index):\n",
    "    return [get_encoded_sentence(sentence, word_to_index) for sentence in sentences]\n",
    "\n",
    "# 인덱스 시퀀스를 단어 문자열로 복원 (맨 앞 <BOS> 제외)\n",
    "def get_decoded_sentence(encoded_sentence, index_to_word):\n",
    "    return ' '.join(index_to_word[index] if index in index_to_word else '<UNK>' for index in encoded_sentence[1:])\n",
    "\n",
    "# 인덱스 시퀀스 리스트를 문장 리스트로 복원\n",
    "def get_decoded_sentences(encoded_sentences, index_to_word):\n",
    "    return [get_decoded_sentence(encoded_sentence, index_to_word) for encoded_sentence in encoded_sentences]"
   ]
  },
  {
   "cell_type": "code",
   "execution_count": 13,
   "id": "551094b1",
   "metadata": {},
   "outputs": [
    {
     "name": "stdout",
     "output_type": "stream",
     "text": [
      "[(0, '<PAD>'), (1, '<BOS>'), (2, '<UNK>'), (3, '<UNUSED>'), (4, '.'), (5, '영화'), (6, '다'), (7, '고'), (8, '하'), (9, '을'), (10, '보'), (11, '..'), (12, '게'), (13, ','), (14, '!'), (15, '지'), (16, '있'), (17, '없'), (18, '?'), (19, '좋'), (20, '나'), (21, '었'), (22, '만'), (23, '는데'), (24, '너무'), (25, '봤'), (26, '적'), (27, '안'), (28, '정말'), (29, '로'), (30, '음'), (31, '것'), (32, '아'), (33, '네요'), (34, '재밌'), (35, '어'), (36, '같'), (37, '점'), (38, '지만'), (39, '진짜'), (40, '했'), (41, '에서'), (42, '기'), (43, '네'), (44, '않'), (45, '거'), (46, '았'), (47, '수'), (48, '되'), (49, '면'), (50, 'ㅋㅋ'), (51, '말'), (52, '연기'), (53, '인'), (54, '주'), (55, '내'), (56, '최고'), (57, '~'), (58, '평점'), (59, '이런'), (60, '던'), (61, '어요'), (62, '할'), (63, '왜'), (64, '겠'), (65, '1'), (66, '스토리'), (67, '해'), (68, '습니다'), (69, 'ㅋㅋㅋ'), (70, '...'), (71, '드라마'), (72, '생각'), (73, '아니'), (74, '더'), (75, '그'), (76, '싶'), (77, '사람'), (78, '듯'), (79, '때'), (80, '감동'), (81, '함'), (82, '배우'), (83, '본'), (84, '까지'), (85, '뭐'), (86, '알'), (87, '만들'), (88, '내용'), (89, '볼'), (90, '감독'), (91, '보다'), (92, '라'), (93, '그냥'), (94, '재미'), (95, '시간'), (96, '지루'), (97, '중'), (98, '재미있'), (99, '년'), (100, '10'), (101, '였'), (102, '잼'), (103, '사랑'), (104, '못'), (105, '냐'), (106, '재미없'), (107, '쓰레기'), (108, '서'), (109, '2'), (110, '라고'), (111, '야'), (112, '니'), (113, '면서'), (114, '번'), (115, '다시'), (116, '나오'), (117, '작품'), (118, '이거'), (119, '하나'), (120, '줄'), (121, '해서'), (122, '개'), (123, '남'), (124, '정도'), (125, '마지막'), (126, '끝'), (127, '이건'), (128, '액션'), (129, '임'), (130, 'ㅋ'), (131, '3'), (132, '기대'), (133, '입니다'), (134, '건'), (135, '라는'), (136, '분'), (137, '완전'), (138, '다는'), (139, '참'), (140, '많'), (141, '처음'), (142, '장면'), (143, '대'), (144, '아깝'), (145, '다가'), (146, '으면'), (147, '지금'), (148, '모르'), (149, '이렇게'), (150, \"'\"), (151, '편'), (152, '일'), (153, '돈'), (154, '이게'), (155, '성'), (156, '느낌'), (157, '시'), (158, '이야기'), (159, '최악'), (160, '된'), (161, '봐도'), (162, '님'), (163, '어서'), (164, '애'), (165, '전'), (166, '넘'), (167, 'ㅠㅠ'), (168, '인데'), (169, '다고'), (170, '이해'), (171, '별로'), (172, '그리고'), (173, '명작'), (174, '여자'), (175, '^^'), (176, '역시'), (177, '난'), (178, '이상'), (179, '또'), (180, '걸'), (181, '한국'), (182, '는지'), (183, '많이'), (184, '에게'), (185, '부터'), (186, '만든'), (187, '주인공'), (188, '받'), (189, '합니다'), (190, '우리'), (191, '두'), (192, '살'), (193, '!!'), (194, '길'), (195, '엔'), (196, '괜찮'), (197, '기억'), (198, '연출'), (199, '한다')]\n"
     ]
    }
   ],
   "source": [
    "index_to_word = {index:word for word, index in word_to_index.items()}\n",
    "#print(index_to_word)\n",
    "print(list(index_to_word.items())[:200])"
   ]
  },
  {
   "cell_type": "code",
   "execution_count": 110,
   "id": "606531e2",
   "metadata": {},
   "outputs": [
    {
     "name": "stdout",
     "output_type": "stream",
     "text": [
      "[32, 74, 919, 4, 4, 39, 228, 20, 33, 748]\n",
      "더 빙 . . 진짜 짜증 나 네요 목소리\n"
     ]
    }
   ],
   "source": [
    "print(X_train[0])\n",
    "print(get_decoded_sentence(X_train[0], index_to_word))"
   ]
  },
  {
   "cell_type": "code",
   "execution_count": 111,
   "id": "6282f67c",
   "metadata": {},
   "outputs": [
    {
     "name": "stdout",
     "output_type": "stream",
     "text": [
      "아 더 빙 . . 진짜 짜증 나 네요 목소리\n"
     ]
    }
   ],
   "source": [
    "# 맨 앞 글자가 잘리는 문제가 있어서 확인하고자 만들어봄\n",
    "# 데이터셋에는 문장 앞에 <BOS>가 추가 되어있지 않은데\n",
    "# get_decoded_sentence에서는 이를 고려해주어 문장을 인덱스 1부터 보기 때문에 발생하는 문제였음\n",
    "# 중요하게 쓰이는 함수는 아니기 때문에 아래와 같은 간단한 테스트만 해보고 넘어감\n",
    "def get_decoded_sentence_no_skip(encoded_sentence, index_to_word):\n",
    "    return ' '.join(index_to_word[index] if index in index_to_word else '<UNK>' for index in encoded_sentence)\n",
    "\n",
    "print(get_decoded_sentence_no_skip(X_train[0], index_to_word))"
   ]
  },
  {
   "cell_type": "code",
   "execution_count": 112,
   "id": "ee318811",
   "metadata": {},
   "outputs": [
    {
     "name": "stdout",
     "output_type": "stream",
     "text": [
      "문장길이 평균 :  15.96940191154864\n",
      "문장길이 최대 :  116\n",
      "문장길이 표준편차 :  12.843571191092\n",
      "pad_sequences maxlen :  41\n",
      "전체 문장의 0.9342988343341575%가 maxlen 설정값 이내에 포함됩니다. \n"
     ]
    }
   ],
   "source": [
    "total_data_text = list(X_train) + list(X_test)\n",
    "# 텍스트데이터 문장길이의 리스트를 생성한 후\n",
    "num_tokens = [len(tokens) for tokens in total_data_text]\n",
    "num_tokens = np.array(num_tokens)\n",
    "# 문장길이의 평균값, 최대값, 표준편차를 계산해 본다. \n",
    "print('문장길이 평균 : ', np.mean(num_tokens))\n",
    "print('문장길이 최대 : ', np.max(num_tokens))\n",
    "print('문장길이 표준편차 : ', np.std(num_tokens))\n",
    "\n",
    "# 예를들어, 최대 길이를 (평균 + 2*표준편차)로 한다면,  \n",
    "max_tokens = np.mean(num_tokens) + 2 * np.std(num_tokens)\n",
    "maxlen = int(max_tokens)\n",
    "print('pad_sequences maxlen : ', maxlen)\n",
    "print(f'전체 문장의 {np.sum(num_tokens < max_tokens) / len(num_tokens)}%가 maxlen 설정값 이내에 포함됩니다. ')"
   ]
  },
  {
   "cell_type": "code",
   "execution_count": 113,
   "id": "9eca2090",
   "metadata": {},
   "outputs": [
    {
     "name": "stdout",
     "output_type": "stream",
     "text": [
      "(146182, 41)\n",
      "[  0   0   0   0   0   0   0   0   0   0   0   0   0   0   0   0   0   0\n",
      "   0   0   0   0   0   0   0   0   0   0   0   0   0  32  74 919   4   4\n",
      "  39 228  20  33 748]\n",
      "<PAD> <PAD> <PAD> <PAD> <PAD> <PAD> <PAD> <PAD> <PAD> <PAD> <PAD> <PAD> <PAD> <PAD> <PAD> <PAD> <PAD> <PAD> <PAD> <PAD> <PAD> <PAD> <PAD> <PAD> <PAD> <PAD> <PAD> <PAD> <PAD> <PAD> 아 더 빙 . . 진짜 짜증 나 네요 목소리\n"
     ]
    }
   ],
   "source": [
    "# 문장 앞에 패딩\n",
    "X_train = tf.keras.preprocessing.sequence.pad_sequences(X_train,\n",
    "                                                        value=word_to_index[\"<PAD>\"],\n",
    "                                                        padding='pre', # 'pre' or 'post'\n",
    "                                                        maxlen=maxlen)\n",
    "X_test = tf.keras.preprocessing.sequence.pad_sequences(X_test,\n",
    "                                                       value=word_to_index[\"<PAD>\"],\n",
    "                                                       padding='pre', # 'pre' or 'post'\n",
    "                                                       maxlen=maxlen)\n",
    "print(X_train.shape)\n",
    "print(X_train[0])\n",
    "print(get_decoded_sentence(X_train[0], index_to_word))"
   ]
  },
  {
   "cell_type": "code",
   "execution_count": 114,
   "id": "c52d4b26",
   "metadata": {},
   "outputs": [
    {
     "name": "stdout",
     "output_type": "stream",
     "text": [
      "Model: \"sequential_2\"\n",
      "_________________________________________________________________\n",
      "Layer (type)                 Output Shape              Param #   \n",
      "=================================================================\n",
      "embedding_3 (Embedding)      (None, None, 16)          160000    \n",
      "_________________________________________________________________\n",
      "lstm_2 (LSTM)                (None, 8)                 800       \n",
      "_________________________________________________________________\n",
      "dense_4 (Dense)              (None, 8)                 72        \n",
      "_________________________________________________________________\n",
      "dense_5 (Dense)              (None, 1)                 9         \n",
      "=================================================================\n",
      "Total params: 160,881\n",
      "Trainable params: 160,881\n",
      "Non-trainable params: 0\n",
      "_________________________________________________________________\n"
     ]
    }
   ],
   "source": [
    "import tensorflow as tf\n",
    "import os\n",
    "\n",
    "vocab_size = len(word_to_index)    # 어휘 사전의 크기\n",
    "word_vector_dim = 16  # 워드 벡터의 차원 수 (변경 가능한 하이퍼파라미터)\n",
    "\n",
    "# model 설계\n",
    "model = tf.keras.Sequential()\n",
    "model.add(tf.keras.layers.Embedding(vocab_size, word_vector_dim, input_shape=(None,)))\n",
    "model.add(tf.keras.layers.LSTM(8))\n",
    "model.add(tf.keras.layers.Dense(8, activation='relu'))\n",
    "model.add(tf.keras.layers.Dense(1, activation='sigmoid'))\n",
    "model.summary()"
   ]
  },
  {
   "cell_type": "code",
   "execution_count": 115,
   "id": "4a97a4b2",
   "metadata": {},
   "outputs": [
    {
     "name": "stdout",
     "output_type": "stream",
     "text": [
      "(106182, 41)\n",
      "(106182,)\n"
     ]
    }
   ],
   "source": [
    "# validation set 10000건 분리\n",
    "x_val = X_train[:40000]   \n",
    "y_val = y_train[:40000]\n",
    "\n",
    "# validation set을 제외한 나머지 15000건\n",
    "partial_x_train = X_train[40000:]  \n",
    "partial_y_train = y_train[40000:]\n",
    "\n",
    "print(partial_x_train.shape)\n",
    "print(partial_y_train.shape)"
   ]
  },
  {
   "cell_type": "code",
   "execution_count": 116,
   "id": "4f5efe7e",
   "metadata": {},
   "outputs": [
    {
     "name": "stdout",
     "output_type": "stream",
     "text": [
      "Epoch 1/20\n",
      "208/208 [==============================] - 3s 8ms/step - loss: 0.5249 - accuracy: 0.7640 - val_loss: 0.3760 - val_accuracy: 0.8397\n",
      "Epoch 2/20\n",
      "208/208 [==============================] - 1s 6ms/step - loss: 0.3456 - accuracy: 0.8541 - val_loss: 0.3487 - val_accuracy: 0.8491\n",
      "Epoch 3/20\n",
      "208/208 [==============================] - 1s 6ms/step - loss: 0.3175 - accuracy: 0.8683 - val_loss: 0.3466 - val_accuracy: 0.8497\n",
      "Epoch 4/20\n",
      "208/208 [==============================] - 1s 6ms/step - loss: 0.3042 - accuracy: 0.8747 - val_loss: 0.3476 - val_accuracy: 0.8497\n",
      "Epoch 5/20\n",
      "208/208 [==============================] - 1s 6ms/step - loss: 0.2935 - accuracy: 0.8794 - val_loss: 0.3510 - val_accuracy: 0.8485\n",
      "Epoch 6/20\n",
      "208/208 [==============================] - 1s 6ms/step - loss: 0.2845 - accuracy: 0.8838 - val_loss: 0.3519 - val_accuracy: 0.8490\n",
      "Epoch 7/20\n",
      "208/208 [==============================] - 1s 6ms/step - loss: 0.2751 - accuracy: 0.8875 - val_loss: 0.3587 - val_accuracy: 0.8477\n",
      "Epoch 8/20\n",
      "208/208 [==============================] - 1s 6ms/step - loss: 0.2652 - accuracy: 0.8924 - val_loss: 0.3642 - val_accuracy: 0.8457\n",
      "Epoch 9/20\n",
      "208/208 [==============================] - 1s 6ms/step - loss: 0.2551 - accuracy: 0.8961 - val_loss: 0.3693 - val_accuracy: 0.8486\n",
      "Epoch 10/20\n",
      "208/208 [==============================] - 1s 6ms/step - loss: 0.2450 - accuracy: 0.9007 - val_loss: 0.3780 - val_accuracy: 0.8487\n",
      "Epoch 11/20\n",
      "208/208 [==============================] - 1s 6ms/step - loss: 0.2339 - accuracy: 0.9056 - val_loss: 0.3935 - val_accuracy: 0.8457\n",
      "Epoch 12/20\n",
      "208/208 [==============================] - 1s 6ms/step - loss: 0.2232 - accuracy: 0.9105 - val_loss: 0.4017 - val_accuracy: 0.8464\n",
      "Epoch 13/20\n",
      "208/208 [==============================] - 1s 6ms/step - loss: 0.2136 - accuracy: 0.9149 - val_loss: 0.4163 - val_accuracy: 0.8448\n",
      "Epoch 14/20\n",
      "208/208 [==============================] - 1s 6ms/step - loss: 0.2045 - accuracy: 0.9189 - val_loss: 0.4319 - val_accuracy: 0.8442\n",
      "Epoch 15/20\n",
      "208/208 [==============================] - 1s 6ms/step - loss: 0.1990 - accuracy: 0.9217 - val_loss: 0.4326 - val_accuracy: 0.8440\n",
      "Epoch 16/20\n",
      "208/208 [==============================] - 1s 6ms/step - loss: 0.1892 - accuracy: 0.9254 - val_loss: 0.4677 - val_accuracy: 0.8435\n",
      "Epoch 17/20\n",
      "208/208 [==============================] - 1s 6ms/step - loss: 0.1831 - accuracy: 0.9287 - val_loss: 0.4735 - val_accuracy: 0.8426\n",
      "Epoch 18/20\n",
      "208/208 [==============================] - 1s 6ms/step - loss: 0.1771 - accuracy: 0.9316 - val_loss: 0.5027 - val_accuracy: 0.8417\n",
      "Epoch 19/20\n",
      "208/208 [==============================] - 1s 6ms/step - loss: 0.1696 - accuracy: 0.9350 - val_loss: 0.5191 - val_accuracy: 0.8400\n",
      "Epoch 20/20\n",
      "208/208 [==============================] - 1s 6ms/step - loss: 0.1671 - accuracy: 0.9362 - val_loss: 0.5295 - val_accuracy: 0.8405\n"
     ]
    }
   ],
   "source": [
    "# 모델 컴파일 및 학습\n",
    "model.compile(optimizer='adam',\n",
    "              loss='binary_crossentropy',\n",
    "              metrics=['accuracy'])\n",
    "              \n",
    "epochs=20\n",
    "history = model.fit(partial_x_train,\n",
    "                    partial_y_train,\n",
    "                    epochs=epochs,\n",
    "                    batch_size=512,\n",
    "                    validation_data=(x_val, y_val),\n",
    "                    verbose=1)"
   ]
  },
  {
   "cell_type": "code",
   "execution_count": 117,
   "id": "fff88766",
   "metadata": {},
   "outputs": [
    {
     "name": "stdout",
     "output_type": "stream",
     "text": [
      "1537/1537 - 3s - loss: 0.5383 - accuracy: 0.8369\n",
      "[0.5383302569389343, 0.8368695974349976]\n"
     ]
    }
   ],
   "source": [
    "# 모델 평가\n",
    "results = model.evaluate(X_test,  y_test, verbose=2)\n",
    "print(results)"
   ]
  },
  {
   "cell_type": "code",
   "execution_count": 118,
   "id": "3097848e",
   "metadata": {},
   "outputs": [
    {
     "name": "stdout",
     "output_type": "stream",
     "text": [
      "dict_keys(['loss', 'accuracy', 'val_loss', 'val_accuracy'])\n"
     ]
    }
   ],
   "source": [
    "history_dict = history.history\n",
    "print(history_dict.keys()) # epoch에 따른 그래프를 그려볼 수 있는 항목들"
   ]
  },
  {
   "cell_type": "code",
   "execution_count": 119,
   "id": "04d85a70",
   "metadata": {},
   "outputs": [
    {
     "data": {
      "image/png": "[encoded data removed]",
      "text/plain": [
       "<Figure size 432x288 with 1 Axes>"
      ]
     },
     "metadata": {
      "needs_background": "light"
     },
     "output_type": "display_data"
    }
   ],
   "source": [
    "import matplotlib.pyplot as plt\n",
    "\n",
    "# 그래프 시각화\n",
    "acc = history_dict['accuracy']\n",
    "val_acc = history_dict['val_accuracy']\n",
    "loss = history_dict['loss']\n",
    "val_loss = history_dict['val_loss']\n",
    "\n",
    "epochs = range(1, len(acc) + 1)\n",
    "\n",
    "# \"bo\"는 \"파란색 점\"\n",
    "plt.plot(epochs, loss, 'bo', label='Training loss')\n",
    "# b는 \"파란 실선\"\n",
    "plt.plot(epochs, val_loss, 'b', label='Validation loss')\n",
    "plt.title('Training and validation loss')\n",
    "plt.xlabel('Epochs')\n",
    "plt.ylabel('Loss')\n",
    "plt.legend()\n",
    "\n",
    "plt.show()"
   ]
  },
  {
   "cell_type": "code",
   "execution_count": 120,
   "id": "6d7ec824",
   "metadata": {},
   "outputs": [
    {
     "data": {
      "image/png": "[encoded data removed]",
      "text/plain": [
       "<Figure size 432x288 with 1 Axes>"
      ]
     },
     "metadata": {
      "needs_background": "light"
     },
     "output_type": "display_data"
    }
   ],
   "source": [
    "plt.clf()   # 그림 초기화\n",
    "plt.plot(epochs, acc, 'bo', label='Training acc')\n",
    "plt.plot(epochs, val_acc, 'b', label='Validation acc')\n",
    "plt.title('Training and validation accuracy')\n",
    "plt.xlabel('Epochs')\n",
    "plt.ylabel('Accuracy')\n",
    "plt.legend()\n",
    "plt.show()"
   ]
  },
  {
   "cell_type": "markdown",
   "id": "f6e280cd",
   "metadata": {},
   "source": [
    "> 노드 학습 코드를 그대로 사용하면 Overfitting이 빠르게 이루어짐.\n",
    "> - 이를 해결하기 위해 특수문자를 전부 제거해봄."
   ]
  },
  {
   "cell_type": "markdown",
   "id": "ccf59153",
   "metadata": {},
   "source": [
    "## 특수문자 제거 실험"
   ]
  },
  {
   "cell_type": "code",
   "execution_count": 14,
   "id": "4d2d9033",
   "metadata": {},
   "outputs": [
    {
     "name": "stderr",
     "output_type": "stream",
     "text": [
      "/tmp/ipykernel_64/3437164130.py:12: SettingWithCopyWarning: \n",
      "A value is trying to be set on a copy of a slice from a DataFrame.\n",
      "Try using .loc[row_indexer,col_indexer] = value instead\n",
      "\n",
      "See the caveats in the documentation: https://pandas.pydata.org/pandas-docs/stable/user_guide/indexing.html#returning-a-view-versus-a-copy\n",
      "  train_data['document'] = train_data['document'].apply(clean_text)\n",
      "/tmp/ipykernel_64/3437164130.py:13: SettingWithCopyWarning: \n",
      "A value is trying to be set on a copy of a slice from a DataFrame.\n",
      "Try using .loc[row_indexer,col_indexer] = value instead\n",
      "\n",
      "See the caveats in the documentation: https://pandas.pydata.org/pandas-docs/stable/user_guide/indexing.html#returning-a-view-versus-a-copy\n",
      "  test_data['document'] = test_data['document'].apply(clean_text)\n"
     ]
    },
    {
     "name": "stdout",
     "output_type": "stream",
     "text": [
      "[28, 67, 913, 34, 216, 15, 27, 712]\n"
     ]
    }
   ],
   "source": [
    "import re\n",
    "\n",
    "def my_load_data(train_data, test_data, num_words=10000):\n",
    "    train_data.drop_duplicates(subset=['document'], inplace=True)\n",
    "    train_data = train_data.dropna(how = 'any') \n",
    "    test_data.drop_duplicates(subset=['document'], inplace=True)\n",
    "    test_data = test_data.dropna(how = 'any') \n",
    "    \n",
    "    def clean_text(text):\n",
    "        return re.sub(r'[^ㄱ-ㅎ가-힣a-zA-Z0-9\\s]', '', text)  # 한글, 공백, 숫자, 영어만 남기고 모두 제거\n",
    "    \n",
    "    train_data['document'] = train_data['document'].apply(clean_text)\n",
    "    test_data['document'] = test_data['document'].apply(clean_text)\n",
    "    \n",
    "    X_train = []\n",
    "    for sentence in train_data['document']:\n",
    "        temp_X = tokenizer.morphs(sentence) # 토큰화\n",
    "        temp_X = [word for word in temp_X if not word in stopwords] # 불용어 제거\n",
    "        X_train.append(temp_X)\n",
    "\n",
    "    X_test = []\n",
    "    for sentence in test_data['document']:\n",
    "        temp_X = tokenizer.morphs(sentence) # 토큰화\n",
    "        temp_X = [word for word in temp_X if not word in stopwords] # 불용어 제거\n",
    "        X_test.append(temp_X)\n",
    "    \n",
    "    words = np.concatenate(X_train).tolist()\n",
    "    counter = Counter(words)\n",
    "    counter = counter.most_common(10000-4)\n",
    "    vocab = ['<PAD>', '<BOS>', '<UNK>', '<UNUSED>'] + [key for key, _ in counter]\n",
    "    word_to_index = {word:index for index, word in enumerate(vocab)}\n",
    "        \n",
    "    def wordlist_to_indexlist(wordlist):\n",
    "        return [word_to_index[word] if word in word_to_index else word_to_index['<UNK>'] for word in wordlist]\n",
    "        \n",
    "    X_train = list(map(wordlist_to_indexlist, X_train))\n",
    "    X_test = list(map(wordlist_to_indexlist, X_test))\n",
    "        \n",
    "    return X_train, np.array(list(train_data['label'])), X_test, np.array(list(test_data['label'])), word_to_index\n",
    "    \n",
    "X_train, y_train, X_test, y_test, word_to_index = my_load_data(train_data, test_data) \n",
    "print(X_train[0])"
   ]
  },
  {
   "cell_type": "code",
   "execution_count": 15,
   "id": "d5a86630",
   "metadata": {},
   "outputs": [
    {
     "name": "stdout",
     "output_type": "stream",
     "text": [
      "[(0, '<PAD>'), (1, '<BOS>'), (2, '<UNK>'), (3, '<UNUSED>'), (4, '영화'), (5, '다'), (6, '고'), (7, '하'), (8, '을'), (9, '보'), (10, '게'), (11, '지'), (12, '있'), (13, '없'), (14, '좋'), (15, '나'), (16, '었'), (17, '만'), (18, '는데'), (19, '너무'), (20, '봤'), (21, '적'), (22, '안'), (23, '정말'), (24, '로'), (25, '음'), (26, '것'), (27, '네요'), (28, '아'), (29, '재밌'), (30, '어'), (31, '지만'), (32, '같'), (33, '점'), (34, '진짜'), (35, '에서'), (36, '했'), (37, '기'), (38, '네'), (39, '않'), (40, '거'), (41, '았'), (42, '수'), (43, '되'), (44, '면'), (45, 'ㅋㅋ'), (46, '인'), (47, '말'), (48, '연기'), (49, '주'), (50, '최고'), (51, '내'), (52, '평점'), (53, '이런'), (54, '던'), (55, '어요'), (56, '할'), (57, '왜'), (58, '겠'), (59, '스토리'), (60, '해'), (61, 'ㅋㅋㅋ'), (62, '습니다'), (63, '듯'), (64, '아니'), (65, '드라마'), (66, '생각'), (67, '더'), (68, '그'), (69, '1'), (70, '싶'), (71, '사람'), (72, '때'), (73, '감동'), (74, '배우'), (75, '함'), (76, '본'), (77, '까지'), (78, '뭐'), (79, '알'), (80, '만들'), (81, '내용'), (82, '볼'), (83, '보다'), (84, '감독'), (85, '라'), (86, '그냥'), (87, '재미'), (88, '시간'), (89, '중'), (90, '지루'), (91, '재미있'), (92, '년'), (93, '였'), (94, '잼'), (95, '10'), (96, '사랑'), (97, '못'), (98, '냐'), (99, '재미없'), (100, '쓰레기'), (101, '서'), (102, '라고'), (103, '니'), (104, '면서'), (105, '번'), (106, '다시'), (107, '나오'), (108, '하나'), (109, '작품'), (110, '야'), (111, '이거'), (112, '줄'), (113, '해서'), (114, '개'), (115, '2'), (116, '남'), (117, '정도'), (118, '마지막'), (119, '끝'), (120, '이건'), (121, '액션'), (122, '임'), (123, '건'), (124, '기대'), (125, '입니다'), (126, '다는'), (127, '분'), (128, '라는'), (129, '완전'), (130, 'ㅋ'), (131, '참'), (132, '많'), (133, '처음'), (134, '장면'), (135, '대'), (136, '아깝'), (137, '3'), (138, '다가'), (139, '으면'), (140, '지금'), (141, '모르'), (142, '이렇게'), (143, '편'), (144, '일'), (145, '돈'), (146, '이게'), (147, '성'), (148, '느낌'), (149, '이야기'), (150, '최악'), (151, '시'), (152, '된'), (153, '봐도'), (154, '님'), (155, '어서'), (156, '애'), (157, '넘'), (158, '다고'), (159, '인데'), (160, '이해'), (161, '전'), (162, '걸'), (163, '별로'), (164, '명작'), (165, '그리고'), (166, '난'), (167, '여자'), (168, '역시'), (169, '또'), (170, '이상'), (171, '한국'), (172, '는지'), (173, '많이'), (174, '에게'), (175, '부터'), (176, '주인공'), (177, '받'), (178, '합니다'), (179, '두'), (180, '살'), (181, '우리'), (182, '만든'), (183, '길'), (184, '엔'), (185, '요'), (186, '괜찮'), (187, '기억'), (188, '한다'), (189, '연출'), (190, 'ㅎㅎ'), (191, '때문'), (192, '이나'), (193, '저'), (194, '재'), (195, '꼭'), (196, '며'), (197, '현실'), (198, '랑'), (199, '긴')]\n"
     ]
    }
   ],
   "source": [
    "index_to_word = {index:word for word, index in word_to_index.items()}\n",
    "#print(index_to_word)\n",
    "print(list(index_to_word.items())[:200])"
   ]
  },
  {
   "cell_type": "code",
   "execution_count": 137,
   "id": "996dc9ad",
   "metadata": {},
   "outputs": [
    {
     "name": "stdout",
     "output_type": "stream",
     "text": [
      "[28, 67, 913, 34, 216, 15, 27, 712]\n",
      "더 빙 진짜 짜증 나 네요 목소리\n"
     ]
    }
   ],
   "source": [
    "print(X_train[0])\n",
    "print(get_decoded_sentence(X_train[0], index_to_word))"
   ]
  },
  {
   "cell_type": "code",
   "execution_count": 142,
   "id": "b40019da",
   "metadata": {},
   "outputs": [],
   "source": [
    "def model_test(model, X_train, X_test, ep):\n",
    "    X_train = tf.keras.preprocessing.sequence.pad_sequences(X_train,\n",
    "                                                            value=word_to_index[\"<PAD>\"],\n",
    "                                                            padding='pre', # 'pre', 'post'\n",
    "                                                            maxlen=maxlen)\n",
    "    X_test = tf.keras.preprocessing.sequence.pad_sequences(X_test,\n",
    "                                                           value=word_to_index[\"<PAD>\"],\n",
    "                                                           padding='pre', # 'pre', 'post'\n",
    "                                                           maxlen=maxlen)\n",
    "\n",
    "    vocab_size = len(word_to_index)    # 어휘 사전의 크기\n",
    "    word_vector_dim = 16  # 워드 벡터의 차원 수 (변경 가능한 하이퍼파라미터)\n",
    "\n",
    "    x_val = X_train[:40000]   \n",
    "    y_val = y_train[:40000]\n",
    "    partial_x_train = X_train[40000:]  \n",
    "    partial_y_train = y_train[40000:]\n",
    "\n",
    "\n",
    "    model.compile(optimizer='adam',\n",
    "                  loss='binary_crossentropy',\n",
    "                  metrics=['accuracy'])\n",
    "              \n",
    "    history = model.fit(partial_x_train,\n",
    "                        partial_y_train,\n",
    "                        epochs=ep,\n",
    "                        batch_size=512,\n",
    "                        validation_data=(x_val, y_val),\n",
    "                        verbose=1)\n",
    "\n",
    "    results = model.evaluate(X_test, y_test, verbose=2)\n",
    "    print(results)\n",
    "\n",
    "    # 시각화\n",
    "    acc = history_dict['accuracy']\n",
    "    val_acc = history_dict['val_accuracy']\n",
    "    loss = history_dict['loss']\n",
    "    val_loss = history_dict['val_loss']\n",
    "    epochs = range(1, len(acc) + 1)\n",
    "\n",
    "    plt.plot(epochs, loss, 'bo', label='Training loss')\n",
    "    plt.plot(epochs, val_loss, 'b', label='Validation loss')\n",
    "    plt.title('Training and validation loss')\n",
    "    plt.xlabel('Epochs')\n",
    "    plt.ylabel('Loss')\n",
    "    plt.legend()\n",
    "    plt.show()\n",
    "\n",
    "    plt.clf()   # 그림을 초기화합니다\n",
    "    plt.plot(epochs, acc, 'bo', label='Training acc')\n",
    "    plt.plot(epochs, val_acc, 'b', label='Validation acc')\n",
    "    plt.title('Training and validation accuracy')\n",
    "    plt.xlabel('Epochs')\n",
    "    plt.ylabel('Accuracy')\n",
    "    plt.legend()\n",
    "    plt.show()"
   ]
  },
  {
   "cell_type": "code",
   "execution_count": 138,
   "id": "af81c5b7",
   "metadata": {},
   "outputs": [
    {
     "name": "stdout",
     "output_type": "stream",
     "text": [
      "Model: \"sequential_7\"\n",
      "_________________________________________________________________\n",
      "Layer (type)                 Output Shape              Param #   \n",
      "=================================================================\n",
      "embedding_8 (Embedding)      (None, None, 16)          160000    \n",
      "_________________________________________________________________\n",
      "lstm_7 (LSTM)                (None, 8)                 800       \n",
      "_________________________________________________________________\n",
      "dense_14 (Dense)             (None, 8)                 72        \n",
      "_________________________________________________________________\n",
      "dense_15 (Dense)             (None, 1)                 9         \n",
      "=================================================================\n",
      "Total params: 160,881\n",
      "Trainable params: 160,881\n",
      "Non-trainable params: 0\n",
      "_________________________________________________________________\n",
      "Epoch 1/20\n",
      "208/208 [==============================] - 3s 8ms/step - loss: 0.5439 - accuracy: 0.7460 - val_loss: 0.4099 - val_accuracy: 0.8184\n",
      "Epoch 2/20\n",
      "208/208 [==============================] - 1s 6ms/step - loss: 0.3592 - accuracy: 0.8496 - val_loss: 0.3604 - val_accuracy: 0.8446\n",
      "Epoch 3/20\n",
      "208/208 [==============================] - 1s 6ms/step - loss: 0.3280 - accuracy: 0.8638 - val_loss: 0.3561 - val_accuracy: 0.8458\n",
      "Epoch 4/20\n",
      "208/208 [==============================] - 1s 6ms/step - loss: 0.3132 - accuracy: 0.8704 - val_loss: 0.3600 - val_accuracy: 0.8442\n",
      "Epoch 5/20\n",
      "208/208 [==============================] - 1s 6ms/step - loss: 0.3033 - accuracy: 0.8755 - val_loss: 0.3672 - val_accuracy: 0.8432\n",
      "Epoch 6/20\n",
      "208/208 [==============================] - 1s 6ms/step - loss: 0.2954 - accuracy: 0.8784 - val_loss: 0.3659 - val_accuracy: 0.8433\n",
      "Epoch 7/20\n",
      "208/208 [==============================] - 1s 6ms/step - loss: 0.2882 - accuracy: 0.8822 - val_loss: 0.3683 - val_accuracy: 0.8436\n",
      "Epoch 8/20\n",
      "208/208 [==============================] - 1s 6ms/step - loss: 0.2810 - accuracy: 0.8856 - val_loss: 0.3720 - val_accuracy: 0.8421\n",
      "Epoch 9/20\n",
      "208/208 [==============================] - 1s 6ms/step - loss: 0.2738 - accuracy: 0.8885 - val_loss: 0.3786 - val_accuracy: 0.8414\n",
      "Epoch 10/20\n",
      "208/208 [==============================] - 1s 6ms/step - loss: 0.2681 - accuracy: 0.8909 - val_loss: 0.3830 - val_accuracy: 0.8419\n",
      "Epoch 11/20\n",
      "208/208 [==============================] - 1s 6ms/step - loss: 0.2604 - accuracy: 0.8948 - val_loss: 0.3860 - val_accuracy: 0.8407\n",
      "Epoch 12/20\n",
      "208/208 [==============================] - 1s 6ms/step - loss: 0.2535 - accuracy: 0.8982 - val_loss: 0.3978 - val_accuracy: 0.8396\n",
      "Epoch 13/20\n",
      "208/208 [==============================] - 1s 6ms/step - loss: 0.2476 - accuracy: 0.9013 - val_loss: 0.4008 - val_accuracy: 0.8384\n",
      "Epoch 14/20\n",
      "208/208 [==============================] - 1s 6ms/step - loss: 0.2407 - accuracy: 0.9042 - val_loss: 0.4077 - val_accuracy: 0.8377\n",
      "Epoch 15/20\n",
      "208/208 [==============================] - 1s 6ms/step - loss: 0.2346 - accuracy: 0.9074 - val_loss: 0.4174 - val_accuracy: 0.8375\n",
      "Epoch 16/20\n",
      "208/208 [==============================] - 1s 6ms/step - loss: 0.2294 - accuracy: 0.9096 - val_loss: 0.4231 - val_accuracy: 0.8365\n",
      "Epoch 17/20\n",
      "208/208 [==============================] - 1s 6ms/step - loss: 0.2239 - accuracy: 0.9118 - val_loss: 0.4372 - val_accuracy: 0.8349\n",
      "Epoch 18/20\n",
      "208/208 [==============================] - 1s 6ms/step - loss: 0.2196 - accuracy: 0.9142 - val_loss: 0.4383 - val_accuracy: 0.8355\n",
      "Epoch 19/20\n",
      "208/208 [==============================] - 1s 6ms/step - loss: 0.2142 - accuracy: 0.9164 - val_loss: 0.4467 - val_accuracy: 0.8339\n",
      "Epoch 20/20\n",
      "208/208 [==============================] - 1s 6ms/step - loss: 0.2100 - accuracy: 0.9185 - val_loss: 0.4470 - val_accuracy: 0.8331\n",
      "1537/1537 - 3s - loss: 0.4494 - accuracy: 0.8305\n",
      "[0.44941264390945435, 0.8304615616798401]\n"
     ]
    },
    {
     "data": {
      "image/png": "[encoded data removed]",
      "text/plain": [
       "<Figure size 432x288 with 1 Axes>"
      ]
     },
     "metadata": {
      "needs_background": "light"
     },
     "output_type": "display_data"
    },
    {
     "data": {
      "image/png": "[encoded data removed]",
      "text/plain": [
       "<Figure size 432x288 with 1 Axes>"
      ]
     },
     "metadata": {
      "needs_background": "light"
     },
     "output_type": "display_data"
    }
   ],
   "source": [
    "# model 설계\n",
    "model = tf.keras.Sequential()\n",
    "model.add(tf.keras.layers.Embedding(vocab_size, word_vector_dim, input_shape=(None,)))\n",
    "model.add(tf.keras.layers.LSTM(8))\n",
    "model.add(tf.keras.layers.Dense(8, activation='relu'))\n",
    "model.add(tf.keras.layers.Dense(1, activation='sigmoid'))\n",
    "model.summary()\n",
    "\n",
    "model_test(model, X_train, X_test, 20)"
   ]
  },
  {
   "cell_type": "markdown",
   "id": "6b79c0ab",
   "metadata": {},
   "source": [
    "accuracy가 0.8369에서 0.8305로 감소하였다.\n",
    "이를 통해 특수문자 제거가 무조건 정확도를 상승시키진 않는다는 것을 알 수 있었다.\n",
    "감정 표현에서는 특수문자가 강조, 감정, 뉘앙스를 나타내는 중요한 신호가 될 수 있다."
   ]
  },
  {
   "cell_type": "markdown",
   "id": "b1e9cb8f",
   "metadata": {},
   "source": [
    "## 여러 모델 테스트"
   ]
  },
  {
   "cell_type": "markdown",
   "id": "27b510fb",
   "metadata": {},
   "source": [
    "#### 1. LSTM 모델의 unit 개수를 128개로 늘리고 Recurrent Dropout을 추가함. epochs는 10으로 줄임."
   ]
  },
  {
   "cell_type": "code",
   "execution_count": 149,
   "id": "517525b4",
   "metadata": {},
   "outputs": [
    {
     "name": "stdout",
     "output_type": "stream",
     "text": [
      "[32, 74, 919, 4, 4, 39, 228, 20, 33, 748]\n",
      "WARNING:tensorflow:Layer lstm_12 will not use cuDNN kernels since it doesn't meet the criteria. It will use a generic GPU kernel as fallback when running on GPU.\n",
      "Model: \"sequential_17\"\n",
      "_________________________________________________________________\n",
      "Layer (type)                 Output Shape              Param #   \n",
      "=================================================================\n",
      "embedding_18 (Embedding)     (None, None, 16)          160000    \n",
      "_________________________________________________________________\n",
      "lstm_12 (LSTM)               (None, 128)               74240     \n",
      "_________________________________________________________________\n",
      "dense_32 (Dense)             (None, 8)                 1032      \n",
      "_________________________________________________________________\n",
      "dense_33 (Dense)             (None, 1)                 9         \n",
      "=================================================================\n",
      "Total params: 235,281\n",
      "Trainable params: 235,281\n",
      "Non-trainable params: 0\n",
      "_________________________________________________________________\n",
      "Epoch 1/10\n",
      "208/208 [==============================] - 40s 182ms/step - loss: 0.4857 - accuracy: 0.7554 - val_loss: 0.3636 - val_accuracy: 0.8411\n",
      "Epoch 2/10\n",
      "208/208 [==============================] - 38s 181ms/step - loss: 0.3513 - accuracy: 0.8495 - val_loss: 0.3478 - val_accuracy: 0.8498\n",
      "Epoch 3/10\n",
      "208/208 [==============================] - 38s 182ms/step - loss: 0.3293 - accuracy: 0.8609 - val_loss: 0.3448 - val_accuracy: 0.8515\n",
      "Epoch 4/10\n",
      "208/208 [==============================] - 38s 181ms/step - loss: 0.3173 - accuracy: 0.8675 - val_loss: 0.3468 - val_accuracy: 0.8500\n",
      "Epoch 5/10\n",
      "208/208 [==============================] - 38s 183ms/step - loss: 0.3075 - accuracy: 0.8727 - val_loss: 0.3454 - val_accuracy: 0.8508\n",
      "Epoch 6/10\n",
      "208/208 [==============================] - 38s 184ms/step - loss: 0.2981 - accuracy: 0.8765 - val_loss: 0.3458 - val_accuracy: 0.8517\n",
      "Epoch 7/10\n",
      "208/208 [==============================] - 38s 182ms/step - loss: 0.2876 - accuracy: 0.8813 - val_loss: 0.3421 - val_accuracy: 0.8521\n",
      "Epoch 8/10\n",
      "208/208 [==============================] - 38s 181ms/step - loss: 0.2771 - accuracy: 0.8855 - val_loss: 0.3511 - val_accuracy: 0.8519\n",
      "Epoch 9/10\n",
      "208/208 [==============================] - 38s 183ms/step - loss: 0.2663 - accuracy: 0.8904 - val_loss: 0.3409 - val_accuracy: 0.8538\n",
      "Epoch 10/10\n",
      "208/208 [==============================] - 38s 181ms/step - loss: 0.2549 - accuracy: 0.8956 - val_loss: 0.3615 - val_accuracy: 0.8535\n",
      "1537/1537 - 18s - loss: 0.3693 - accuracy: 0.8487\n",
      "[0.36930957436561584, 0.8486685752868652]\n"
     ]
    },
    {
     "data": {
      "image/png": "[encoded data removed]",
      "text/plain": [
       "<Figure size 432x288 with 1 Axes>"
      ]
     },
     "metadata": {
      "needs_background": "light"
     },
     "output_type": "display_data"
    },
    {
     "data": {
      "image/png": "[encoded data removed]",
      "text/plain": [
       "<Figure size 432x288 with 1 Axes>"
      ]
     },
     "metadata": {
      "needs_background": "light"
     },
     "output_type": "display_data"
    }
   ],
   "source": [
    "X_train, y_train, X_test, y_test, word_to_index = load_data(train_data, test_data) \n",
    "print(X_train[0])\n",
    "\n",
    "# model 설계\n",
    "model = tf.keras.Sequential()\n",
    "model.add(tf.keras.layers.Embedding(vocab_size, word_vector_dim, input_shape=(None,)))\n",
    "model.add(tf.keras.layers.LSTM(128, dropout=0.3, recurrent_dropout=0.3))\n",
    "model.add(tf.keras.layers.Dense(8, activation='relu'))\n",
    "model.add(tf.keras.layers.Dense(1, activation='sigmoid'))\n",
    "model.summary()\n",
    "\n",
    "model_test(model, X_train, X_test, 10)"
   ]
  },
  {
   "cell_type": "markdown",
   "id": "144a03a0",
   "metadata": {},
   "source": [
    "- accuracy가 0.8487로 상승"
   ]
  },
  {
   "cell_type": "markdown",
   "id": "e3a5571e",
   "metadata": {},
   "source": [
    "#### 2. GRU 모델의 unit 개수를 128개로 하고 Recurrent Dropout을 추가함."
   ]
  },
  {
   "cell_type": "code",
   "execution_count": 144,
   "id": "eec4c99b",
   "metadata": {},
   "outputs": [
    {
     "name": "stdout",
     "output_type": "stream",
     "text": [
      "[32, 74, 919, 4, 4, 39, 228, 20, 33, 748]\n",
      "WARNING:tensorflow:Layer gru_1 will not use cuDNN kernels since it doesn't meet the criteria. It will use a generic GPU kernel as fallback when running on GPU.\n",
      "Model: \"sequential_12\"\n",
      "_________________________________________________________________\n",
      "Layer (type)                 Output Shape              Param #   \n",
      "=================================================================\n",
      "embedding_13 (Embedding)     (None, None, 16)          160000    \n",
      "_________________________________________________________________\n",
      "gru_1 (GRU)                  (None, 128)               56064     \n",
      "_________________________________________________________________\n",
      "dense_22 (Dense)             (None, 8)                 1032      \n",
      "_________________________________________________________________\n",
      "dense_23 (Dense)             (None, 1)                 9         \n",
      "=================================================================\n",
      "Total params: 217,105\n",
      "Trainable params: 217,105\n",
      "Non-trainable params: 0\n",
      "_________________________________________________________________\n",
      "Epoch 1/10\n",
      "208/208 [==============================] - 36s 165ms/step - loss: 0.4656 - accuracy: 0.7761 - val_loss: 0.3702 - val_accuracy: 0.8363\n",
      "Epoch 2/10\n",
      "208/208 [==============================] - 34s 164ms/step - loss: 0.3538 - accuracy: 0.8484 - val_loss: 0.3524 - val_accuracy: 0.8482\n",
      "Epoch 3/10\n",
      "208/208 [==============================] - 34s 164ms/step - loss: 0.3314 - accuracy: 0.8607 - val_loss: 0.3570 - val_accuracy: 0.8455\n",
      "Epoch 4/10\n",
      "208/208 [==============================] - 34s 163ms/step - loss: 0.3215 - accuracy: 0.8650 - val_loss: 0.3546 - val_accuracy: 0.8480\n",
      "Epoch 5/10\n",
      "208/208 [==============================] - 34s 165ms/step - loss: 0.3117 - accuracy: 0.8701 - val_loss: 0.3495 - val_accuracy: 0.8500\n",
      "Epoch 6/10\n",
      "208/208 [==============================] - 35s 166ms/step - loss: 0.3049 - accuracy: 0.8746 - val_loss: 0.3467 - val_accuracy: 0.8503\n",
      "Epoch 7/10\n",
      "208/208 [==============================] - 34s 163ms/step - loss: 0.2931 - accuracy: 0.8798 - val_loss: 0.3498 - val_accuracy: 0.8518\n",
      "Epoch 8/10\n",
      "208/208 [==============================] - 34s 165ms/step - loss: 0.2820 - accuracy: 0.8851 - val_loss: 0.3437 - val_accuracy: 0.8544\n",
      "Epoch 9/10\n",
      "208/208 [==============================] - 34s 164ms/step - loss: 0.2724 - accuracy: 0.8893 - val_loss: 0.3489 - val_accuracy: 0.8540\n",
      "Epoch 10/10\n",
      "208/208 [==============================] - 34s 164ms/step - loss: 0.2635 - accuracy: 0.8932 - val_loss: 0.3485 - val_accuracy: 0.8550\n",
      "1537/1537 - 18s - loss: 0.3581 - accuracy: 0.8495\n",
      "[0.35811662673950195, 0.8495026230812073]\n"
     ]
    },
    {
     "data": {
      "image/png": "[encoded data removed]",
      "text/plain": [
       "<Figure size 432x288 with 1 Axes>"
      ]
     },
     "metadata": {
      "needs_background": "light"
     },
     "output_type": "display_data"
    },
    {
     "data": {
      "image/png": "[encoded data removed]",
      "text/plain": [
       "<Figure size 432x288 with 1 Axes>"
      ]
     },
     "metadata": {
      "needs_background": "light"
     },
     "output_type": "display_data"
    }
   ],
   "source": [
    "X_train, y_train, X_test, y_test, word_to_index = load_data(train_data, test_data) \n",
    "print(X_train[0])\n",
    "\n",
    "# model 설계\n",
    "model = tf.keras.Sequential()\n",
    "model.add(tf.keras.layers.Embedding(vocab_size, word_vector_dim, input_shape=(None,)))\n",
    "model.add(tf.keras.layers.GRU(128, dropout=0.3, recurrent_dropout=0.3))\n",
    "model.add(tf.keras.layers.Dense(8, activation='relu'))\n",
    "model.add(tf.keras.layers.Dense(1, activation='sigmoid'))\n",
    "model.summary()\n",
    "\n",
    "model_test(model, X_train, X_test, 10)"
   ]
  },
  {
   "cell_type": "markdown",
   "id": "c24b688d",
   "metadata": {},
   "source": [
    "- accuracy가 0.8495로 1번 모델보다 좋음"
   ]
  },
  {
   "cell_type": "markdown",
   "id": "a9082375",
   "metadata": {},
   "source": [
    "#### 3. CNN의 conv1d사용"
   ]
  },
  {
   "cell_type": "code",
   "execution_count": 148,
   "id": "abc3180e",
   "metadata": {},
   "outputs": [
    {
     "name": "stdout",
     "output_type": "stream",
     "text": [
      "[32, 74, 919, 4, 4, 39, 228, 20, 33, 748]\n",
      "Model: \"sequential_16\"\n",
      "_________________________________________________________________\n",
      "Layer (type)                 Output Shape              Param #   \n",
      "=================================================================\n",
      "embedding_17 (Embedding)     (None, None, 16)          160000    \n",
      "_________________________________________________________________\n",
      "conv1d_1 (Conv1D)            (None, None, 128)         10368     \n",
      "_________________________________________________________________\n",
      "global_max_pooling1d_1 (Glob (None, 128)               0         \n",
      "_________________________________________________________________\n",
      "dense_30 (Dense)             (None, 128)               16512     \n",
      "_________________________________________________________________\n",
      "dense_31 (Dense)             (None, 1)                 129       \n",
      "=================================================================\n",
      "Total params: 187,009\n",
      "Trainable params: 187,009\n",
      "Non-trainable params: 0\n",
      "_________________________________________________________________\n",
      "Epoch 1/10\n",
      "208/208 [==============================] - 2s 8ms/step - loss: 0.4549 - accuracy: 0.7804 - val_loss: 0.3515 - val_accuracy: 0.8482\n",
      "Epoch 2/10\n",
      "208/208 [==============================] - 1s 7ms/step - loss: 0.3169 - accuracy: 0.8655 - val_loss: 0.3368 - val_accuracy: 0.8556\n",
      "Epoch 3/10\n",
      "208/208 [==============================] - 1s 7ms/step - loss: 0.2756 - accuracy: 0.8871 - val_loss: 0.3402 - val_accuracy: 0.8542\n",
      "Epoch 4/10\n",
      "208/208 [==============================] - 1s 7ms/step - loss: 0.2404 - accuracy: 0.9047 - val_loss: 0.3420 - val_accuracy: 0.8567\n",
      "Epoch 5/10\n",
      "208/208 [==============================] - 1s 7ms/step - loss: 0.2054 - accuracy: 0.9214 - val_loss: 0.3688 - val_accuracy: 0.8537\n",
      "Epoch 6/10\n",
      "208/208 [==============================] - 1s 7ms/step - loss: 0.1694 - accuracy: 0.9383 - val_loss: 0.3922 - val_accuracy: 0.8500\n",
      "Epoch 7/10\n",
      "208/208 [==============================] - 1s 7ms/step - loss: 0.1362 - accuracy: 0.9530 - val_loss: 0.4293 - val_accuracy: 0.8446\n",
      "Epoch 8/10\n",
      "208/208 [==============================] - 1s 7ms/step - loss: 0.1088 - accuracy: 0.9641 - val_loss: 0.4999 - val_accuracy: 0.8425\n",
      "Epoch 9/10\n",
      "208/208 [==============================] - 1s 7ms/step - loss: 0.0873 - accuracy: 0.9724 - val_loss: 0.5449 - val_accuracy: 0.8391\n",
      "Epoch 10/10\n",
      "208/208 [==============================] - 1s 7ms/step - loss: 0.0701 - accuracy: 0.9790 - val_loss: 0.6004 - val_accuracy: 0.8373\n",
      "1537/1537 - 2s - loss: 0.6375 - accuracy: 0.8310\n",
      "[0.6374961733818054, 0.8309701681137085]\n"
     ]
    },
    {
     "data": {
      "image/png": "[encoded data removed]",
      "text/plain": [
       "<Figure size 432x288 with 1 Axes>"
      ]
     },
     "metadata": {
      "needs_background": "light"
     },
     "output_type": "display_data"
    },
    {
     "data": {
      "image/png": "[encoded data removed]",
      "text/plain": [
       "<Figure size 432x288 with 1 Axes>"
      ]
     },
     "metadata": {
      "needs_background": "light"
     },
     "output_type": "display_data"
    }
   ],
   "source": [
    "X_train, y_train, X_test, y_test, word_to_index = load_data(train_data, test_data) \n",
    "print(X_train[0])\n",
    "\n",
    "# model 설계\n",
    "model = tf.keras.Sequential()\n",
    "model.add(tf.keras.layers.Embedding(vocab_size, word_vector_dim, input_shape=(None,)))\n",
    "model.add(tf.keras.layers.Conv1D(128, kernel_size=5, activation='relu'))\n",
    "model.add(tf.keras.layers.GlobalMaxPooling1D())\n",
    "model.add(tf.keras.layers.Dense(128, activation='relu'))\n",
    "model.add(tf.keras.layers.Dense(1, activation='sigmoid'))\n",
    "model.summary()\n",
    "\n",
    "model_test(model, X_train, X_test, 10)"
   ]
  },
  {
   "cell_type": "markdown",
   "id": "98f0802e",
   "metadata": {},
   "source": [
    "- accuracy는 0.8310이고 속도가 가장 빨랐음"
   ]
  },
  {
   "cell_type": "markdown",
   "id": "1a29102a",
   "metadata": {},
   "source": [
    "#### 4. 기본 모델에서 unit 개수만 8에서 32로 늘려봄."
   ]
  },
  {
   "cell_type": "code",
   "execution_count": 146,
   "id": "475dcdc4",
   "metadata": {},
   "outputs": [
    {
     "name": "stdout",
     "output_type": "stream",
     "text": [
      "Model: \"sequential_14\"\n",
      "_________________________________________________________________\n",
      "Layer (type)                 Output Shape              Param #   \n",
      "=================================================================\n",
      "embedding_15 (Embedding)     (None, None, 16)          160000    \n",
      "_________________________________________________________________\n",
      "lstm_10 (LSTM)               (None, 32)                6272      \n",
      "_________________________________________________________________\n",
      "dense_26 (Dense)             (None, 8)                 264       \n",
      "_________________________________________________________________\n",
      "dense_27 (Dense)             (None, 1)                 9         \n",
      "=================================================================\n",
      "Total params: 166,545\n",
      "Trainable params: 166,545\n",
      "Non-trainable params: 0\n",
      "_________________________________________________________________\n",
      "Epoch 1/10\n",
      "208/208 [==============================] - 3s 8ms/step - loss: 0.4821 - accuracy: 0.7670 - val_loss: 0.3657 - val_accuracy: 0.8389\n",
      "Epoch 2/10\n",
      "208/208 [==============================] - 1s 6ms/step - loss: 0.3387 - accuracy: 0.8559 - val_loss: 0.3522 - val_accuracy: 0.8478\n",
      "Epoch 3/10\n",
      "208/208 [==============================] - 1s 6ms/step - loss: 0.3190 - accuracy: 0.8668 - val_loss: 0.3557 - val_accuracy: 0.8472\n",
      "Epoch 4/10\n",
      "208/208 [==============================] - 1s 6ms/step - loss: 0.3077 - accuracy: 0.8716 - val_loss: 0.3519 - val_accuracy: 0.8487\n",
      "Epoch 5/10\n",
      "208/208 [==============================] - 1s 6ms/step - loss: 0.2981 - accuracy: 0.8762 - val_loss: 0.3519 - val_accuracy: 0.8491\n",
      "Epoch 6/10\n",
      "208/208 [==============================] - 1s 6ms/step - loss: 0.2874 - accuracy: 0.8821 - val_loss: 0.3584 - val_accuracy: 0.8467\n",
      "Epoch 7/10\n",
      "208/208 [==============================] - 1s 6ms/step - loss: 0.2782 - accuracy: 0.8865 - val_loss: 0.3569 - val_accuracy: 0.8478\n",
      "Epoch 8/10\n",
      "208/208 [==============================] - 1s 6ms/step - loss: 0.2665 - accuracy: 0.8930 - val_loss: 0.3605 - val_accuracy: 0.8468\n",
      "Epoch 9/10\n",
      "208/208 [==============================] - 1s 6ms/step - loss: 0.2553 - accuracy: 0.8988 - val_loss: 0.3702 - val_accuracy: 0.8455\n",
      "Epoch 10/10\n",
      "208/208 [==============================] - 1s 6ms/step - loss: 0.2432 - accuracy: 0.9041 - val_loss: 0.3754 - val_accuracy: 0.8448\n",
      "1537/1537 - 3s - loss: 0.3837 - accuracy: 0.8408\n",
      "[0.38370656967163086, 0.8407754898071289]\n"
     ]
    },
    {
     "data": {
      "image/png": "[encoded data removed]",
      "text/plain": [
       "<Figure size 432x288 with 1 Axes>"
      ]
     },
     "metadata": {
      "needs_background": "light"
     },
     "output_type": "display_data"
    },
    {
     "data": {
      "image/png": "[encoded data removed]",
      "text/plain": [
       "<Figure size 432x288 with 1 Axes>"
      ]
     },
     "metadata": {
      "needs_background": "light"
     },
     "output_type": "display_data"
    }
   ],
   "source": [
    "X_train, y_train, X_test, y_test, word_to_index = load_data(train_data, test_data) \n",
    "\n",
    "# model 설계\n",
    "model = tf.keras.Sequential()\n",
    "model.add(tf.keras.layers.Embedding(vocab_size, word_vector_dim, input_shape=(None,)))\n",
    "model.add(tf.keras.layers.LSTM(32))\n",
    "model.add(tf.keras.layers.Dense(8, activation='relu'))\n",
    "model.add(tf.keras.layers.Dense(1, activation='sigmoid'))\n",
    "model.summary()\n",
    "\n",
    "model_test(model, X_train, X_test, 10)"
   ]
  },
  {
   "cell_type": "markdown",
   "id": "a6dcf499",
   "metadata": {},
   "source": [
    "- unit 개수가 증가할수록 accuracy가 좋아지는 모습을 볼 수 있었다."
   ]
  },
  {
   "cell_type": "markdown",
   "id": "3cf88b6e",
   "metadata": {},
   "source": [
    "#### 5. 1번 모델에서 recurrent dropout을 적용하지 않은 모델"
   ]
  },
  {
   "cell_type": "code",
   "execution_count": 147,
   "id": "0f6046b8",
   "metadata": {},
   "outputs": [
    {
     "name": "stdout",
     "output_type": "stream",
     "text": [
      "Model: \"sequential_15\"\n",
      "_________________________________________________________________\n",
      "Layer (type)                 Output Shape              Param #   \n",
      "=================================================================\n",
      "embedding_16 (Embedding)     (None, None, 16)          160000    \n",
      "_________________________________________________________________\n",
      "lstm_11 (LSTM)               (None, 128)               74240     \n",
      "_________________________________________________________________\n",
      "dense_28 (Dense)             (None, 8)                 1032      \n",
      "_________________________________________________________________\n",
      "dense_29 (Dense)             (None, 1)                 9         \n",
      "=================================================================\n",
      "Total params: 235,281\n",
      "Trainable params: 235,281\n",
      "Non-trainable params: 0\n",
      "_________________________________________________________________\n",
      "Epoch 1/10\n",
      "208/208 [==============================] - 4s 12ms/step - loss: 0.5103 - accuracy: 0.7418 - val_loss: 0.3674 - val_accuracy: 0.8386\n",
      "Epoch 2/10\n",
      "208/208 [==============================] - 2s 10ms/step - loss: 0.3414 - accuracy: 0.8544 - val_loss: 0.3502 - val_accuracy: 0.8475\n",
      "Epoch 3/10\n",
      "208/208 [==============================] - 2s 10ms/step - loss: 0.3159 - accuracy: 0.8671 - val_loss: 0.3477 - val_accuracy: 0.8517\n",
      "Epoch 4/10\n",
      "208/208 [==============================] - 2s 10ms/step - loss: 0.3005 - accuracy: 0.8745 - val_loss: 0.3469 - val_accuracy: 0.8512\n",
      "Epoch 5/10\n",
      "208/208 [==============================] - 2s 10ms/step - loss: 0.2872 - accuracy: 0.8826 - val_loss: 0.3650 - val_accuracy: 0.8495\n",
      "Epoch 6/10\n",
      "208/208 [==============================] - 2s 10ms/step - loss: 0.2748 - accuracy: 0.8877 - val_loss: 0.3543 - val_accuracy: 0.8480\n",
      "Epoch 7/10\n",
      "208/208 [==============================] - 2s 10ms/step - loss: 0.2653 - accuracy: 0.8930 - val_loss: 0.3682 - val_accuracy: 0.8479\n",
      "Epoch 8/10\n",
      "208/208 [==============================] - 2s 10ms/step - loss: 0.2525 - accuracy: 0.8984 - val_loss: 0.3661 - val_accuracy: 0.8460\n",
      "Epoch 9/10\n",
      "208/208 [==============================] - 2s 10ms/step - loss: 0.2411 - accuracy: 0.9033 - val_loss: 0.3888 - val_accuracy: 0.8451\n",
      "Epoch 10/10\n",
      "208/208 [==============================] - 2s 10ms/step - loss: 0.2292 - accuracy: 0.9083 - val_loss: 0.3873 - val_accuracy: 0.8461\n",
      "1537/1537 - 3s - loss: 0.3929 - accuracy: 0.8426\n",
      "[0.39285945892333984, 0.8426470160484314]\n"
     ]
    },
    {
     "data": {
      "image/png": "[encoded data removed]",
      "text/plain": [
       "<Figure size 432x288 with 1 Axes>"
      ]
     },
     "metadata": {
      "needs_background": "light"
     },
     "output_type": "display_data"
    },
    {
     "data": {
      "image/png": "[encoded data removed]",
      "text/plain": [
       "<Figure size 432x288 with 1 Axes>"
      ]
     },
     "metadata": {
      "needs_background": "light"
     },
     "output_type": "display_data"
    }
   ],
   "source": [
    "X_train, y_train, X_test, y_test, word_to_index = load_data(train_data, test_data) \n",
    "\n",
    "# model 설계\n",
    "model = tf.keras.Sequential()\n",
    "model.add(tf.keras.layers.Embedding(vocab_size, word_vector_dim, input_shape=(None,)))\n",
    "model.add(tf.keras.layers.LSTM(128))\n",
    "model.add(tf.keras.layers.Dense(8, activation='relu'))\n",
    "model.add(tf.keras.layers.Dense(1, activation='sigmoid'))\n",
    "model.summary()\n",
    "\n",
    "model_test(model, X_train, X_test, 10)"
   ]
  },
  {
   "cell_type": "markdown",
   "id": "78e4dcb6",
   "metadata": {},
   "source": [
    "- recurrent dropout을 적용한 모델이 accuracy가 더 좋음"
   ]
  },
  {
   "cell_type": "markdown",
   "id": "bf7546fc",
   "metadata": {},
   "source": [
    "## Word2Vec"
   ]
  },
  {
   "cell_type": "markdown",
   "id": "a3d30e7c",
   "metadata": {},
   "source": [
    "### 학습된 Embedding 레이어 분석"
   ]
  },
  {
   "cell_type": "code",
   "execution_count": 150,
   "id": "e94acedd",
   "metadata": {},
   "outputs": [
    {
     "name": "stdout",
     "output_type": "stream",
     "text": [
      "(10000, 16)\n"
     ]
    }
   ],
   "source": [
    "embedding_layer = model.layers[0]   # 1번 모델 사용(원래는 1번 모델이 가장 좋았는데 학습된 임베딩 분석을 위해 다시 학습시키니 GRU보다 성능이 떨어짐)\n",
    "weights = embedding_layer.get_weights()[0]\n",
    "print(weights.shape)    # shape: (vocab_size, embedding_dim)"
   ]
  },
  {
   "cell_type": "code",
   "execution_count": 151,
   "id": "f50f95bc",
   "metadata": {},
   "outputs": [],
   "source": [
    "# 학습한 Embedding 파라미터를 파일에 써서 저장합니다. \n",
    "word2vec_file_path = 'word2vec.txt'\n",
    "f = open(word2vec_file_path, 'w')\n",
    "f.write('{} {}\\n'.format(vocab_size-4, word_vector_dim))  # 몇개의 벡터를 얼마 사이즈로 기재할지 타이틀을 씁니다.\n",
    "\n",
    "# 단어 개수(에서 특수문자 4개는 제외하고)만큼의 워드 벡터를 파일에 기록합니다. \n",
    "vectors = model.get_weights()[0]\n",
    "for i in range(1,vocab_size-3):\n",
    "    f.write('{} {}\\n'.format(index_to_word[i], ' '.join(map(str, list(vectors[i, :])))))\n",
    "f.close()"
   ]
  },
  {
   "cell_type": "code",
   "execution_count": 152,
   "id": "1cc7a73f",
   "metadata": {},
   "outputs": [
    {
     "data": {
      "text/plain": [
       "array([ 0.01160172,  0.00294956,  0.00558525, -0.0037075 , -0.01193209,\n",
       "        0.00576786,  0.00779008, -0.02378491, -0.00094846,  0.004616  ,\n",
       "        0.00242004, -0.01108154,  0.00851314, -0.02505308,  0.02695868,\n",
       "        0.00099263], dtype=float32)"
      ]
     },
     "execution_count": 152,
     "metadata": {},
     "output_type": "execute_result"
    }
   ],
   "source": [
    "from gensim.models.keyedvectors import Word2VecKeyedVectors\n",
    "\n",
    "word_vectors = Word2VecKeyedVectors.load_word2vec_format(word2vec_file_path, binary=False)\n",
    "vector = word_vectors['영화']\n",
    "vector"
   ]
  },
  {
   "cell_type": "code",
   "execution_count": 153,
   "id": "aa9ec804",
   "metadata": {},
   "outputs": [
    {
     "data": {
      "text/plain": [
       "[('기다린', 0.8962247371673584),\n",
       " ('니까요', 0.8789691925048828),\n",
       " ('다섯', 0.8788926005363464),\n",
       " ('싸인', 0.8756279349327087),\n",
       " ('댕기', 0.8679208755493164),\n",
       " ('였', 0.8639389872550964),\n",
       " ('건', 0.8553878664970398),\n",
       " ('으셨', 0.8434863686561584),\n",
       " ('한숨', 0.8242340683937073),\n",
       " ('비주얼', 0.8214759230613708)]"
      ]
     },
     "execution_count": 153,
     "metadata": {},
     "output_type": "execute_result"
    }
   ],
   "source": [
    "word_vectors.similar_by_word(\"재미\")"
   ]
  },
  {
   "cell_type": "markdown",
   "id": "dece7175",
   "metadata": {},
   "source": [
    "### 사전 학습된 Embedding 레이어 분석"
   ]
  },
  {
   "cell_type": "code",
   "execution_count": 164,
   "id": "9693a9f6",
   "metadata": {},
   "outputs": [
    {
     "name": "stdout",
     "output_type": "stream",
     "text": [
      "[-1.8007389  -1.1790098  -2.4066596   2.1384156  -0.3537603   1.3749527\n",
      " -4.894612   -3.6517198   0.4411444   0.78153926 -2.696888   -1.7812852\n",
      " -2.1514654  -4.813236    2.7465918  -2.1620324  -0.11467794 -1.2431171\n",
      "  2.3979309  -1.1060628  -0.41043055  1.9500391   0.7821002   1.5899978\n",
      "  1.6447444  -2.1265035  -1.7981595   1.7535795   0.53717697 -1.212121\n",
      " -4.466316    4.5488324   1.334441   -0.9070271   1.1931889   4.1563215\n",
      "  1.9758307  -0.9437562  -0.2592725   0.34935686  1.8562875  -3.3249645\n",
      "  1.1221625   1.2836524   3.9211376   3.8023994   2.766269    0.67293745\n",
      "  2.2853644  -5.1131716   0.32525915 -3.3079958   5.3043513  -3.8813758\n",
      " -0.32960036 -1.9527504   3.8865075  -3.5470378  -0.21991685  0.82119733\n",
      " -0.9492492   3.5472107   1.322048   -0.70640826  0.52253807  1.4683235\n",
      " -1.1018689   2.262941   -0.7204685  -1.766201    5.2237577   3.0748682\n",
      "  1.0977576   3.3191733  -0.4100423  -1.7022891  -0.78379875  0.82586575\n",
      " -0.54520637  1.2355382   2.02674    -0.652447    1.0866054   0.8977641\n",
      "  0.7928342   3.7770627   3.0274863   5.1660023   2.6461644   2.8926868\n",
      "  1.970944   -3.3746543  -5.2656593  -1.1041485   2.357547   -2.3570824\n",
      " -4.8172383   3.7290223   4.62329     1.5004613 ]\n"
     ]
    }
   ],
   "source": [
    "from gensim.models.keyedvectors import Word2VecKeyedVectors\n",
    "\n",
    "word2vec_path = os.getenv('HOME')+'/data/word2vec_ko.model'\n",
    "word2vec = Word2VecKeyedVectors.load(word2vec_path)\n",
    "\n",
    "vector = word2vec.wv['영화']\n",
    "print(vector)"
   ]
  },
  {
   "cell_type": "code",
   "execution_count": 165,
   "id": "5035d32e",
   "metadata": {},
   "outputs": [
    {
     "data": {
      "text/plain": [
       "[('묘미', 0.6163142919540405),\n",
       " ('취미', 0.6034970283508301),\n",
       " ('흥미', 0.5939850211143494),\n",
       " ('유머', 0.5888698101043701),\n",
       " ('보람', 0.5689517259597778),\n",
       " ('즐거움', 0.5631207823753357),\n",
       " ('개그', 0.5552946329116821),\n",
       " ('이야기', 0.5536993741989136),\n",
       " ('연애', 0.552293598651886),\n",
       " ('열의', 0.546456515789032)]"
      ]
     },
     "execution_count": 165,
     "metadata": {},
     "output_type": "execute_result"
    }
   ],
   "source": [
    "word2vec.wv.similar_by_word(\"재미\")"
   ]
  },
  {
   "cell_type": "markdown",
   "id": "a6668127",
   "metadata": {},
   "source": [
    "### 한국어 Word2Vec 임베딩 활용하여 성능 개선"
   ]
  },
  {
   "cell_type": "code",
   "execution_count": 172,
   "id": "ced1e53e",
   "metadata": {},
   "outputs": [],
   "source": [
    "vocab_size = 10000    # 어휘 사전의 크기(10,000개의 단어)\n",
    "word_vector_dim = 100  # 워드 벡터의 차원수\n",
    "embedding_matrix = np.random.rand(vocab_size, word_vector_dim)\n",
    "\n",
    "# embedding_matrix에 Word2Vec 워드 벡터를 단어 하나씩마다 차례차례 카피\n",
    "for i in range(4,vocab_size):\n",
    "    if index_to_word[i] in word2vec.wv:\n",
    "        embedding_matrix[i] = word2vec.wv[index_to_word[i]]"
   ]
  },
  {
   "cell_type": "code",
   "execution_count": 177,
   "id": "d11a1432",
   "metadata": {},
   "outputs": [
    {
     "name": "stdout",
     "output_type": "stream",
     "text": [
      "WARNING:tensorflow:Layer lstm_13 will not use cuDNN kernels since it doesn't meet the criteria. It will use a generic GPU kernel as fallback when running on GPU.\n",
      "Model: \"sequential_20\"\n",
      "_________________________________________________________________\n",
      "Layer (type)                 Output Shape              Param #   \n",
      "=================================================================\n",
      "embedding_21 (Embedding)     (None, 41, 100)           1000000   \n",
      "_________________________________________________________________\n",
      "lstm_13 (LSTM)               (None, 128)               117248    \n",
      "_________________________________________________________________\n",
      "dense_36 (Dense)             (None, 8)                 1032      \n",
      "_________________________________________________________________\n",
      "dense_37 (Dense)             (None, 1)                 9         \n",
      "=================================================================\n",
      "Total params: 1,118,289\n",
      "Trainable params: 1,118,289\n",
      "Non-trainable params: 0\n",
      "_________________________________________________________________\n",
      "[32, 74, 919, 4, 4, 39, 228, 20, 33, 748]\n",
      "Epoch 1/10\n",
      "208/208 [==============================] - 42s 192ms/step - loss: 0.5825 - accuracy: 0.6822 - val_loss: 0.4887 - val_accuracy: 0.7681\n",
      "Epoch 2/10\n",
      "208/208 [==============================] - 40s 190ms/step - loss: 0.4742 - accuracy: 0.7715 - val_loss: 0.4200 - val_accuracy: 0.8045\n",
      "Epoch 3/10\n",
      "208/208 [==============================] - 40s 190ms/step - loss: 0.4242 - accuracy: 0.8026 - val_loss: 0.3939 - val_accuracy: 0.8249\n",
      "Epoch 4/10\n",
      "208/208 [==============================] - 39s 190ms/step - loss: 0.3942 - accuracy: 0.8205 - val_loss: 0.3700 - val_accuracy: 0.8341\n",
      "Epoch 5/10\n",
      "208/208 [==============================] - 39s 190ms/step - loss: 0.3689 - accuracy: 0.8334 - val_loss: 0.3548 - val_accuracy: 0.8450\n",
      "Epoch 6/10\n",
      "208/208 [==============================] - 40s 191ms/step - loss: 0.3507 - accuracy: 0.8444 - val_loss: 0.3563 - val_accuracy: 0.8475\n",
      "Epoch 7/10\n",
      "208/208 [==============================] - 40s 190ms/step - loss: 0.3362 - accuracy: 0.8522 - val_loss: 0.3511 - val_accuracy: 0.8491\n",
      "Epoch 8/10\n",
      "208/208 [==============================] - 39s 189ms/step - loss: 0.3240 - accuracy: 0.8591 - val_loss: 0.3459 - val_accuracy: 0.8546\n",
      "Epoch 9/10\n",
      "208/208 [==============================] - 39s 190ms/step - loss: 0.3122 - accuracy: 0.8652 - val_loss: 0.3470 - val_accuracy: 0.8564\n",
      "Epoch 10/10\n",
      "208/208 [==============================] - 39s 189ms/step - loss: 0.3028 - accuracy: 0.8695 - val_loss: 0.3484 - val_accuracy: 0.8559\n",
      "1537/1537 - 18s - loss: 0.3590 - accuracy: 0.8512\n",
      "[0.35900282859802246, 0.851211428642273]\n"
     ]
    },
    {
     "data": {
      "image/png": "[encoded data removed]",
      "text/plain": [
       "<Figure size 432x288 with 1 Axes>"
      ]
     },
     "metadata": {
      "needs_background": "light"
     },
     "output_type": "display_data"
    },
    {
     "data": {
      "image/png": "[encoded data removed]",
      "text/plain": [
       "<Figure size 432x288 with 1 Axes>"
      ]
     },
     "metadata": {
      "needs_background": "light"
     },
     "output_type": "display_data"
    }
   ],
   "source": [
    "from tensorflow.keras.initializers import Constant\n",
    "\n",
    "# 모델 구성\n",
    "model = tf.keras.Sequential()\n",
    "model.add(tf.keras.layers.Embedding(vocab_size, \n",
    "                                 word_vector_dim, \n",
    "                                 embeddings_initializer=Constant(embedding_matrix),  # 카피한 임베딩을 여기서 활용\n",
    "                                 input_length=maxlen, \n",
    "                                 trainable=True))   # trainable을 True로 주면 Fine-tuning\n",
    "model.add(tf.keras.layers.LSTM(128, dropout=0.3, recurrent_dropout=0.3))\n",
    "model.add(tf.keras.layers.Dense(8, activation='relu'))\n",
    "model.add(tf.keras.layers.Dense(1, activation='sigmoid'))\n",
    "model.summary()\n",
    "\n",
    "\n",
    "X_train, y_train, X_test, y_test, word_to_index = load_data(train_data, test_data) \n",
    "print(X_train[0])\n",
    "\n",
    "model_test(model, X_train, X_test, 10)"
   ]
  },
  {
   "cell_type": "markdown",
   "id": "e551ca2b",
   "metadata": {},
   "source": [
    "> accuracy : 0.8512\n",
    "- 네이버 영화리뷰 데이터 감성분석 정확도를 85% 이상 달성"
   ]
  },
  {
   "cell_type": "markdown",
   "id": "8871eb19",
   "metadata": {},
   "source": [
    "#### 회고\n",
    "- 텍스트 데이터 전처리 과정에서 특수문자를 제거하는 것이 항상 좋은 것이 아니라 특수문자도 분석에 중요한 요인이 될 수 있다는 것을 알게 되었다.\n",
    "- 한 단어와 그와 가장 유사한 단어와의 유사도를 확인해보는 과정을 통해 단어를 임베딩한 임베딩 벡터의 역할을 잘 알 수 있었다."
   ]
  },
  {
   "cell_type": "code",
   "execution_count": null,
   "id": "99bcd108",
   "metadata": {},
   "outputs": [],
   "source": []
  }
 ],
 "metadata": {
  "kernelspec": {
   "display_name": "Python 3 (ipykernel)",
   "language": "python",
   "name": "python3"
  },
  "language_info": {
   "codemirror_mode": {
    "name": "ipython",
    "version": 3
   },
   "file_extension": ".py",
   "mimetype": "text/x-python",
   "name": "python",
   "nbconvert_exporter": "python",
   "pygments_lexer": "ipython3",
   "version": "3.9.7"
  }
 },
 "nbformat": 4,
 "nbformat_minor": 5
}
